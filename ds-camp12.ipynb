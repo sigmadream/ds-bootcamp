{
  "cells": [
    {
      "cell_type": "markdown",
      "metadata": {},
      "source": [
        "---\n",
        "title: (부록) pandas Cheat Sheet\n",
        "---"
      ]
    },
    {
      "cell_type": "markdown",
      "metadata": {},
      "source": [
        "- `pandas` 라이브러리는 사용하기 쉬운 고성능 데이터 구조와 데이터 분석 도구를 제공합니다. 주 데이터 구조는 `DataFrame`입니다. 이를 인-메모리(in-memory) 2D 테이블로 생각할 수 있습니다(열 이름과 행 레이블이 있는 스프레드시트와 비슷합니다). 엑셀에 있는 많은 기능을 프로그램에서 사용할 수 있습니다. 여기에는 피봇 테이블이나 다른 열을 기반으로 열을 계산하고 그래프 출력하는 기능 등이 포함됩니다. 열 값으로 행을 그룹핑할 수도 있습니다. 또한 SQL과 비슷하게 테이블을 조인할 수 있습니다. 판다스는 시계열 데이터를 다루는데도 뛰어납니다.\n",
        "\n",
        "- 필요 라이브러리:\n",
        "    - 넘파이(NumPy) – 넘파이에 익숙하지 않다면 지금 [넘파이 튜토리얼]을 둘러 보세요."
      ]
    },
    {
      "cell_type": "markdown",
      "metadata": {
        "id": "1Mita7dTS7Px"
      },
      "source": [
        "먼저 `pandas`를 임포트합니다. 보통 `pd`로 임포트합니다:"
      ]
    },
    {
      "cell_type": "code",
      "execution_count": null,
      "metadata": {
        "execution": {
          "iopub.execute_input": "2020-10-16T07:31:24.221923Z",
          "iopub.status.busy": "2020-10-16T07:31:24.220070Z",
          "iopub.status.idle": "2020-10-16T07:31:24.555259Z",
          "shell.execute_reply": "2020-10-16T07:31:24.556630Z"
        },
        "id": "SqxFOs-SS7Py"
      },
      "outputs": [],
      "source": [
        "import pandas as pd"
      ]
    },
    {
      "cell_type": "markdown",
      "metadata": {
        "id": "Ehs5DEU5S7Pz"
      },
      "source": [
        "## `Series` 객체\n",
        "- `pandas` 라이브러리는 다음과 같은 유용한 데이터 구조를 포함하고 있습니다:\n",
        "    - `Series` 객체는 1D 배열입니다. (열 이름과 행 레이블을 가진) 스프레드시트의 열과 비슷합니다.\n",
        "    - `DataFrame` 객체는 2D 테이블입니다. (열 이름과 행 레이블을 가진) 스프레드시트와 비슷합니다.\n",
        "    - `Panel` 객체. `Panel`을 `DataFrame`의 딕셔너리로 볼 수 있습니다. 자주 사용되지는 않기 때문에 다루지 않습니다."
      ]
    },
    {
      "cell_type": "markdown",
      "metadata": {
        "id": "nAJJiAFLS7Pz"
      },
      "source": [
        "### `Series` 만들기\n",
        "첫 번째 `Series` 객체를 만들어 보죠!"
      ]
    },
    {
      "cell_type": "code",
      "execution_count": null,
      "metadata": {
        "colab": {
          "base_uri": "https://localhost:8080/"
        },
        "execution": {
          "iopub.execute_input": "2020-10-16T07:31:24.570090Z",
          "iopub.status.busy": "2020-10-16T07:31:24.568601Z",
          "iopub.status.idle": "2020-10-16T07:31:24.577334Z",
          "shell.execute_reply": "2020-10-16T07:31:24.578463Z"
        },
        "id": "XppscFAmS7Pz",
        "outputId": "51cf2215-123b-4799-c5a7-756fb3aec6ae"
      },
      "outputs": [],
      "source": [
        "s = pd.Series([2,-1,3,5])\n",
        "s"
      ]
    },
    {
      "cell_type": "markdown",
      "metadata": {
        "id": "jp1OYLj2S7P0"
      },
      "source": [
        "### 1D `ndarray`와 비슷합니다\n",
        "`Series` 객체는 넘파이 `ndarray`와 비슷하게 동작합니다. 넘파이 함수에 매개변수로 종종 전달할 수 있습니다:"
      ]
    },
    {
      "cell_type": "code",
      "execution_count": null,
      "metadata": {
        "colab": {
          "base_uri": "https://localhost:8080/"
        },
        "execution": {
          "iopub.execute_input": "2020-10-16T07:31:24.588613Z",
          "iopub.status.busy": "2020-10-16T07:31:24.587550Z",
          "iopub.status.idle": "2020-10-16T07:31:24.592275Z",
          "shell.execute_reply": "2020-10-16T07:31:24.593060Z"
        },
        "id": "R-QLP_1JS7P0",
        "outputId": "28894641-de4f-4f09-e6fa-79b83ce56579"
      },
      "outputs": [],
      "source": [
        "import numpy as np\n",
        "np.exp(s)"
      ]
    },
    {
      "cell_type": "markdown",
      "metadata": {
        "id": "NczDoyW2S7P1"
      },
      "source": [
        "`Series` 객체에 대한 산술 연산도 가능합니다. `ndarray`와 비슷하게 *원소별*로 적용됩니다:"
      ]
    },
    {
      "cell_type": "code",
      "execution_count": null,
      "metadata": {
        "colab": {
          "base_uri": "https://localhost:8080/"
        },
        "execution": {
          "iopub.execute_input": "2020-10-16T07:31:24.600732Z",
          "iopub.status.busy": "2020-10-16T07:31:24.599483Z",
          "iopub.status.idle": "2020-10-16T07:31:24.613392Z",
          "shell.execute_reply": "2020-10-16T07:31:24.614382Z"
        },
        "id": "VuwgaFcoS7P1",
        "outputId": "8eccd531-df23-42be-f749-dd42aefac0da"
      },
      "outputs": [],
      "source": [
        "s + [1000,2000,3000,4000]"
      ]
    },
    {
      "cell_type": "markdown",
      "metadata": {
        "id": "RhwdLQ6LS7P1"
      },
      "source": [
        "넘파이와 비슷하게 `Series`에 하나의 숫자를 더하면 `Series`에 있는 모든 원소에 더해집니다. 이를 *브로드캐스팅*(broadcasting)이라고 합니다."
      ]
    },
    {
      "cell_type": "code",
      "execution_count": null,
      "metadata": {
        "colab": {
          "base_uri": "https://localhost:8080/"
        },
        "execution": {
          "iopub.execute_input": "2020-10-16T07:31:24.623100Z",
          "iopub.status.busy": "2020-10-16T07:31:24.621859Z",
          "iopub.status.idle": "2020-10-16T07:31:24.626335Z",
          "shell.execute_reply": "2020-10-16T07:31:24.627258Z"
        },
        "id": "PTyz8yQQS7P2",
        "outputId": "27d79613-9a40-45f4-cf7c-e0e7f0d1ffef"
      },
      "outputs": [],
      "source": [
        "s + 1000"
      ]
    },
    {
      "cell_type": "markdown",
      "metadata": {
        "id": "9z3ZyjZbS7P2"
      },
      "source": [
        "`*`나 `/` 같은 모든 이항 연산과 심지어 조건 연산에서도 마찬가지입니다:"
      ]
    },
    {
      "cell_type": "code",
      "execution_count": null,
      "metadata": {
        "colab": {
          "base_uri": "https://localhost:8080/"
        },
        "execution": {
          "iopub.execute_input": "2020-10-16T07:31:24.636724Z",
          "iopub.status.busy": "2020-10-16T07:31:24.635629Z",
          "iopub.status.idle": "2020-10-16T07:31:24.640020Z",
          "shell.execute_reply": "2020-10-16T07:31:24.641002Z"
        },
        "id": "M9mrVXbwS7P2",
        "outputId": "6cd4e9fd-d4c9-4c24-9ef8-93f36838571c"
      },
      "outputs": [],
      "source": [
        "s < 0"
      ]
    },
    {
      "cell_type": "markdown",
      "metadata": {
        "id": "KAbSy4vVS7P2"
      },
      "source": [
        "### 인덱스 레이블\n",
        "\n",
        "`Series` 객체에 있는 각 원소는 *인덱스 레이블*(index label)이라 불리는 고유한 식별자를 가지고 있습니다. 기본적으로 `Series`에 있는 원소의 순서입니다(`0`에서 시작합니다). 하지만 수동으로 인덱스 레이블을 지정할 수도 있습니다:"
      ]
    },
    {
      "cell_type": "code",
      "execution_count": null,
      "metadata": {
        "colab": {
          "base_uri": "https://localhost:8080/"
        },
        "execution": {
          "iopub.execute_input": "2020-10-16T07:31:24.652237Z",
          "iopub.status.busy": "2020-10-16T07:31:24.651072Z",
          "iopub.status.idle": "2020-10-16T07:31:24.655568Z",
          "shell.execute_reply": "2020-10-16T07:31:24.656530Z"
        },
        "id": "Xo43vVYYS7P2",
        "outputId": "132b75fc-8b00-4647-c739-15b0f231215b"
      },
      "outputs": [],
      "source": [
        "s2 = pd.Series([68, 83, 112, 68], index=[\"alice\", \"bob\", \"charles\", \"darwin\"])\n",
        "s2"
      ]
    },
    {
      "cell_type": "markdown",
      "metadata": {
        "id": "chNuWd5gS7P3"
      },
      "source": [
        "그다음 `dict`처럼 `Series`를 사용할 수 있습니다:"
      ]
    },
    {
      "cell_type": "code",
      "execution_count": null,
      "metadata": {
        "colab": {
          "base_uri": "https://localhost:8080/"
        },
        "execution": {
          "iopub.execute_input": "2020-10-16T07:31:24.664537Z",
          "iopub.status.busy": "2020-10-16T07:31:24.663371Z",
          "iopub.status.idle": "2020-10-16T07:31:24.667750Z",
          "shell.execute_reply": "2020-10-16T07:31:24.668655Z"
        },
        "id": "zxXMrglnS7P3",
        "outputId": "8075768f-0af4-4bc8-9bd8-5aa9a0942d44"
      },
      "outputs": [],
      "source": [
        "s2[\"bob\"]"
      ]
    },
    {
      "cell_type": "markdown",
      "metadata": {
        "id": "TEKgYQttS7P3"
      },
      "source": [
        "일반 배열처럼 정수 인덱스를 사용하여 계속 원소에 접근할 수 있습니다:"
      ]
    },
    {
      "cell_type": "code",
      "execution_count": null,
      "metadata": {
        "colab": {
          "base_uri": "https://localhost:8080/"
        },
        "execution": {
          "iopub.execute_input": "2020-10-16T07:31:24.676616Z",
          "iopub.status.busy": "2020-10-16T07:31:24.675524Z",
          "iopub.status.idle": "2020-10-16T07:31:24.680902Z",
          "shell.execute_reply": "2020-10-16T07:31:24.679919Z"
        },
        "id": "fz6PqdHNS7P3",
        "outputId": "a1e02718-5588-48f8-bcf5-f4ca6170c6fe"
      },
      "outputs": [],
      "source": [
        "s2[1]"
      ]
    },
    {
      "cell_type": "markdown",
      "metadata": {
        "id": "j9DhIjotS7P3"
      },
      "source": [
        "레이블이나 정수를 사용해 접근할 때 명확하게 하기 위해 레이블은 `loc` 속성을 사용하고 정수는 `iloc` 속성을 사용하는 것이 좋습니다:"
      ]
    },
    {
      "cell_type": "code",
      "execution_count": null,
      "metadata": {
        "colab": {
          "base_uri": "https://localhost:8080/"
        },
        "execution": {
          "iopub.execute_input": "2020-10-16T07:31:24.688670Z",
          "iopub.status.busy": "2020-10-16T07:31:24.687572Z",
          "iopub.status.idle": "2020-10-16T07:31:24.691843Z",
          "shell.execute_reply": "2020-10-16T07:31:24.692745Z"
        },
        "id": "lVO5lgJlS7P4",
        "outputId": "4010df5d-abef-4aeb-b39c-8191f7db261e"
      },
      "outputs": [],
      "source": [
        "s2.loc[\"bob\"]"
      ]
    },
    {
      "cell_type": "code",
      "execution_count": null,
      "metadata": {
        "colab": {
          "base_uri": "https://localhost:8080/"
        },
        "execution": {
          "iopub.execute_input": "2020-10-16T07:31:24.700414Z",
          "iopub.status.busy": "2020-10-16T07:31:24.699308Z",
          "iopub.status.idle": "2020-10-16T07:31:24.704534Z",
          "shell.execute_reply": "2020-10-16T07:31:24.703582Z"
        },
        "id": "M4BX7vKcS7P4",
        "outputId": "e196e5e5-5955-4c42-b6f1-47c1ba9b089e"
      },
      "outputs": [],
      "source": [
        "s2.iloc[1]"
      ]
    },
    {
      "cell_type": "markdown",
      "metadata": {
        "id": "ipJOV9BHS7P4"
      },
      "source": [
        "`Series`는 인덱스 레이블을 슬라이싱할 수도 있습니다:"
      ]
    },
    {
      "cell_type": "code",
      "execution_count": null,
      "metadata": {
        "colab": {
          "base_uri": "https://localhost:8080/"
        },
        "execution": {
          "iopub.execute_input": "2020-10-16T07:31:24.713637Z",
          "iopub.status.busy": "2020-10-16T07:31:24.712448Z",
          "iopub.status.idle": "2020-10-16T07:31:24.717062Z",
          "shell.execute_reply": "2020-10-16T07:31:24.718032Z"
        },
        "id": "dC5Pus_9S7P4",
        "outputId": "9a82f2e7-ce72-4487-feb3-a7b7621e0cbf"
      },
      "outputs": [],
      "source": [
        "s2.iloc[1:3]"
      ]
    },
    {
      "cell_type": "markdown",
      "metadata": {
        "id": "kE1h2AuYS7P4"
      },
      "source": [
        "기본 정수 레이블을 사용할 때 예상 외의 결과를 만들 수 있기 때문에 주의해야 합니다:"
      ]
    },
    {
      "cell_type": "code",
      "execution_count": null,
      "metadata": {
        "colab": {
          "base_uri": "https://localhost:8080/"
        },
        "execution": {
          "iopub.execute_input": "2020-10-16T07:31:24.727693Z",
          "iopub.status.busy": "2020-10-16T07:31:24.726532Z",
          "iopub.status.idle": "2020-10-16T07:31:24.731715Z",
          "shell.execute_reply": "2020-10-16T07:31:24.730767Z"
        },
        "id": "lPLKSbtDS7P4",
        "outputId": "57356158-7dc5-4d4c-a27b-826e8c723577"
      },
      "outputs": [],
      "source": [
        "surprise = pd.Series([1000, 1001, 1002, 1003])\n",
        "surprise"
      ]
    },
    {
      "cell_type": "code",
      "execution_count": null,
      "metadata": {
        "colab": {
          "base_uri": "https://localhost:8080/"
        },
        "execution": {
          "iopub.execute_input": "2020-10-16T07:31:24.743690Z",
          "iopub.status.busy": "2020-10-16T07:31:24.742592Z",
          "iopub.status.idle": "2020-10-16T07:31:24.747552Z",
          "shell.execute_reply": "2020-10-16T07:31:24.748475Z"
        },
        "id": "c4sKD_ZXS7P5",
        "outputId": "2f9109e6-8404-4ba2-f009-701528a599df"
      },
      "outputs": [],
      "source": [
        "surprise_slice = surprise[2:]\n",
        "surprise_slice"
      ]
    },
    {
      "cell_type": "markdown",
      "metadata": {
        "id": "67QNlsFzS7P5"
      },
      "source": [
        "보세요. 첫 번째 원소의 인덱스 레이블이 `2`입니다. 따라서 슬라이싱 결과에서 인덱스 레이블 `0`인 원소는 없습니다:"
      ]
    },
    {
      "cell_type": "code",
      "execution_count": null,
      "metadata": {
        "colab": {
          "base_uri": "https://localhost:8080/"
        },
        "execution": {
          "iopub.execute_input": "2020-10-16T07:31:24.756602Z",
          "iopub.status.busy": "2020-10-16T07:31:24.755419Z",
          "iopub.status.idle": "2020-10-16T07:31:24.759801Z",
          "shell.execute_reply": "2020-10-16T07:31:24.760708Z"
        },
        "id": "bqXXtNqXS7P5",
        "outputId": "30db5192-1971-4686-a847-a1315c060ffb"
      },
      "outputs": [],
      "source": [
        "try:\n",
        "    surprise_slice[0]\n",
        "except KeyError as e:\n",
        "    print(\"키 에러:\", e)"
      ]
    },
    {
      "cell_type": "markdown",
      "metadata": {
        "id": "lfFNZok9S7P5"
      },
      "source": [
        "하지만 `iloc` 속성을 사용해 정수 인덱스로 원소에 접근할 수 있습니다. `Series` 객체를 사용할 때 `loc`와 `iloc`를 사용하는 것이 좋은 이유입니다:"
      ]
    },
    {
      "cell_type": "code",
      "execution_count": null,
      "metadata": {
        "colab": {
          "base_uri": "https://localhost:8080/"
        },
        "execution": {
          "iopub.execute_input": "2020-10-16T07:31:24.768724Z",
          "iopub.status.busy": "2020-10-16T07:31:24.767621Z",
          "iopub.status.idle": "2020-10-16T07:31:24.772216Z",
          "shell.execute_reply": "2020-10-16T07:31:24.773102Z"
        },
        "id": "TG9FxMIzS7P5",
        "outputId": "40d522f1-f1f4-4a68-f96f-6da986b924b3"
      },
      "outputs": [],
      "source": [
        "surprise_slice.iloc[0]"
      ]
    },
    {
      "cell_type": "markdown",
      "metadata": {
        "id": "JjwYlSIoS7P5"
      },
      "source": [
        "### `dict`에서 초기화\n",
        "\n",
        "`dict`에서 `Series` 객체를 만들 수 있습니다. 키는 인덱스 레이블로 사용됩니다:"
      ]
    },
    {
      "cell_type": "code",
      "execution_count": null,
      "metadata": {
        "colab": {
          "base_uri": "https://localhost:8080/"
        },
        "execution": {
          "iopub.execute_input": "2020-10-16T07:31:24.787621Z",
          "iopub.status.busy": "2020-10-16T07:31:24.786507Z",
          "iopub.status.idle": "2020-10-16T07:31:24.792357Z",
          "shell.execute_reply": "2020-10-16T07:31:24.791273Z"
        },
        "id": "bcOYbOXnS7P5",
        "outputId": "4ea01c21-20a0-4c73-974e-ff33c889b945"
      },
      "outputs": [],
      "source": [
        "weights = {\"alice\": 68, \"bob\": 83, \"colin\": 86, \"darwin\": 68}\n",
        "s3 = pd.Series(weights)\n",
        "s3"
      ]
    },
    {
      "cell_type": "markdown",
      "metadata": {
        "id": "gH76JsK8S7P6"
      },
      "source": [
        "`Series`에 포함할 원소를 제어하고 `index`를 지정하여 명시적으로 순서를 결정할 수 있습니다:"
      ]
    },
    {
      "cell_type": "code",
      "execution_count": null,
      "metadata": {
        "colab": {
          "base_uri": "https://localhost:8080/"
        },
        "execution": {
          "iopub.execute_input": "2020-10-16T07:31:24.802869Z",
          "iopub.status.busy": "2020-10-16T07:31:24.801619Z",
          "iopub.status.idle": "2020-10-16T07:31:24.805950Z",
          "shell.execute_reply": "2020-10-16T07:31:24.806812Z"
        },
        "id": "elYJKaeDS7P6",
        "outputId": "3b1c8478-f54a-4967-92ad-aececa89569e"
      },
      "outputs": [],
      "source": [
        "s4 = pd.Series(weights, index = [\"colin\", \"alice\"])\n",
        "s4"
      ]
    },
    {
      "cell_type": "markdown",
      "metadata": {
        "id": "HPvm__ryS7P6"
      },
      "source": [
        "### 자동 정렬\n",
        "\n",
        "여러 개의 `Series` 객체를 다룰 때 `pandas`는 자동으로 인덱스 레이블에 따라 원소를 정렬합니다."
      ]
    },
    {
      "cell_type": "code",
      "execution_count": null,
      "metadata": {
        "colab": {
          "base_uri": "https://localhost:8080/"
        },
        "execution": {
          "iopub.execute_input": "2020-10-16T07:31:24.819432Z",
          "iopub.status.busy": "2020-10-16T07:31:24.818333Z",
          "iopub.status.idle": "2020-10-16T07:31:24.824399Z",
          "shell.execute_reply": "2020-10-16T07:31:24.825448Z"
        },
        "id": "rp7VmTE4S7P-",
        "outputId": "a64f31f8-2a93-43cd-ffa7-7fb032a70dd4"
      },
      "outputs": [],
      "source": [
        "print(s2.keys())\n",
        "print(s3.keys())\n",
        "\n",
        "s2 + s3"
      ]
    },
    {
      "cell_type": "markdown",
      "metadata": {
        "id": "vGBtYjfCS7P-"
      },
      "source": [
        "만들어진 `Series`는 `s2`와 `s3`의 인덱스 레이블의 합집합을 담고 있습니다. `s2`에 `\"colin\"`이 없고 `s3`에 `\"charles\"`가 없기 때문에 이 원소는 `NaN` 값을 가집니다(Not-a-Number는 *누락*이란 의미입니다).\n",
        "\n",
        "자동 정렬은 구조가 다고 누락된 값이 있는 여러 데이터를 다룰 때 매우 편리합니다. 하지만 올바른 인덱스 레이블을 지정하는 것을 잊는다면 원치않는 결과를 얻을 수 있습니다:"
      ]
    },
    {
      "cell_type": "code",
      "execution_count": null,
      "metadata": {
        "colab": {
          "base_uri": "https://localhost:8080/"
        },
        "execution": {
          "iopub.execute_input": "2020-10-16T07:31:24.839789Z",
          "iopub.status.busy": "2020-10-16T07:31:24.838536Z",
          "iopub.status.idle": "2020-10-16T07:31:24.845810Z",
          "shell.execute_reply": "2020-10-16T07:31:24.846735Z"
        },
        "id": "d_Laf_RVS7P-",
        "outputId": "a9a4e54a-7e55-41cb-e732-0ecfacbe33a5"
      },
      "outputs": [],
      "source": [
        "s5 = pd.Series([1000,1000,1000,1000])\n",
        "print(\"s2 =\", s2.values)\n",
        "print(\"s5 =\", s5.values)\n",
        "\n",
        "s2 + s5"
      ]
    },
    {
      "cell_type": "markdown",
      "metadata": {
        "id": "TkVhXOcvS7P-"
      },
      "source": [
        "레이블이 하나도 맞지 않기 때문에 판다스가 이 `Series`를 정렬할 수 없습니다. 따라서 모두 `NaN`이 되었습니다."
      ]
    },
    {
      "cell_type": "markdown",
      "metadata": {
        "id": "mvcrxuJ3S7P-"
      },
      "source": [
        "### 스칼라로 초기화\n",
        "\n",
        "스칼라와 인덱스 레이블의 리스트로 `Series` 객체를 초기화할 수도 있습니다: 모든 원소가 이 스칼라 값으로 설정됩니다."
      ]
    },
    {
      "cell_type": "code",
      "execution_count": null,
      "metadata": {
        "colab": {
          "base_uri": "https://localhost:8080/"
        },
        "execution": {
          "iopub.execute_input": "2020-10-16T07:31:24.857808Z",
          "iopub.status.busy": "2020-10-16T07:31:24.856592Z",
          "iopub.status.idle": "2020-10-16T07:31:24.861265Z",
          "shell.execute_reply": "2020-10-16T07:31:24.862233Z"
        },
        "id": "zUOFR5ZkS7P-",
        "outputId": "687eedff-fd01-40d4-95b6-d789aa272075"
      },
      "outputs": [],
      "source": [
        "meaning = pd.Series(42, [\"life\", \"universe\", \"everything\"])\n",
        "meaning"
      ]
    },
    {
      "cell_type": "markdown",
      "metadata": {
        "id": "7SPvoEwwS7P_"
      },
      "source": [
        "### `Series` 이름\n",
        "\n",
        "`Series`는 `name`을 가질 수 있습니다:"
      ]
    },
    {
      "cell_type": "code",
      "execution_count": null,
      "metadata": {
        "colab": {
          "base_uri": "https://localhost:8080/"
        },
        "execution": {
          "iopub.execute_input": "2020-10-16T07:31:24.874388Z",
          "iopub.status.busy": "2020-10-16T07:31:24.873208Z",
          "iopub.status.idle": "2020-10-16T07:31:24.878224Z",
          "shell.execute_reply": "2020-10-16T07:31:24.879152Z"
        },
        "id": "uMtUDJUwS7P_",
        "outputId": "61b60b4e-bd5d-45b7-9f1e-fb2202985d19"
      },
      "outputs": [],
      "source": [
        "s6 = pd.Series([83, 68], index=[\"bob\", \"alice\"], name=\"weights\")\n",
        "s6"
      ]
    },
    {
      "cell_type": "markdown",
      "metadata": {
        "id": "UxaeLDyMS7P_"
      },
      "source": [
        "### `Series` 그래프 출력\n",
        "\n",
        "맷플롯립을 사용해 `Series` 데이터를 쉽게 그래프로 출력할 수 있습니다(맷플롯립에 대한 자세한 설명은 [맷플롯립 튜토리얼]을 참고하세요). 맷플롯립을 임포트하고 `plot()` 메서드를 호출하면 끝입니다:"
      ]
    },
    {
      "cell_type": "code",
      "execution_count": null,
      "metadata": {
        "colab": {
          "base_uri": "https://localhost:8080/",
          "height": 430
        },
        "execution": {
          "iopub.execute_input": "2020-10-16T07:31:24.893980Z",
          "iopub.status.busy": "2020-10-16T07:31:24.892680Z",
          "iopub.status.idle": "2020-10-16T07:31:25.181629Z",
          "shell.execute_reply": "2020-10-16T07:31:25.183074Z"
        },
        "id": "9hqC4gVFS7P_",
        "outputId": "510ad128-9fa0-4b27-d750-aab3417ed32c",
        "scrolled": true
      },
      "outputs": [],
      "source": [
        "import matplotlib.pyplot as plt\n",
        "temperatures = [4.4,5.1,6.1,6.2,6.1,6.1,5.7,5.2,4.7,4.1,3.9,3.5]\n",
        "s7 = pd.Series(temperatures, name=\"Temperature\")\n",
        "s7.plot()\n",
        "plt.show()"
      ]
    },
    {
      "cell_type": "markdown",
      "metadata": {
        "id": "wHYed33uS7P_"
      },
      "source": [
        "데이터를 그래프로 출력하는데 많은 *옵션*이 있습니다. 여기에서 모두 나열할 필요는 없습니다. 특정 종류의 그래프(히스토그램, 파이 차트 등)가 필요하면 판다스 문서의 [시각화](http://pandas.pydata.org/pandas-docs/stable/visualization.html) 섹션에서 예제 코드를 참고하세요."
      ]
    },
    {
      "cell_type": "markdown",
      "metadata": {
        "id": "jqM9bjHKS7P_"
      },
      "source": [
        "## 시간 다루기\n",
        "- 많은 데이터셋에 타임스탬프가 포함되어 있습니다. 판다스는 이런 데이터를 다루는데 뛰어납니다.\n",
        "    - (2016Q3 같은) 기간과 (\"monthly\" 같은) 빈도를 표현할 수 있습니다.\n",
        "    - 기간을 실제 타임스탬프로 변환하거나 그 반대로 변환할 수 있습니다.\n",
        "    - 데이터를 리샘플링하고 원하는 방식으로 값을 모을 수 있습니다.\n",
        "    - 시간대를 다룰 수 있습니다.\n",
        "\n",
        "### 시간 범위\n",
        "먼저 `pd.date_range()`를 사용해 시계열을 만들어 보죠. 이 함수는 2016년 10월 29일 5:30pm에서 시작하여 12시간마다 하나의 datetime을 담고 있는 `DatetimeIndex`를 반환합니다."
      ]
    },
    {
      "cell_type": "code",
      "execution_count": null,
      "metadata": {
        "colab": {
          "base_uri": "https://localhost:8080/"
        },
        "execution": {
          "iopub.execute_input": "2020-10-16T07:31:25.201288Z",
          "iopub.status.busy": "2020-10-16T07:31:25.199933Z",
          "iopub.status.idle": "2020-10-16T07:31:25.204600Z",
          "shell.execute_reply": "2020-10-16T07:31:25.205726Z"
        },
        "id": "v3MLSG5AS7QA",
        "outputId": "9c94df58-e3b1-4946-f6bb-ed2a5e655e83"
      },
      "outputs": [],
      "source": [
        "dates = pd.date_range('2016/10/29 5:30pm', periods=12, freq='H')\n",
        "dates"
      ]
    },
    {
      "cell_type": "markdown",
      "metadata": {
        "id": "H79G1jBOS7QA"
      },
      "source": [
        "이 `DatetimeIndex`를 `Series`의 인덱스로 사용할수 있습니다:"
      ]
    },
    {
      "cell_type": "code",
      "execution_count": null,
      "metadata": {
        "colab": {
          "base_uri": "https://localhost:8080/"
        },
        "execution": {
          "iopub.execute_input": "2020-10-16T07:31:25.217308Z",
          "iopub.status.busy": "2020-10-16T07:31:25.215973Z",
          "iopub.status.idle": "2020-10-16T07:31:25.220460Z",
          "shell.execute_reply": "2020-10-16T07:31:25.221384Z"
        },
        "id": "JoBO7sVMS7QA",
        "outputId": "375462ef-0222-4722-ddd2-f6407a70ffd8"
      },
      "outputs": [],
      "source": [
        "temp_series = pd.Series(temperatures, dates)\n",
        "temp_series"
      ]
    },
    {
      "cell_type": "markdown",
      "metadata": {
        "id": "X7rBwrgzS7QA"
      },
      "source": [
        "이 시리즈를 그래프로 출력해 보죠:"
      ]
    },
    {
      "cell_type": "code",
      "execution_count": null,
      "metadata": {
        "colab": {
          "base_uri": "https://localhost:8080/",
          "height": 562
        },
        "execution": {
          "iopub.execute_input": "2020-10-16T07:31:25.250697Z",
          "iopub.status.busy": "2020-10-16T07:31:25.249514Z",
          "iopub.status.idle": "2020-10-16T07:31:25.416215Z",
          "shell.execute_reply": "2020-10-16T07:31:25.417660Z"
        },
        "id": "JJJPUJ37S7QA",
        "outputId": "db321591-b414-49ec-b3d9-621e134784f6"
      },
      "outputs": [],
      "source": [
        "temp_series.plot(kind=\"bar\")\n",
        "\n",
        "plt.grid(True)\n",
        "plt.show()"
      ]
    },
    {
      "cell_type": "markdown",
      "metadata": {
        "id": "ppThHkZLS7QA"
      },
      "source": [
        "## 리샘플링\n",
        "\n",
        "판다스는 매우 간단하게 시계열을 리샘플링할 수 있습니다. `resample()` 메서드를 호출하고 새로운 주기를 지정하면 됩니다:"
      ]
    },
    {
      "cell_type": "code",
      "execution_count": null,
      "metadata": {
        "colab": {
          "base_uri": "https://localhost:8080/"
        },
        "execution": {
          "iopub.execute_input": "2020-10-16T07:31:25.425130Z",
          "iopub.status.busy": "2020-10-16T07:31:25.424093Z",
          "iopub.status.idle": "2020-10-16T07:31:25.441445Z",
          "shell.execute_reply": "2020-10-16T07:31:25.440279Z"
        },
        "id": "jWet0sVOS7QB",
        "outputId": "24ce1501-4377-4918-9fba-346190e8bf33"
      },
      "outputs": [],
      "source": [
        "temp_series_freq_2H = temp_series.resample(\"2h\")\n",
        "temp_series_freq_2H"
      ]
    },
    {
      "cell_type": "markdown",
      "metadata": {
        "id": "8PGoja4lS7QB"
      },
      "source": [
        "리샘플링 연산은 사실 지연된 연산입니다. 그래서 `Series` 객체 대신 `DatetimeIndexResampler` 객체가 반환됩니다. 실제 리샘플링 연산을 수행하려면 `mean()` 같은 메서드를 호출할 수 있습니다. 이 메서드는 연속적인 시간 쌍에 대해 평균을 계산합니다:"
      ]
    },
    {
      "cell_type": "code",
      "execution_count": null,
      "metadata": {
        "execution": {
          "iopub.execute_input": "2020-10-16T07:31:25.448657Z",
          "iopub.status.busy": "2020-10-16T07:31:25.446880Z",
          "iopub.status.idle": "2020-10-16T07:31:25.451798Z",
          "shell.execute_reply": "2020-10-16T07:31:25.452607Z"
        },
        "id": "0tUmRzi5S7QB"
      },
      "outputs": [],
      "source": [
        "temp_series_freq_2H = temp_series_freq_2H.mean()"
      ]
    },
    {
      "cell_type": "markdown",
      "metadata": {
        "id": "UDdXZK02S7QB"
      },
      "source": [
        "결과를 그래프로 출력해 보죠:"
      ]
    },
    {
      "cell_type": "code",
      "execution_count": null,
      "metadata": {
        "colab": {
          "base_uri": "https://localhost:8080/",
          "height": 562
        },
        "execution": {
          "iopub.execute_input": "2020-10-16T07:31:25.510003Z",
          "iopub.status.busy": "2020-10-16T07:31:25.508970Z",
          "iopub.status.idle": "2020-10-16T07:31:25.597932Z",
          "shell.execute_reply": "2020-10-16T07:31:25.599362Z"
        },
        "id": "qHHRTmlGS7QB",
        "outputId": "8248ab01-501a-48b5-df7a-775027f898ba"
      },
      "outputs": [],
      "source": [
        "temp_series_freq_2H.plot(kind=\"bar\")\n",
        "plt.show()"
      ]
    },
    {
      "cell_type": "markdown",
      "metadata": {
        "id": "XZnwM5lIS7QB"
      },
      "source": [
        "2시간 간격으로 어떻게 값이 수집되었는지 확인해 보세요. 예를 들어 6-8pm 간격을 보면 6:30pm에서 `5.1`이고 7:30pm에서 `6.1`입니다. 리샘플링 후에 `5.1`과 `6.1`의 평균인 `5.6` 하나를 얻었습니다. 평균말고 어떤 집계 함수(aggregation function)도 사용할 수 있습니다. 예를 들어 각 기간에서 최솟값을 찾을 수 있습니다:"
      ]
    },
    {
      "cell_type": "code",
      "execution_count": null,
      "metadata": {
        "colab": {
          "base_uri": "https://localhost:8080/"
        },
        "execution": {
          "iopub.execute_input": "2020-10-16T07:31:25.607951Z",
          "iopub.status.busy": "2020-10-16T07:31:25.606867Z",
          "iopub.status.idle": "2020-10-16T07:31:25.611285Z",
          "shell.execute_reply": "2020-10-16T07:31:25.612183Z"
        },
        "id": "eHi9p3Z5S7QB",
        "outputId": "e2e824a8-3a98-428c-80c4-f623475ef68b"
      },
      "outputs": [],
      "source": [
        "temp_series_freq_2H = temp_series.resample(\"2H\").min()\n",
        "temp_series_freq_2H"
      ]
    },
    {
      "cell_type": "markdown",
      "metadata": {
        "id": "iuyuKeWJS7QC"
      },
      "source": [
        "또는 동일한 효과를 내는 `apply()` 메서드를 사용할 수 있습니다:"
      ]
    },
    {
      "cell_type": "code",
      "execution_count": null,
      "metadata": {
        "colab": {
          "base_uri": "https://localhost:8080/"
        },
        "execution": {
          "iopub.execute_input": "2020-10-16T07:31:25.629068Z",
          "iopub.status.busy": "2020-10-16T07:31:25.627935Z",
          "iopub.status.idle": "2020-10-16T07:31:25.632613Z",
          "shell.execute_reply": "2020-10-16T07:31:25.633842Z"
        },
        "id": "x7tCi6KNS7QC",
        "outputId": "dc130045-a783-465b-e2e3-67fa9ea00bc8"
      },
      "outputs": [],
      "source": [
        "temp_series_freq_2H = temp_series.resample(\"2H\").apply(np.min)\n",
        "temp_series_freq_2H"
      ]
    },
    {
      "cell_type": "markdown",
      "metadata": {
        "id": "-lgahSpFS7QC"
      },
      "source": [
        "### 업샘플링과 보간\n",
        "\n",
        "다운샘플링의 예를 보았습니다. 하지만 업샘플링(즉, 빈도를 높입니다)도 할 수 있습니다. 하지만 데이터에 구멍을 만듭니다:"
      ]
    },
    {
      "cell_type": "code",
      "execution_count": null,
      "metadata": {
        "colab": {
          "base_uri": "https://localhost:8080/"
        },
        "execution": {
          "iopub.execute_input": "2020-10-16T07:31:25.646456Z",
          "iopub.status.busy": "2020-10-16T07:31:25.645255Z",
          "iopub.status.idle": "2020-10-16T07:31:25.649342Z",
          "shell.execute_reply": "2020-10-16T07:31:25.650294Z"
        },
        "id": "WHy7ujv1S7QC",
        "outputId": "fa3cc2c0-321e-447f-c68f-da87700f9b36"
      },
      "outputs": [],
      "source": [
        "temp_series_freq_15min = temp_series.resample(\"15Min\").mean()\n",
        "temp_series_freq_15min.head(n=10) # `head`는 상위 n 개의 값만 출력합니다"
      ]
    },
    {
      "cell_type": "markdown",
      "metadata": {
        "id": "4sq0OxsvS7QC"
      },
      "source": [
        "한가지 방법은 보간으로 사이를 채우는 것입니다. 이렇게 하려면 `interpolate()` 메서드를 호출합니다. 기본값은 선형 보간이지만 3차 보간(cubic interpolation) 같은 다른 방법을 선택할 수 있습니다:"
      ]
    },
    {
      "cell_type": "code",
      "execution_count": null,
      "metadata": {
        "colab": {
          "base_uri": "https://localhost:8080/"
        },
        "execution": {
          "iopub.execute_input": "2020-10-16T07:31:25.661000Z",
          "iopub.status.busy": "2020-10-16T07:31:25.659794Z",
          "iopub.status.idle": "2020-10-16T07:31:25.736426Z",
          "shell.execute_reply": "2020-10-16T07:31:25.735488Z"
        },
        "id": "LJzq5RBPS7QC",
        "outputId": "7b191bd8-3090-4281-f64c-62e8d3f38f82",
        "scrolled": true
      },
      "outputs": [],
      "source": [
        "temp_series_freq_15min = temp_series.resample(\"15Min\").interpolate(method=\"cubic\")\n",
        "temp_series_freq_15min.head(n=10)"
      ]
    },
    {
      "cell_type": "code",
      "execution_count": null,
      "metadata": {
        "colab": {
          "base_uri": "https://localhost:8080/",
          "height": 416
        },
        "execution": {
          "iopub.execute_input": "2020-10-16T07:31:25.766770Z",
          "iopub.status.busy": "2020-10-16T07:31:25.764902Z",
          "iopub.status.idle": "2020-10-16T07:31:25.929920Z",
          "shell.execute_reply": "2020-10-16T07:31:25.931211Z"
        },
        "id": "b0Pu7aOfS7QD",
        "outputId": "53a09607-7fc7-48a9-f9d7-0dd784138b5a"
      },
      "outputs": [],
      "source": [
        "temp_series.plot(label=\"Period: 1 hour\")\n",
        "temp_series_freq_15min.plot(label=\"Period: 15 minutes\")\n",
        "plt.legend()\n",
        "plt.show()"
      ]
    },
    {
      "cell_type": "markdown",
      "metadata": {
        "id": "miGRkJVGS7QD"
      },
      "source": [
        "### 시간대\n",
        "\n",
        "기본적으로 datetime은 *단순*합니다. 시간대(timezone)을 고려하지 않죠. 따라서 2016-10-30 02:30는 파리나 뉴욕이나 2016년 10월 30일 2:30pm입니다. `tz_localize()` 메서드로 시간대를 고려한 datetime을 만들 수 있습니다:"
      ]
    },
    {
      "cell_type": "code",
      "execution_count": null,
      "metadata": {
        "colab": {
          "base_uri": "https://localhost:8080/"
        },
        "execution": {
          "iopub.execute_input": "2020-10-16T07:31:25.939079Z",
          "iopub.status.busy": "2020-10-16T07:31:25.937520Z",
          "iopub.status.idle": "2020-10-16T07:31:25.969458Z",
          "shell.execute_reply": "2020-10-16T07:31:25.970302Z"
        },
        "id": "MxuUhX8pS7QD",
        "outputId": "295d3e06-dd53-43fa-c3f1-43c2a69d19e6"
      },
      "outputs": [],
      "source": [
        "temp_series_ny = temp_series.tz_localize(\"America/New_York\")\n",
        "temp_series_ny"
      ]
    },
    {
      "cell_type": "markdown",
      "metadata": {
        "id": "yBIk42NXS7QD"
      },
      "source": [
        "모든 datetime에 `-04:00`이 추가됩니다. 즉 모든 시간은 [UTC](https://en.wikipedia.org/wiki/Coordinated_Universal_Time) - 4시간을 의미합니다.\n",
        "\n",
        "다음처럼 파리 시간대로 바꿀 수 있습니다:"
      ]
    },
    {
      "cell_type": "code",
      "execution_count": null,
      "metadata": {
        "colab": {
          "base_uri": "https://localhost:8080/"
        },
        "execution": {
          "iopub.execute_input": "2020-10-16T07:31:25.975427Z",
          "iopub.status.busy": "2020-10-16T07:31:25.974415Z",
          "iopub.status.idle": "2020-10-16T07:31:25.981708Z",
          "shell.execute_reply": "2020-10-16T07:31:25.982510Z"
        },
        "id": "E8vCHtu6S7QD",
        "outputId": "b82dac8f-3c90-4f8a-b786-eb4efff7e7fd"
      },
      "outputs": [],
      "source": [
        "temp_series_paris = temp_series_ny.tz_convert(\"Europe/Paris\")\n",
        "temp_series_paris"
      ]
    },
    {
      "cell_type": "markdown",
      "metadata": {
        "id": "IkgEmVvxS7QD"
      },
      "source": [
        "UTC와의 차이가 `+02:00`에서 `+01:00`으로 바뀐 것을 알 수 있습니다. 이는 프랑스가 10월 30일 3am에 겨울 시간으로 바꾸기 때문입니다(2am으로 바뀝니다). 따라서 2:30am이 두 번 등장합니다! 시간대가 없는 표현으로 돌아가 보죠(시간대가 없이 지역 시간으로 매시간 로그를 기록하는 경우 이와 비슷할 것입니다):"
      ]
    },
    {
      "cell_type": "code",
      "execution_count": null,
      "metadata": {
        "colab": {
          "base_uri": "https://localhost:8080/"
        },
        "execution": {
          "iopub.execute_input": "2020-10-16T07:31:25.992461Z",
          "iopub.status.busy": "2020-10-16T07:31:25.991439Z",
          "iopub.status.idle": "2020-10-16T07:31:25.996320Z",
          "shell.execute_reply": "2020-10-16T07:31:25.997330Z"
        },
        "id": "ySua4hscS7QE",
        "outputId": "0c357ea4-33e7-4829-9c04-a1a6ddad2e6b"
      },
      "outputs": [],
      "source": [
        "temp_series_paris_naive = temp_series_paris.tz_localize(None)\n",
        "temp_series_paris_naive"
      ]
    },
    {
      "cell_type": "markdown",
      "metadata": {
        "id": "-FOj2ztcS7QE"
      },
      "source": [
        "이렇게 되면 `02:30`이 정말 애매합니다. 시간대가 없는 datetime을 파리 시간대로 바꿀 때 에러가 발생합니다:"
      ]
    },
    {
      "cell_type": "code",
      "execution_count": null,
      "metadata": {
        "colab": {
          "base_uri": "https://localhost:8080/"
        },
        "execution": {
          "iopub.execute_input": "2020-10-16T07:31:26.006045Z",
          "iopub.status.busy": "2020-10-16T07:31:26.004859Z",
          "iopub.status.idle": "2020-10-16T07:31:26.009183Z",
          "shell.execute_reply": "2020-10-16T07:31:26.010136Z"
        },
        "id": "-iPSLaHMS7QE",
        "outputId": "fa668507-1620-41e4-8026-2912b8048a53"
      },
      "outputs": [],
      "source": [
        "try:\n",
        "    temp_series_paris_naive.tz_localize(\"Europe/Paris\")\n",
        "except Exception as e:\n",
        "    print(type(e))\n",
        "    print(e)"
      ]
    },
    {
      "cell_type": "markdown",
      "metadata": {
        "id": "EBaOr2ShS7QE"
      },
      "source": [
        "다행히 `ambiguous` 매개변수를 사용하면 판다스가 타임스탬프의 순서를 기반으로 적절한 DST(일광 절약 시간제)를 추측합니다:"
      ]
    },
    {
      "cell_type": "code",
      "execution_count": null,
      "metadata": {
        "colab": {
          "base_uri": "https://localhost:8080/"
        },
        "execution": {
          "iopub.execute_input": "2020-10-16T07:31:26.021302Z",
          "iopub.status.busy": "2020-10-16T07:31:26.020109Z",
          "iopub.status.idle": "2020-10-16T07:31:26.024328Z",
          "shell.execute_reply": "2020-10-16T07:31:26.025304Z"
        },
        "id": "a1KYQGSxS7QE",
        "outputId": "f7036578-0e70-4c3c-f88f-b8bc7db00727"
      },
      "outputs": [],
      "source": [
        "temp_series_paris_naive.tz_localize(\"Europe/Paris\", ambiguous=\"infer\")"
      ]
    },
    {
      "cell_type": "markdown",
      "metadata": {
        "id": "Im5porVbS7QE"
      },
      "source": [
        "### 기간\n",
        "\n",
        "`pd.period_range()` 함수는 `DatetimeIndex`가 아니라 `PeriodIndex`를 반환합니다. 예를 들어 2016과 2017년의 전체 분기를 가져와 보죠:"
      ]
    },
    {
      "cell_type": "code",
      "execution_count": null,
      "metadata": {
        "colab": {
          "base_uri": "https://localhost:8080/"
        },
        "execution": {
          "iopub.execute_input": "2020-10-16T07:31:26.038037Z",
          "iopub.status.busy": "2020-10-16T07:31:26.036774Z",
          "iopub.status.idle": "2020-10-16T07:31:26.043054Z",
          "shell.execute_reply": "2020-10-16T07:31:26.044094Z"
        },
        "id": "xeZcc1O9S7QE",
        "outputId": "5eb0f20f-4407-4e9f-98b8-2fc5b9388381"
      },
      "outputs": [],
      "source": [
        "quarters = pd.period_range('2016Q1', periods=8, freq='Q')\n",
        "quarters"
      ]
    },
    {
      "cell_type": "markdown",
      "metadata": {
        "id": "JubJXS3-S7QF"
      },
      "source": [
        "`PeriodIndex`에 숫자 `N`을 추가하면 `PeriodIndex` 빈도의 `N` 배만큼 이동시킵니다:"
      ]
    },
    {
      "cell_type": "code",
      "execution_count": null,
      "metadata": {
        "colab": {
          "base_uri": "https://localhost:8080/"
        },
        "execution": {
          "iopub.execute_input": "2020-10-16T07:31:26.052480Z",
          "iopub.status.busy": "2020-10-16T07:31:26.051248Z",
          "iopub.status.idle": "2020-10-16T07:31:26.055609Z",
          "shell.execute_reply": "2020-10-16T07:31:26.056455Z"
        },
        "id": "07CSs4vlS7QF",
        "outputId": "4538b224-00fc-40fc-cd43-54a62feea6cd"
      },
      "outputs": [],
      "source": [
        "quarters + 3"
      ]
    },
    {
      "cell_type": "markdown",
      "metadata": {
        "id": "_uEHAj4oS7QF"
      },
      "source": [
        "`asfreq()` 메서드를 사용하면 `PeriodIndex`의 빈도를 바꿀 수 있습니다. 모든 기간이 늘어나거나 줄어듭니다. 예를 들어 분기 기간을 모두 월별 기간으로 바꾸어 보죠:"
      ]
    },
    {
      "cell_type": "code",
      "execution_count": null,
      "metadata": {
        "colab": {
          "base_uri": "https://localhost:8080/"
        },
        "execution": {
          "iopub.execute_input": "2020-10-16T07:31:26.065095Z",
          "iopub.status.busy": "2020-10-16T07:31:26.064006Z",
          "iopub.status.idle": "2020-10-16T07:31:26.068838Z",
          "shell.execute_reply": "2020-10-16T07:31:26.069767Z"
        },
        "id": "xRfSKNW0S7QF",
        "outputId": "4a6ac1f4-6eda-4dff-eea7-93ac4c389939"
      },
      "outputs": [],
      "source": [
        "quarters.asfreq(\"M\")"
      ]
    },
    {
      "cell_type": "markdown",
      "metadata": {
        "id": "fWt6oYHfS7QF"
      },
      "source": [
        "기본적으로 `asfreq`는 각 기간의 끝에 맞춥니다. 기간의 시작에 맞추도록 변경할 수 있습니다:"
      ]
    },
    {
      "cell_type": "code",
      "execution_count": null,
      "metadata": {
        "colab": {
          "base_uri": "https://localhost:8080/"
        },
        "execution": {
          "iopub.execute_input": "2020-10-16T07:31:26.079083Z",
          "iopub.status.busy": "2020-10-16T07:31:26.077918Z",
          "iopub.status.idle": "2020-10-16T07:31:26.082533Z",
          "shell.execute_reply": "2020-10-16T07:31:26.083439Z"
        },
        "id": "Ej_2K1gzS7QF",
        "outputId": "28340ec9-ba24-4b2e-dace-6a0e90758f22"
      },
      "outputs": [],
      "source": [
        "quarters.asfreq(\"M\", how=\"start\")"
      ]
    },
    {
      "cell_type": "markdown",
      "metadata": {
        "id": "WrG58QzoS7QF"
      },
      "source": [
        "간격을 늘릴 수도 있습니다:"
      ]
    },
    {
      "cell_type": "code",
      "execution_count": null,
      "metadata": {
        "colab": {
          "base_uri": "https://localhost:8080/"
        },
        "execution": {
          "iopub.execute_input": "2020-10-16T07:31:26.092258Z",
          "iopub.status.busy": "2020-10-16T07:31:26.091161Z",
          "iopub.status.idle": "2020-10-16T07:31:26.096928Z",
          "shell.execute_reply": "2020-10-16T07:31:26.095946Z"
        },
        "id": "9Q4Pd19fS7QG",
        "outputId": "c63218c7-d0d0-46d8-fa76-02c2aa20255b"
      },
      "outputs": [],
      "source": [
        "quarters.asfreq(\"A\")"
      ]
    },
    {
      "cell_type": "markdown",
      "metadata": {
        "id": "o8errJLNS7QG"
      },
      "source": [
        "물론 `PeriodIndex`로 `Series`를 만들 수 있습니다:"
      ]
    },
    {
      "cell_type": "code",
      "execution_count": null,
      "metadata": {
        "colab": {
          "base_uri": "https://localhost:8080/"
        },
        "execution": {
          "iopub.execute_input": "2020-10-16T07:31:26.107793Z",
          "iopub.status.busy": "2020-10-16T07:31:26.106610Z",
          "iopub.status.idle": "2020-10-16T07:31:26.112111Z",
          "shell.execute_reply": "2020-10-16T07:31:26.111095Z"
        },
        "id": "DVThT-L-S7QG",
        "outputId": "884d48d9-2586-4663-f22d-16fb38687eda"
      },
      "outputs": [],
      "source": [
        "quarterly_revenue = pd.Series([300, 320, 290, 390, 320, 360, 310, 410], index = quarters)\n",
        "quarterly_revenue"
      ]
    },
    {
      "cell_type": "code",
      "execution_count": null,
      "metadata": {
        "colab": {
          "base_uri": "https://localhost:8080/",
          "height": 446
        },
        "execution": {
          "iopub.execute_input": "2020-10-16T07:31:26.140793Z",
          "iopub.status.busy": "2020-10-16T07:31:26.133036Z",
          "iopub.status.idle": "2020-10-16T07:31:26.258810Z",
          "shell.execute_reply": "2020-10-16T07:31:26.260006Z"
        },
        "id": "mqhmz3mwS7QG",
        "outputId": "c95ed4f6-6827-4900-8a77-1174d24cff97"
      },
      "outputs": [],
      "source": [
        "quarterly_revenue.plot(kind=\"line\")\n",
        "plt.show()"
      ]
    },
    {
      "cell_type": "markdown",
      "metadata": {
        "id": "0xoqucw4S7QG"
      },
      "source": [
        "`to_timestamp`를 호출해서 기간을 타임스탬프로 변경할 수 있습니다. 기본적으로 기간의 첫 번째 날을 반환합니다. 하지만 `how`와 `freq`를 지정해서 기간의 마지막 시간을 얻을 수 있습니다:"
      ]
    },
    {
      "cell_type": "code",
      "execution_count": null,
      "metadata": {
        "colab": {
          "base_uri": "https://localhost:8080/"
        },
        "execution": {
          "iopub.execute_input": "2020-10-16T07:31:26.268964Z",
          "iopub.status.busy": "2020-10-16T07:31:26.267481Z",
          "iopub.status.idle": "2020-10-16T07:31:26.271761Z",
          "shell.execute_reply": "2020-10-16T07:31:26.272657Z"
        },
        "id": "DVjrWTnUS7QG",
        "outputId": "b0c9fc60-f42f-4b4e-831e-a9a02fdbe892"
      },
      "outputs": [],
      "source": [
        "last_hours = quarterly_revenue.to_timestamp(how=\"end\", freq=\"H\")\n",
        "last_hours"
      ]
    },
    {
      "cell_type": "markdown",
      "metadata": {
        "id": "m9cOa1fuS7QH"
      },
      "source": [
        "`to_peroid`를 호출하면 다시 기간으로 돌아갑니다:"
      ]
    },
    {
      "cell_type": "code",
      "execution_count": null,
      "metadata": {
        "colab": {
          "base_uri": "https://localhost:8080/"
        },
        "execution": {
          "iopub.execute_input": "2020-10-16T07:31:26.283017Z",
          "iopub.status.busy": "2020-10-16T07:31:26.281932Z",
          "iopub.status.idle": "2020-10-16T07:31:26.286503Z",
          "shell.execute_reply": "2020-10-16T07:31:26.287371Z"
        },
        "id": "7hJi6wI1S7QH",
        "outputId": "cfdd7d78-a4a5-42e8-b804-1b52179384dd"
      },
      "outputs": [],
      "source": [
        "last_hours.to_period()"
      ]
    },
    {
      "cell_type": "markdown",
      "metadata": {
        "id": "YSkzLh0hS7QH"
      },
      "source": [
        "판다스는 여러 가지 시간 관련 함수를 많이 제공합니다. [온라인 문서](http://pandas.pydata.org/pandas-docs/stable/timeseries.html)를 확인해 보세요. 예를 하나 들면 2016년 매월 마지막 업무일의 9시를 얻는 방법은 다음과 같습니다:"
      ]
    },
    {
      "cell_type": "code",
      "execution_count": null,
      "metadata": {
        "colab": {
          "base_uri": "https://localhost:8080/"
        },
        "execution": {
          "iopub.execute_input": "2020-10-16T07:31:26.302110Z",
          "iopub.status.busy": "2020-10-16T07:31:26.300761Z",
          "iopub.status.idle": "2020-10-16T07:31:26.305420Z",
          "shell.execute_reply": "2020-10-16T07:31:26.306523Z"
        },
        "id": "fa2iSNgwS7QH",
        "outputId": "545bed7e-fde0-42c3-dd29-d2528ac08089"
      },
      "outputs": [],
      "source": [
        "months_2016 = pd.period_range(\"2016\", periods=12, freq=\"M\")\n",
        "one_day_after_last_days = months_2016.asfreq(\"D\") + 1\n",
        "last_bdays = one_day_after_last_days.to_timestamp() - pd.tseries.offsets.BDay()\n",
        "last_bdays.to_period(\"H\") + 9"
      ]
    },
    {
      "cell_type": "markdown",
      "metadata": {
        "id": "SaZehyVmS7QH"
      },
      "source": [
        "## `DataFrame` 객체\n",
        "\n",
        "데이터프레임 객체는 스프레드시트를 표현합니다. 셀 값, 열 이름, 행 인덱스 레이블을 가집니다. 다른 열을 바탕으로 열을 계산하는 식을 쓸 수 있고 피봇 테이블을 만들고, 행을 그룹핑하고, 그래프를 그릴 수 있습니다. `DataFrame`을 `Series`의 딕셔너리로 볼 수 있습니다.\n",
        "\n",
        "### `DataFrame` 만들기\n",
        "\n",
        "`Series` 객체의 딕셔너리를 전달하여 데이터프레임을 만들 수 있습니다:"
      ]
    },
    {
      "cell_type": "code",
      "execution_count": null,
      "metadata": {
        "colab": {
          "base_uri": "https://localhost:8080/",
          "height": 143
        },
        "execution": {
          "iopub.execute_input": "2020-10-16T07:31:26.323422Z",
          "iopub.status.busy": "2020-10-16T07:31:26.322071Z",
          "iopub.status.idle": "2020-10-16T07:31:26.329974Z",
          "shell.execute_reply": "2020-10-16T07:31:26.330949Z"
        },
        "id": "Q-QZZag1S7QH",
        "outputId": "f2e2dacf-e17c-408d-e672-f79261892a33"
      },
      "outputs": [],
      "source": [
        "people_dict = {\n",
        "    \"weight\": pd.Series([68, 83, 112], index=[\"alice\", \"bob\", \"charles\"]),\n",
        "    \"birthyear\": pd.Series([1984, 1985, 1992], index=[\"bob\", \"alice\", \"charles\"], name=\"year\"),\n",
        "    \"children\": pd.Series([0, 3], index=[\"charles\", \"bob\"]),\n",
        "    \"hobby\": pd.Series([\"Biking\", \"Dancing\"], index=[\"alice\", \"bob\"]),\n",
        "}\n",
        "people = pd.DataFrame(people_dict)\n",
        "people"
      ]
    },
    {
      "cell_type": "markdown",
      "metadata": {
        "id": "XFId6ljcS7QH"
      },
      "source": [
        "몇가지 알아 두어야 할 것은 다음과 같습니다:\n",
        "- `Series`는 인덱스를 기반으로 자동으로 정렬됩니다.\n",
        "- 누란된 값은 `NaN`으로 표현됩니다.\n",
        "- `Series` 이름은 무시됩니다(`\"year\"`란 이름은 삭제됩니다).\n",
        "- `DataFrame`은 주피터 노트북에서 멋지게 출력됩니다!"
      ]
    },
    {
      "cell_type": "markdown",
      "metadata": {
        "id": "9IsL1UqaS7QI"
      },
      "source": [
        "예상하는 방식으로 열을 참조할 수 있고 `Serires` 객체가 반환됩니다:"
      ]
    },
    {
      "cell_type": "code",
      "execution_count": null,
      "metadata": {
        "colab": {
          "base_uri": "https://localhost:8080/"
        },
        "execution": {
          "iopub.execute_input": "2020-10-16T07:31:26.337478Z",
          "iopub.status.busy": "2020-10-16T07:31:26.336279Z",
          "iopub.status.idle": "2020-10-16T07:31:26.340155Z",
          "shell.execute_reply": "2020-10-16T07:31:26.341062Z"
        },
        "id": "Vp8uMLJsS7QI",
        "outputId": "7ba532a0-68d3-499c-b99e-ed170f21d291"
      },
      "outputs": [],
      "source": [
        "people[\"birthyear\"]"
      ]
    },
    {
      "cell_type": "markdown",
      "metadata": {
        "id": "jxclK4BpS7QI"
      },
      "source": [
        "동시에 여러 개의 열을 선택할 수 있습니다:"
      ]
    },
    {
      "cell_type": "code",
      "execution_count": null,
      "metadata": {
        "colab": {
          "base_uri": "https://localhost:8080/",
          "height": 143
        },
        "execution": {
          "iopub.execute_input": "2020-10-16T07:31:26.358410Z",
          "iopub.status.busy": "2020-10-16T07:31:26.357116Z",
          "iopub.status.idle": "2020-10-16T07:31:26.362134Z",
          "shell.execute_reply": "2020-10-16T07:31:26.363233Z"
        },
        "id": "QlW80uhaS7QI",
        "outputId": "a580c0e4-461c-4e1f-eb7e-06d8c17b85af"
      },
      "outputs": [],
      "source": [
        "people[[\"birthyear\", \"hobby\"]]"
      ]
    },
    {
      "cell_type": "markdown",
      "metadata": {
        "id": "-CZgcPDES7QI"
      },
      "source": [
        "열 리스트나 행 인덱스 레이블을 `DataFrame` 생성자에 전달하면 해당 열과 행으로 채워진 데이터프레임이 반환됩니다. 예를 들면:"
      ]
    },
    {
      "cell_type": "code",
      "execution_count": null,
      "metadata": {
        "colab": {
          "base_uri": "https://localhost:8080/",
          "height": 143
        },
        "execution": {
          "iopub.execute_input": "2020-10-16T07:31:26.383281Z",
          "iopub.status.busy": "2020-10-16T07:31:26.381945Z",
          "iopub.status.idle": "2020-10-16T07:31:26.386650Z",
          "shell.execute_reply": "2020-10-16T07:31:26.387670Z"
        },
        "id": "d5CTe0GNS7QI",
        "outputId": "c3361ae0-6c69-4828-a31c-43fe31cd6191"
      },
      "outputs": [],
      "source": [
        "d2 = pd.DataFrame(\n",
        "        people_dict,\n",
        "        columns=[\"birthyear\", \"weight\", \"height\"],\n",
        "        index=[\"bob\", \"alice\", \"eugene\"]\n",
        "     )\n",
        "d2"
      ]
    },
    {
      "cell_type": "markdown",
      "metadata": {
        "id": "59pQwh2LS7QJ"
      },
      "source": [
        "`DataFrame`을 만드는 또 다른 편리한 방법은 `ndarray`나 리스트의 리스트로 모든 값을 생성자에게 전달하고 열 이름과 행 인덱스 레이블을 각기 지정하는 것입니다:"
      ]
    },
    {
      "cell_type": "code",
      "execution_count": null,
      "metadata": {
        "colab": {
          "base_uri": "https://localhost:8080/",
          "height": 143
        },
        "execution": {
          "iopub.execute_input": "2020-10-16T07:31:26.398021Z",
          "iopub.status.busy": "2020-10-16T07:31:26.396793Z",
          "iopub.status.idle": "2020-10-16T07:31:26.413413Z",
          "shell.execute_reply": "2020-10-16T07:31:26.414561Z"
        },
        "id": "l6NTKWTFS7QJ",
        "outputId": "62b30b5e-6fa4-4a7a-cd28-0b4acb10785c"
      },
      "outputs": [],
      "source": [
        "values = [\n",
        "            [1985, np.nan, \"Biking\",   68],\n",
        "            [1984, 3,      \"Dancing\",  83],\n",
        "            [1992, 0,      np.nan,    112]\n",
        "         ]\n",
        "d3 = pd.DataFrame(\n",
        "        values,\n",
        "        columns=[\"birthyear\", \"children\", \"hobby\", \"weight\"],\n",
        "        index=[\"alice\", \"bob\", \"charles\"]\n",
        "     )\n",
        "d3"
      ]
    },
    {
      "cell_type": "markdown",
      "metadata": {
        "id": "FLw_MF6RS7QJ"
      },
      "source": [
        "누락된 값을 지정하려면 `np.nan`이나 넘파이 마스크 배열을 사용합니다:"
      ]
    },
    {
      "cell_type": "code",
      "execution_count": null,
      "metadata": {
        "colab": {
          "base_uri": "https://localhost:8080/",
          "height": 217
        },
        "execution": {
          "iopub.execute_input": "2020-10-16T07:31:26.425026Z",
          "iopub.status.busy": "2020-10-16T07:31:26.423521Z",
          "iopub.status.idle": "2020-10-16T07:31:26.438112Z",
          "shell.execute_reply": "2020-10-16T07:31:26.439307Z"
        },
        "id": "FPUMJs7WS7QJ",
        "outputId": "78a67ace-e029-4352-8eca-4453d43c8193"
      },
      "outputs": [],
      "source": [
        "masked_array = np.ma.asarray(values, dtype=object)\n",
        "masked_array[(0, 2), (1, 2)] = np.ma.masked\n",
        "d3 = pd.DataFrame(\n",
        "        masked_array,\n",
        "        columns=[\"birthyear\", \"children\", \"hobby\", \"weight\"],\n",
        "        index=[\"alice\", \"bob\", \"charles\"]\n",
        "     )\n",
        "d3"
      ]
    },
    {
      "cell_type": "markdown",
      "metadata": {
        "id": "AYGPeCauS7QJ"
      },
      "source": [
        "`ndarray` 대신에 `DataFrame` 객체를 전달할 수도 있습니다:"
      ]
    },
    {
      "cell_type": "code",
      "execution_count": null,
      "metadata": {
        "colab": {
          "base_uri": "https://localhost:8080/",
          "height": 112
        },
        "execution": {
          "iopub.execute_input": "2020-10-16T07:31:26.450844Z",
          "iopub.status.busy": "2020-10-16T07:31:26.449596Z",
          "iopub.status.idle": "2020-10-16T07:31:26.454051Z",
          "shell.execute_reply": "2020-10-16T07:31:26.455073Z"
        },
        "id": "7ZMYNjV1S7QJ",
        "outputId": "9a5f6393-3e69-4979-d107-e5228002f6cb"
      },
      "outputs": [],
      "source": [
        "d4 = pd.DataFrame(\n",
        "         d3,\n",
        "         columns=[\"hobby\", \"children\"],\n",
        "         index=[\"alice\", \"bob\"]\n",
        "     )\n",
        "d4"
      ]
    },
    {
      "cell_type": "markdown",
      "metadata": {
        "id": "7nUS4ZpSS7QJ"
      },
      "source": [
        "딕셔너리의 딕셔너리(또는 리스트의 리스트)로 `DataFrame`을 만들 수 있습니다:"
      ]
    },
    {
      "cell_type": "code",
      "execution_count": null,
      "metadata": {
        "colab": {
          "base_uri": "https://localhost:8080/",
          "height": 143
        },
        "execution": {
          "iopub.execute_input": "2020-10-16T07:31:26.472738Z",
          "iopub.status.busy": "2020-10-16T07:31:26.466378Z",
          "iopub.status.idle": "2020-10-16T07:31:26.476045Z",
          "shell.execute_reply": "2020-10-16T07:31:26.477041Z"
        },
        "id": "8MSyAQIUS7QK",
        "outputId": "d5d68815-96ef-4e89-8f9c-0c6a0b1a3f06"
      },
      "outputs": [],
      "source": [
        "people = pd.DataFrame({\n",
        "    \"birthyear\": {\"alice\":1985, \"bob\": 1984, \"charles\": 1992},\n",
        "    \"hobby\": {\"alice\":\"Biking\", \"bob\": \"Dancing\"},\n",
        "    \"weight\": {\"alice\":68, \"bob\": 83, \"charles\": 112},\n",
        "    \"children\": {\"bob\": 3, \"charles\": 0}\n",
        "})\n",
        "people"
      ]
    },
    {
      "cell_type": "markdown",
      "metadata": {
        "id": "rRaKP48ES7QK"
      },
      "source": [
        "### 멀티 인덱싱\n",
        "\n",
        "모든 열이 같은 크기의 튜플이면 멀티 인덱스로 인식합니다. 열 인덱스 레이블에도 같은 방식이 적용됩니다. 예를 들면:"
      ]
    },
    {
      "cell_type": "code",
      "execution_count": null,
      "metadata": {
        "colab": {
          "base_uri": "https://localhost:8080/",
          "height": 175
        },
        "execution": {
          "iopub.execute_input": "2020-10-16T07:31:26.504047Z",
          "iopub.status.busy": "2020-10-16T07:31:26.502935Z",
          "iopub.status.idle": "2020-10-16T07:31:26.507572Z",
          "shell.execute_reply": "2020-10-16T07:31:26.508472Z"
        },
        "id": "flgUacRbS7QK",
        "outputId": "cff14349-1f25-4826-d61a-31435d1942c3"
      },
      "outputs": [],
      "source": [
        "d5 = pd.DataFrame(\n",
        "  {\n",
        "    (\"public\", \"birthyear\"):\n",
        "        {(\"Paris\",\"alice\"):1985, (\"Paris\",\"bob\"): 1984, (\"London\",\"charles\"): 1992},\n",
        "    (\"public\", \"hobby\"):\n",
        "        {(\"Paris\",\"alice\"):\"Biking\", (\"Paris\",\"bob\"): \"Dancing\"},\n",
        "    (\"private\", \"weight\"):\n",
        "        {(\"Paris\",\"alice\"):68, (\"Paris\",\"bob\"): 83, (\"London\",\"charles\"): 112},\n",
        "    (\"private\", \"children\"):\n",
        "        {(\"Paris\", \"alice\"):np.nan, (\"Paris\",\"bob\"): 3, (\"London\",\"charles\"): 0}\n",
        "  }\n",
        ")\n",
        "d5"
      ]
    },
    {
      "cell_type": "markdown",
      "metadata": {
        "id": "RXQ18pZNS7QK"
      },
      "source": [
        "이제 `\"public\"` 열을 모두 담은 `DataFrame`을 손쉽게 만들 수 있습니다:"
      ]
    },
    {
      "cell_type": "code",
      "execution_count": null,
      "metadata": {
        "colab": {
          "base_uri": "https://localhost:8080/",
          "height": 143
        },
        "execution": {
          "iopub.execute_input": "2020-10-16T07:31:26.523804Z",
          "iopub.status.busy": "2020-10-16T07:31:26.522714Z",
          "iopub.status.idle": "2020-10-16T07:31:26.527772Z",
          "shell.execute_reply": "2020-10-16T07:31:26.528758Z"
        },
        "id": "V-qGz6bmS7QK",
        "outputId": "b2470b4d-37d4-4ce7-8d17-9ea5871ce329"
      },
      "outputs": [],
      "source": [
        "d5[\"public\"]"
      ]
    },
    {
      "cell_type": "code",
      "execution_count": null,
      "metadata": {
        "colab": {
          "base_uri": "https://localhost:8080/"
        },
        "execution": {
          "iopub.execute_input": "2020-10-16T07:31:26.539921Z",
          "iopub.status.busy": "2020-10-16T07:31:26.538672Z",
          "iopub.status.idle": "2020-10-16T07:31:26.543468Z",
          "shell.execute_reply": "2020-10-16T07:31:26.544424Z"
        },
        "id": "-GUU6H7AS7QK",
        "outputId": "74c05bf5-ea34-4083-dbc5-551abbfec4e8"
      },
      "outputs": [],
      "source": [
        "d5[\"public\", \"hobby\"]  # d5[\"public\"][\"hobby\"]와 같습니다."
      ]
    },
    {
      "cell_type": "markdown",
      "metadata": {
        "id": "fu2faRu4S7QL"
      },
      "source": [
        "### 레벨 낮추기\n",
        "\n",
        "`d5`를 다시 확인해 보죠:"
      ]
    },
    {
      "cell_type": "code",
      "execution_count": null,
      "metadata": {
        "colab": {
          "base_uri": "https://localhost:8080/",
          "height": 175
        },
        "execution": {
          "iopub.execute_input": "2020-10-16T07:31:26.562331Z",
          "iopub.status.busy": "2020-10-16T07:31:26.560989Z",
          "iopub.status.idle": "2020-10-16T07:31:26.565827Z",
          "shell.execute_reply": "2020-10-16T07:31:26.566935Z"
        },
        "id": "JQlaG6-TS7QL",
        "outputId": "a20d8634-737c-400a-911e-3612ecbf36b0"
      },
      "outputs": [],
      "source": [
        "d5"
      ]
    },
    {
      "cell_type": "markdown",
      "metadata": {
        "id": "uxDBxjuYS7QL"
      },
      "source": [
        "열의 레벨(level)이 2개이고 인덱스 레벨이 2개입니다. `droplevel()`을 사용해 열 레벨을 낮출 수 있습니다(인덱스도 마찬가지입니다):"
      ]
    },
    {
      "cell_type": "code",
      "execution_count": null,
      "metadata": {
        "colab": {
          "base_uri": "https://localhost:8080/",
          "height": 143
        },
        "execution": {
          "iopub.execute_input": "2020-10-16T07:31:26.584582Z",
          "iopub.status.busy": "2020-10-16T07:31:26.583237Z",
          "iopub.status.idle": "2020-10-16T07:31:26.587765Z",
          "shell.execute_reply": "2020-10-16T07:31:26.588935Z"
        },
        "id": "P9F7djA7S7QL",
        "outputId": "365ba620-1768-482a-ef62-95225d426cd8"
      },
      "outputs": [],
      "source": [
        "d5.columns = d5.columns.droplevel(level = 0)\n",
        "d5"
      ]
    },
    {
      "cell_type": "markdown",
      "metadata": {
        "id": "IjyQAtASS7QL"
      },
      "source": [
        "### 전치\n",
        "\n",
        "`T` 속성을 사용해 열과 인덱스를 바꿀 수 있습니다:"
      ]
    },
    {
      "cell_type": "code",
      "execution_count": null,
      "metadata": {
        "colab": {
          "base_uri": "https://localhost:8080/",
          "height": 206
        },
        "execution": {
          "iopub.execute_input": "2020-10-16T07:31:26.608084Z",
          "iopub.status.busy": "2020-10-16T07:31:26.606912Z",
          "iopub.status.idle": "2020-10-16T07:31:26.611322Z",
          "shell.execute_reply": "2020-10-16T07:31:26.612358Z"
        },
        "id": "ahugprZxS7QM",
        "outputId": "b6e16db8-cfc9-4640-d521-cf4195375c41"
      },
      "outputs": [],
      "source": [
        "d6 = d5.T\n",
        "d6"
      ]
    },
    {
      "cell_type": "markdown",
      "metadata": {
        "id": "0HT_GaZES7QM"
      },
      "source": [
        "### 레벨 스택과 언스택\n",
        "\n",
        "`stack()` 메서드는 가장 낮은 열 레벨을 가장 낮은 인덱스 뒤에 추가합니다:"
      ]
    },
    {
      "cell_type": "code",
      "execution_count": null,
      "metadata": {
        "colab": {
          "base_uri": "https://localhost:8080/",
          "height": 363
        },
        "execution": {
          "iopub.execute_input": "2020-10-16T07:31:26.620480Z",
          "iopub.status.busy": "2020-10-16T07:31:26.619233Z",
          "iopub.status.idle": "2020-10-16T07:31:26.645121Z",
          "shell.execute_reply": "2020-10-16T07:31:26.645952Z"
        },
        "id": "ru2i3oPkS7QM",
        "outputId": "63c2b325-f107-49e5-f7e2-560dc066facf"
      },
      "outputs": [],
      "source": [
        "d7 = d6.stack()\n",
        "d7"
      ]
    },
    {
      "cell_type": "markdown",
      "metadata": {
        "id": "I6Gc1mcHS7QM"
      },
      "source": [
        "`NaN` 값이 생겼습니다. 이전에 없던 조합이 생겼기 때문입니다(예를 들어 `London`에 `bob`이 없었습니다).\n",
        "\n",
        "`unstack()`을 호출하면 반대가 됩니다. 여기에서도 많은 `NaN` 값이 생성됩니다."
      ]
    },
    {
      "cell_type": "code",
      "execution_count": null,
      "metadata": {
        "colab": {
          "base_uri": "https://localhost:8080/",
          "height": 206
        },
        "execution": {
          "iopub.execute_input": "2020-10-16T07:31:26.670564Z",
          "iopub.status.busy": "2020-10-16T07:31:26.669099Z",
          "iopub.status.idle": "2020-10-16T07:31:26.674498Z",
          "shell.execute_reply": "2020-10-16T07:31:26.675704Z"
        },
        "id": "WZ-Mu9C5S7QM",
        "outputId": "02c61292-1848-4a21-8ef9-be6fe098daa1"
      },
      "outputs": [],
      "source": [
        "d8 = d7.unstack()\n",
        "d8"
      ]
    },
    {
      "cell_type": "markdown",
      "metadata": {
        "id": "9C8KoNlGS7QN"
      },
      "source": [
        "`unstack`을 다시 호출하면 `Series` 객체가 만들어 집니다:"
      ]
    },
    {
      "cell_type": "code",
      "execution_count": null,
      "metadata": {
        "colab": {
          "base_uri": "https://localhost:8080/"
        },
        "execution": {
          "iopub.execute_input": "2020-10-16T07:31:26.690137Z",
          "iopub.status.busy": "2020-10-16T07:31:26.688874Z",
          "iopub.status.idle": "2020-10-16T07:31:26.693084Z",
          "shell.execute_reply": "2020-10-16T07:31:26.694056Z"
        },
        "id": "S99Yu6PFS7QN",
        "outputId": "cf359d78-3cce-44b7-fa63-3e481b0cd639"
      },
      "outputs": [],
      "source": [
        "d9 = d8.unstack()\n",
        "d9"
      ]
    },
    {
      "cell_type": "markdown",
      "metadata": {
        "id": "4IEsYdWVS7QN"
      },
      "source": [
        "`stack()`과 `unstack()` 메서드를 사용할 때 스택/언스택할 `level`을 선택할 수 있습니다. 심지어 한 번에 여러 개의 레벨을 스택/언스택할 수도 있습니다:"
      ]
    },
    {
      "cell_type": "code",
      "execution_count": null,
      "metadata": {
        "colab": {
          "base_uri": "https://localhost:8080/",
          "height": 206
        },
        "execution": {
          "iopub.execute_input": "2020-10-16T07:31:26.719311Z",
          "iopub.status.busy": "2020-10-16T07:31:26.718139Z",
          "iopub.status.idle": "2020-10-16T07:31:26.723311Z",
          "shell.execute_reply": "2020-10-16T07:31:26.724247Z"
        },
        "id": "JC2zO1IjS7QN",
        "outputId": "82c1a9bf-c148-462c-f5c4-1afda1c0eedd",
        "scrolled": true
      },
      "outputs": [],
      "source": [
        "d10 = d9.unstack(level = (0,1))\n",
        "d10"
      ]
    },
    {
      "cell_type": "markdown",
      "metadata": {
        "id": "wZkSa5uvS7QN"
      },
      "source": [
        "## 대부분의 메서드는 수정된 복사본을 반환합니다\n",
        "\n",
        "눈치챘겠지만 `stack()`과 `unstack()` 메서드는 객체를 수정하지 않습니다. 대신 복사본을 만들어 반환합니다. 판다스에 있는 대부분의 메서드들이 이렇게 동작합니다."
      ]
    },
    {
      "cell_type": "markdown",
      "metadata": {
        "id": "Gp5dIdgFS7QN"
      },
      "source": [
        "## 행 참조하기\n",
        "\n",
        "`people` `DataFrame`으로 돌아가 보죠:"
      ]
    },
    {
      "cell_type": "code",
      "execution_count": null,
      "metadata": {
        "colab": {
          "base_uri": "https://localhost:8080/",
          "height": 143
        },
        "execution": {
          "iopub.execute_input": "2020-10-16T07:31:26.740196Z",
          "iopub.status.busy": "2020-10-16T07:31:26.739030Z",
          "iopub.status.idle": "2020-10-16T07:31:26.743455Z",
          "shell.execute_reply": "2020-10-16T07:31:26.744486Z"
        },
        "id": "DwZnkjOiS7QN",
        "outputId": "915d1e26-121b-404b-e9a5-3c053db62bf4"
      },
      "outputs": [],
      "source": [
        "people"
      ]
    },
    {
      "cell_type": "markdown",
      "metadata": {
        "id": "AbFEVfpAS7QO"
      },
      "source": [
        "`loc` 속성으로 열 대신 행을 참조할 수 있습니다. `DataFrame`의 열 이름이 행 인덱스 레이블로 매핑된 `Series` 객체가 반환됩니다:"
      ]
    },
    {
      "cell_type": "code",
      "execution_count": null,
      "metadata": {
        "colab": {
          "base_uri": "https://localhost:8080/"
        },
        "execution": {
          "iopub.execute_input": "2020-10-16T07:31:26.753868Z",
          "iopub.status.busy": "2020-10-16T07:31:26.752625Z",
          "iopub.status.idle": "2020-10-16T07:31:26.756975Z",
          "shell.execute_reply": "2020-10-16T07:31:26.757905Z"
        },
        "id": "YTwAvS3TS7QO",
        "outputId": "00341741-ca98-4ac5-bc0a-5176bbde0fea"
      },
      "outputs": [],
      "source": [
        "people.loc[\"charles\"]"
      ]
    },
    {
      "cell_type": "markdown",
      "metadata": {
        "id": "U-sRrKRbS7QO"
      },
      "source": [
        "`iloc` 속성을 사용해 정수 인덱스로 행을 참조할 수 있습니다:"
      ]
    },
    {
      "cell_type": "code",
      "execution_count": null,
      "metadata": {
        "colab": {
          "base_uri": "https://localhost:8080/"
        },
        "execution": {
          "iopub.execute_input": "2020-10-16T07:31:26.767760Z",
          "iopub.status.busy": "2020-10-16T07:31:26.766655Z",
          "iopub.status.idle": "2020-10-16T07:31:26.771119Z",
          "shell.execute_reply": "2020-10-16T07:31:26.772031Z"
        },
        "id": "GUqSrawhS7QO",
        "outputId": "ed8a471f-585d-4537-f2b5-2caa422fa3a9"
      },
      "outputs": [],
      "source": [
        "people.iloc[2]"
      ]
    },
    {
      "cell_type": "markdown",
      "metadata": {
        "id": "duNWS-OnS7QO"
      },
      "source": [
        "행을 슬라이싱할 수 있으며 `DataFrame` 객체가 반환됩니다:"
      ]
    },
    {
      "cell_type": "code",
      "execution_count": null,
      "metadata": {
        "colab": {
          "base_uri": "https://localhost:8080/",
          "height": 112
        },
        "execution": {
          "iopub.execute_input": "2020-10-16T07:31:26.786461Z",
          "iopub.status.busy": "2020-10-16T07:31:26.785104Z",
          "iopub.status.idle": "2020-10-16T07:31:26.789947Z",
          "shell.execute_reply": "2020-10-16T07:31:26.791052Z"
        },
        "id": "Ddv9VgNnS7QO",
        "outputId": "5bdf346f-0b43-4562-ca00-a2f82363ea2d"
      },
      "outputs": [],
      "source": [
        "people.iloc[1:3]"
      ]
    },
    {
      "cell_type": "markdown",
      "metadata": {
        "id": "tKd5brBES7QO"
      },
      "source": [
        "마자믹으로 불리언 배열을 전달하여 해당하는 행을 가져올 수 있습니다:"
      ]
    },
    {
      "cell_type": "code",
      "execution_count": null,
      "metadata": {
        "colab": {
          "base_uri": "https://localhost:8080/",
          "height": 112
        },
        "execution": {
          "iopub.execute_input": "2020-10-16T07:31:26.808646Z",
          "iopub.status.busy": "2020-10-16T07:31:26.807301Z",
          "iopub.status.idle": "2020-10-16T07:31:26.811968Z",
          "shell.execute_reply": "2020-10-16T07:31:26.813013Z"
        },
        "id": "fUT3EmKCS7QP",
        "outputId": "ee7fada1-d51d-477e-fecf-ced75d5d8586"
      },
      "outputs": [],
      "source": [
        "people[np.array([True, False, True])]"
      ]
    },
    {
      "cell_type": "markdown",
      "metadata": {
        "id": "5PzlbktSS7QP"
      },
      "source": [
        "불리언 표현식을 사용할 때 아주 유용합니다:"
      ]
    },
    {
      "cell_type": "code",
      "execution_count": null,
      "metadata": {
        "colab": {
          "base_uri": "https://localhost:8080/",
          "height": 112
        },
        "execution": {
          "iopub.execute_input": "2020-10-16T07:31:26.829832Z",
          "iopub.status.busy": "2020-10-16T07:31:26.828532Z",
          "iopub.status.idle": "2020-10-16T07:31:26.833273Z",
          "shell.execute_reply": "2020-10-16T07:31:26.834311Z"
        },
        "id": "ypYOUpLAS7QP",
        "outputId": "52a6ec43-6be8-4b18-b666-8bbc09357c9e"
      },
      "outputs": [],
      "source": [
        "people[people[\"birthyear\"] < 1990]"
      ]
    },
    {
      "cell_type": "markdown",
      "metadata": {
        "id": "uujGrN33S7QP"
      },
      "source": [
        "## 열 추가, 삭제\n",
        "\n",
        "`DataFrame`을 `Series`의 딕셔너리처럼 다룰 수 있습니다. 따라서 다음 같이 쓸 수 있습니다:"
      ]
    },
    {
      "cell_type": "code",
      "execution_count": null,
      "metadata": {
        "colab": {
          "base_uri": "https://localhost:8080/",
          "height": 143
        },
        "execution": {
          "iopub.execute_input": "2020-10-16T07:31:26.848712Z",
          "iopub.status.busy": "2020-10-16T07:31:26.847466Z",
          "iopub.status.idle": "2020-10-16T07:31:26.852951Z",
          "shell.execute_reply": "2020-10-16T07:31:26.851924Z"
        },
        "id": "VhLKjcjsS7QP",
        "outputId": "e798d1a5-829d-46ec-f6e7-5089ad41c5b1"
      },
      "outputs": [],
      "source": [
        "people"
      ]
    },
    {
      "cell_type": "code",
      "execution_count": null,
      "metadata": {
        "colab": {
          "base_uri": "https://localhost:8080/",
          "height": 143
        },
        "execution": {
          "iopub.execute_input": "2020-10-16T07:31:26.873305Z",
          "iopub.status.busy": "2020-10-16T07:31:26.872037Z",
          "iopub.status.idle": "2020-10-16T07:31:26.876795Z",
          "shell.execute_reply": "2020-10-16T07:31:26.877922Z"
        },
        "id": "U5u9IvOUS7QP",
        "outputId": "4af2191c-be8e-487f-93d2-fdb4d2be4796"
      },
      "outputs": [],
      "source": [
        "people[\"age\"] = 2018 - people[\"birthyear\"]  # \"age\" 열을 추가합니다\n",
        "people[\"over 30\"] = people[\"age\"] > 30      # \"over 30\" 열을 추가합니다\n",
        "birthyears = people.pop(\"birthyear\")\n",
        "del people[\"children\"]\n",
        "\n",
        "people"
      ]
    },
    {
      "cell_type": "code",
      "execution_count": null,
      "metadata": {
        "colab": {
          "base_uri": "https://localhost:8080/"
        },
        "execution": {
          "iopub.execute_input": "2020-10-16T07:31:26.886529Z",
          "iopub.status.busy": "2020-10-16T07:31:26.885421Z",
          "iopub.status.idle": "2020-10-16T07:31:26.890520Z",
          "shell.execute_reply": "2020-10-16T07:31:26.889567Z"
        },
        "id": "RqXNNvUWS7QP",
        "outputId": "35b680a2-a671-43ad-fe64-181988a756b4"
      },
      "outputs": [],
      "source": [
        "birthyears"
      ]
    },
    {
      "cell_type": "markdown",
      "metadata": {
        "id": "3VJ60P4aS7QQ"
      },
      "source": [
        "새로운 열을 추가할 때 행의 개수는 같아야 합니다. 누락된 행은 `NaN`으로 채워지고 추가적인 행은 무시됩니다:"
      ]
    },
    {
      "cell_type": "code",
      "execution_count": null,
      "metadata": {
        "colab": {
          "base_uri": "https://localhost:8080/",
          "height": 143
        },
        "execution": {
          "iopub.execute_input": "2020-10-16T07:31:26.910981Z",
          "iopub.status.busy": "2020-10-16T07:31:26.909610Z",
          "iopub.status.idle": "2020-10-16T07:31:26.914677Z",
          "shell.execute_reply": "2020-10-16T07:31:26.915783Z"
        },
        "id": "KRhTPLlrS7QQ",
        "outputId": "76bb2f80-38ba-4cd5-ee59-13f4b519890c"
      },
      "outputs": [],
      "source": [
        "people[\"pets\"] = pd.Series({\"bob\": 0, \"charles\": 5, \"eugene\":1})  # alice 누락됨, eugene은 무시됨\n",
        "people"
      ]
    },
    {
      "cell_type": "markdown",
      "metadata": {
        "id": "OwaODtXqS7QQ"
      },
      "source": [
        "새로운 열을 추가할 때 기본적으로 (오른쪽) 끝에 추가됩니다. `insert()` 메서드를 사용해 다른 곳에 열을 추가할 수 있습니다:"
      ]
    },
    {
      "cell_type": "code",
      "execution_count": null,
      "metadata": {
        "colab": {
          "base_uri": "https://localhost:8080/",
          "height": 143
        },
        "execution": {
          "iopub.execute_input": "2020-10-16T07:31:26.935076Z",
          "iopub.status.busy": "2020-10-16T07:31:26.933817Z",
          "iopub.status.idle": "2020-10-16T07:31:26.938345Z",
          "shell.execute_reply": "2020-10-16T07:31:26.939377Z"
        },
        "id": "FrvevCDyS7QQ",
        "outputId": "5c9c5c4a-67cf-4160-fbb3-6d0db8bebfdf"
      },
      "outputs": [],
      "source": [
        "people.insert(1, \"height\", [172, 181, 185])\n",
        "people"
      ]
    },
    {
      "cell_type": "markdown",
      "metadata": {
        "id": "RisgAaaZS7QQ"
      },
      "source": [
        "### 새로운 열 할당하기\n",
        "\n",
        "`assign()` 메서드를 호출하여 새로운 열을 만들 수도 있습니다. 이는 새로운 `DataFrame` 객체를 반환하며 원본 객체는 변경되지 않습니다:"
      ]
    },
    {
      "cell_type": "code",
      "execution_count": null,
      "metadata": {
        "colab": {
          "base_uri": "https://localhost:8080/",
          "height": 143
        },
        "execution": {
          "iopub.execute_input": "2020-10-16T07:31:26.963676Z",
          "iopub.status.busy": "2020-10-16T07:31:26.962421Z",
          "iopub.status.idle": "2020-10-16T07:31:26.966980Z",
          "shell.execute_reply": "2020-10-16T07:31:26.968012Z"
        },
        "id": "OGNRfRQwS7QQ",
        "outputId": "f7a0e6fa-888c-47f9-f05e-b371279f86df"
      },
      "outputs": [],
      "source": [
        "people.assign(\n",
        "    body_mass_index = people[\"weight\"] / (people[\"height\"] / 100) ** 2,\n",
        "    has_pets = people[\"pets\"] > 0\n",
        ")"
      ]
    },
    {
      "cell_type": "markdown",
      "metadata": {
        "id": "f7Ig_yFlS7QQ"
      },
      "source": [
        "할당문 안에서 만든 열은 접근할 수 없습니다:"
      ]
    },
    {
      "cell_type": "code",
      "execution_count": null,
      "metadata": {
        "colab": {
          "base_uri": "https://localhost:8080/"
        },
        "execution": {
          "iopub.execute_input": "2020-10-16T07:31:26.979950Z",
          "iopub.status.busy": "2020-10-16T07:31:26.978686Z",
          "iopub.status.idle": "2020-10-16T07:31:26.984376Z",
          "shell.execute_reply": "2020-10-16T07:31:26.983363Z"
        },
        "id": "Cg0d1_-2S7QR",
        "outputId": "f6148b63-a7f6-4b31-bf71-b3ee050bb8ee"
      },
      "outputs": [],
      "source": [
        "try:\n",
        "    people.assign(\n",
        "        body_mass_index = people[\"weight\"] / (people[\"height\"] / 100) ** 2,\n",
        "        overweight = people[\"body_mass_index\"] > 25\n",
        "    )\n",
        "except KeyError as e:\n",
        "    print(\"키 에러:\", e)"
      ]
    },
    {
      "cell_type": "markdown",
      "metadata": {
        "id": "iltOYD6SS7QR"
      },
      "source": [
        "해결책은 두 개의 연속된 할당문으로 나누는 것입니다:"
      ]
    },
    {
      "cell_type": "code",
      "execution_count": null,
      "metadata": {
        "colab": {
          "base_uri": "https://localhost:8080/",
          "height": 143
        },
        "execution": {
          "iopub.execute_input": "2020-10-16T07:31:27.008299Z",
          "iopub.status.busy": "2020-10-16T07:31:26.995147Z",
          "iopub.status.idle": "2020-10-16T07:31:27.014321Z",
          "shell.execute_reply": "2020-10-16T07:31:27.012947Z"
        },
        "id": "dHmYfNJDS7QR",
        "outputId": "9b4b6e20-c677-4c14-f00e-b597ace14dcd"
      },
      "outputs": [],
      "source": [
        "d6 = people.assign(body_mass_index = people[\"weight\"] / (people[\"height\"] / 100) ** 2)\n",
        "d6.assign(overweight = d6[\"body_mass_index\"] > 25)"
      ]
    },
    {
      "cell_type": "markdown",
      "metadata": {
        "id": "R7LjIsIMS7QR"
      },
      "source": [
        "임시 변수 `d6`를 만들면 불편합니다. `assign()` 메서드를 연결하고 싶겠지만 `people` 객체가 첫 번째 할당문에서 실제로 수정되지 않기 때문에 작동하지 않습니다:"
      ]
    },
    {
      "cell_type": "code",
      "execution_count": null,
      "metadata": {
        "colab": {
          "base_uri": "https://localhost:8080/"
        },
        "execution": {
          "iopub.execute_input": "2020-10-16T07:31:27.029304Z",
          "iopub.status.busy": "2020-10-16T07:31:27.027741Z",
          "iopub.status.idle": "2020-10-16T07:31:27.032521Z",
          "shell.execute_reply": "2020-10-16T07:31:27.033510Z"
        },
        "id": "3XoFA5qdS7QR",
        "outputId": "521bf081-af0b-40af-dff0-f8c8e36d4fe7"
      },
      "outputs": [],
      "source": [
        "try:\n",
        "    (people\n",
        "         .assign(body_mass_index = people[\"weight\"] / (people[\"height\"] / 100) ** 2)\n",
        "         .assign(overweight = people[\"body_mass_index\"] > 25)\n",
        "    )\n",
        "except KeyError as e:\n",
        "    print(\"키 에러:\", e)"
      ]
    },
    {
      "cell_type": "markdown",
      "metadata": {
        "id": "CS9fO7VGS7QR"
      },
      "source": [
        "하지만 걱정하지 마세요. 간단한 방법이 있습니다. `assign()` 메서드에 함수(전형적으로 `lambda` 함수)를 전달하면 `DataFrame`을 매개변수로 이 함수를 호출할 것입니다:"
      ]
    },
    {
      "cell_type": "code",
      "execution_count": null,
      "metadata": {
        "colab": {
          "base_uri": "https://localhost:8080/",
          "height": 143
        },
        "execution": {
          "iopub.execute_input": "2020-10-16T07:31:27.057521Z",
          "iopub.status.busy": "2020-10-16T07:31:27.043525Z",
          "iopub.status.idle": "2020-10-16T07:31:27.062274Z",
          "shell.execute_reply": "2020-10-16T07:31:27.063582Z"
        },
        "id": "WQlDor9pS7QR",
        "outputId": "05a908ee-6410-471d-fd9a-f04ee6d5b48e"
      },
      "outputs": [],
      "source": [
        "(people\n",
        "     .assign(body_mass_index = lambda df: df[\"weight\"] / (df[\"height\"] / 100) ** 2)\n",
        "     .assign(overweight = lambda df: df[\"body_mass_index\"] > 25)\n",
        ")"
      ]
    },
    {
      "cell_type": "markdown",
      "metadata": {
        "id": "JB4GPJd_S7QS"
      },
      "source": [
        "문제가 해결되었군요!"
      ]
    },
    {
      "cell_type": "markdown",
      "metadata": {
        "id": "Duv3l66kS7QS"
      },
      "source": [
        "## 표현식 평가\n",
        "\n",
        "판다스가 제공하는 뛰어난 기능 하나는 표현식 평가입니다. 이는 `numexpr` 라이브러리에 의존하기 때문에 설치가 되어 있어야 합니다."
      ]
    },
    {
      "cell_type": "code",
      "execution_count": null,
      "metadata": {
        "colab": {
          "base_uri": "https://localhost:8080/"
        },
        "execution": {
          "iopub.execute_input": "2020-10-16T07:31:27.088939Z",
          "iopub.status.busy": "2020-10-16T07:31:27.087317Z",
          "iopub.status.idle": "2020-10-16T07:31:27.092870Z",
          "shell.execute_reply": "2020-10-16T07:31:27.094182Z"
        },
        "id": "XZwi8xYiS7QS",
        "outputId": "9b6f10f3-2a80-45aa-e1b5-6d04d4d7fd8e"
      },
      "outputs": [],
      "source": [
        "people.eval(\"weight / (height/100) ** 2 > 25\")"
      ]
    },
    {
      "cell_type": "markdown",
      "metadata": {
        "id": "PG0cCJicS7QS"
      },
      "source": [
        "할당 표현식도 지원됩니다. `inplace=True`로 지정하면 수정된 복사본을 만들지 않고 바로 `DataFrame`을 변경합니다:"
      ]
    },
    {
      "cell_type": "code",
      "execution_count": null,
      "metadata": {
        "colab": {
          "base_uri": "https://localhost:8080/",
          "height": 143
        },
        "execution": {
          "iopub.execute_input": "2020-10-16T07:31:27.121360Z",
          "iopub.status.busy": "2020-10-16T07:31:27.119766Z",
          "iopub.status.idle": "2020-10-16T07:31:27.124873Z",
          "shell.execute_reply": "2020-10-16T07:31:27.125987Z"
        },
        "id": "0CFD61bWS7QS",
        "outputId": "336f2370-f5fd-4f3b-a7d4-cfd6a9ae47ec"
      },
      "outputs": [],
      "source": [
        "people.eval(\"body_mass_index = weight / (height/100) ** 2\", inplace=True)\n",
        "people"
      ]
    },
    {
      "cell_type": "markdown",
      "metadata": {
        "id": "MK7eH6FhS7QS"
      },
      "source": [
        "`'@'`를 접두어로 사용하여 지역 변수나 전역 변수를 참조할 수 있습니다:"
      ]
    },
    {
      "cell_type": "code",
      "execution_count": null,
      "metadata": {
        "colab": {
          "base_uri": "https://localhost:8080/",
          "height": 143
        },
        "execution": {
          "iopub.execute_input": "2020-10-16T07:31:27.151724Z",
          "iopub.status.busy": "2020-10-16T07:31:27.150378Z",
          "iopub.status.idle": "2020-10-16T07:31:27.155345Z",
          "shell.execute_reply": "2020-10-16T07:31:27.156398Z"
        },
        "id": "-EsCjDs3S7QS",
        "outputId": "f32a3286-d7a2-4ef5-c1c6-ee0d8ed2298e"
      },
      "outputs": [],
      "source": [
        "overweight_threshold = 30\n",
        "people.eval(\"overweight = body_mass_index > @overweight_threshold\", inplace=True)\n",
        "people"
      ]
    },
    {
      "cell_type": "markdown",
      "metadata": {
        "id": "r08kV4dmS7QT"
      },
      "source": [
        "## `DataFrame` 쿼리하기\n",
        "\n",
        "`query()` 메서드를 사용하면 쿼리 표현식에 기반하여 `DataFrame`을 필터링할 수 있습니다:"
      ]
    },
    {
      "cell_type": "code",
      "execution_count": null,
      "metadata": {
        "colab": {
          "base_uri": "https://localhost:8080/",
          "height": 81
        },
        "execution": {
          "iopub.execute_input": "2020-10-16T07:31:27.180483Z",
          "iopub.status.busy": "2020-10-16T07:31:27.168045Z",
          "iopub.status.idle": "2020-10-16T07:31:27.185677Z",
          "shell.execute_reply": "2020-10-16T07:31:27.186843Z"
        },
        "id": "Q30zXEruS7QT",
        "outputId": "eb0b0304-a4e8-42d1-c9fc-35aedb813779"
      },
      "outputs": [],
      "source": [
        "people.query(\"age > 30 and pets == 0\")"
      ]
    },
    {
      "cell_type": "markdown",
      "metadata": {
        "id": "8SWR065jS7QT"
      },
      "source": [
        "## `DataFrame` 정렬\n",
        "\n",
        "`sort_index` 메서드를 호출하여 `DataFrame`을 정렬할 수 있습니다. 기본적으로 인덱스 레이블을 기준으로 오름차순으로 행을 정렬합니다. 여기에서는 내림차순으로 정렬해 보죠:"
      ]
    },
    {
      "cell_type": "code",
      "execution_count": null,
      "metadata": {
        "colab": {
          "base_uri": "https://localhost:8080/",
          "height": 143
        },
        "execution": {
          "iopub.execute_input": "2020-10-16T07:31:27.209165Z",
          "iopub.status.busy": "2020-10-16T07:31:27.207658Z",
          "iopub.status.idle": "2020-10-16T07:31:27.212703Z",
          "shell.execute_reply": "2020-10-16T07:31:27.213844Z"
        },
        "id": "ebw4xirGS7QT",
        "outputId": "afa161d6-87e9-4a35-a074-ae1adb0c87ac"
      },
      "outputs": [],
      "source": [
        "people.sort_index(ascending=False)"
      ]
    },
    {
      "cell_type": "markdown",
      "metadata": {
        "id": "qaUVVguYS7QT"
      },
      "source": [
        "`sort_index`는 `DataFrame`의 정렬된 *복사본*을 반환합니다. `people`을 직접 수정하려면 `inplace` 매개변수를 `True`로 지정합니다. 또한 `axis=1`로 지정하여 열 대신 행을 정렬할 수 있습니다:"
      ]
    },
    {
      "cell_type": "code",
      "execution_count": null,
      "metadata": {
        "colab": {
          "base_uri": "https://localhost:8080/",
          "height": 143
        },
        "execution": {
          "iopub.execute_input": "2020-10-16T07:31:27.235840Z",
          "iopub.status.busy": "2020-10-16T07:31:27.234491Z",
          "iopub.status.idle": "2020-10-16T07:31:27.239396Z",
          "shell.execute_reply": "2020-10-16T07:31:27.240434Z"
        },
        "id": "_XRSrWttS7QT",
        "outputId": "35ce8189-34c2-48d4-f2e9-ef60ed22eed7"
      },
      "outputs": [],
      "source": [
        "people.sort_index(axis=1, inplace=True)\n",
        "people"
      ]
    },
    {
      "cell_type": "markdown",
      "metadata": {
        "id": "l0GF38qGS7QU"
      },
      "source": [
        "레이블이 아니라 값을 기준으로 `DataFrame`을 정렬하려면 `sort_values`에 정렬하려는 열을 지정합니다:"
      ]
    },
    {
      "cell_type": "code",
      "execution_count": null,
      "metadata": {
        "colab": {
          "base_uri": "https://localhost:8080/",
          "height": 143
        },
        "execution": {
          "iopub.execute_input": "2020-10-16T07:31:27.261726Z",
          "iopub.status.busy": "2020-10-16T07:31:27.260351Z",
          "iopub.status.idle": "2020-10-16T07:31:27.265293Z",
          "shell.execute_reply": "2020-10-16T07:31:27.266432Z"
        },
        "id": "xNdq-iZFS7QU",
        "outputId": "8a9f3c1e-48fd-4c72-8f82-3fa073d0e8d8"
      },
      "outputs": [],
      "source": [
        "people.sort_values(by=\"age\", inplace=True)\n",
        "people"
      ]
    },
    {
      "cell_type": "markdown",
      "metadata": {
        "id": "LbYKS5oVS7QU"
      },
      "source": [
        "## `DataFrame` 그래프 그리기\n",
        "\n",
        "`Series`와 마찬가지로 판다스는 `DataFrame` 기반으로 멋진 그래프를 손쉽게 그릴 수 있습니다.\n",
        "\n",
        "예를 들어 `plot` 메서드를 호출하여 `DataFrame`의 데이터에서 선 그래프를 쉽게 그릴 수 있습니다:"
      ]
    },
    {
      "cell_type": "code",
      "execution_count": null,
      "metadata": {
        "colab": {
          "base_uri": "https://localhost:8080/",
          "height": 450
        },
        "execution": {
          "iopub.execute_input": "2020-10-16T07:31:27.304606Z",
          "iopub.status.busy": "2020-10-16T07:31:27.301491Z",
          "iopub.status.idle": "2020-10-16T07:31:27.517164Z",
          "shell.execute_reply": "2020-10-16T07:31:27.518611Z"
        },
        "id": "or5-K7WwS7QU",
        "outputId": "af3f04f1-c1a6-4ad8-f63e-44b6402b5771"
      },
      "outputs": [],
      "source": [
        "people.plot(kind = \"line\", x = \"body_mass_index\", y = [\"height\", \"weight\"])\n",
        "plt.show()"
      ]
    },
    {
      "cell_type": "markdown",
      "metadata": {
        "id": "HUkU0ykaS7QU"
      },
      "source": [
        "맷플롯립의 함수가 지원하는 다른 매개변수를 사용할 수 있습니다. 예를 들어, 산점도를 그릴 때 맷플롯립의 `scatter()` 함수의 `s` 매개변수를 사용해 크기를 지정할 수 있습니다:"
      ]
    },
    {
      "cell_type": "code",
      "execution_count": null,
      "metadata": {
        "colab": {
          "base_uri": "https://localhost:8080/",
          "height": 449
        },
        "execution": {
          "iopub.execute_input": "2020-10-16T07:31:27.558226Z",
          "iopub.status.busy": "2020-10-16T07:31:27.556557Z",
          "iopub.status.idle": "2020-10-16T07:31:27.738758Z",
          "shell.execute_reply": "2020-10-16T07:31:27.737322Z"
        },
        "id": "rw4DOyUmS7QU",
        "outputId": "18a10a71-417f-46e8-dbdd-e77eba781dc7",
        "scrolled": true
      },
      "outputs": [],
      "source": [
        "people.plot(kind = \"scatter\", x = \"height\", y = \"weight\", s=[40, 120, 200])\n",
        "plt.show()"
      ]
    },
    {
      "cell_type": "markdown",
      "metadata": {
        "id": "PtZYLYkzS7QU"
      },
      "source": [
        "선택할 수 있는 옵션이 많습니다. 판다스 문서의 [시각화](http://pandas.pydata.org/pandas-docs/stable/visualization.html) 페이지에서 마음에 드는 그래프를 찾아 예제 코드를 살펴 보세요."
      ]
    },
    {
      "cell_type": "markdown",
      "metadata": {
        "id": "oBUOv6m1S7QV"
      },
      "source": [
        "## `DataFrame` 연산\n",
        "\n",
        "`DataFrame`이 넘파이 배열을 흉내내려는 것은 아니지만 몇 가지 비슷한 점이 있습니다. 예제 `DataFrame`을 만들어 보죠:"
      ]
    },
    {
      "cell_type": "code",
      "execution_count": null,
      "metadata": {
        "colab": {
          "base_uri": "https://localhost:8080/",
          "height": 175
        },
        "execution": {
          "iopub.execute_input": "2020-10-16T07:31:27.757668Z",
          "iopub.status.busy": "2020-10-16T07:31:27.756294Z",
          "iopub.status.idle": "2020-10-16T07:31:27.761443Z",
          "shell.execute_reply": "2020-10-16T07:31:27.762642Z"
        },
        "id": "2DuW22n-S7QV",
        "outputId": "2215ff22-aeaf-4451-bfbc-b350ad078f91"
      },
      "outputs": [],
      "source": [
        "grades_array = np.array([[8,8,9],[10,9,9],[4, 8, 2], [9, 10, 10]])\n",
        "grades = pd.DataFrame(grades_array, columns=[\"sep\", \"oct\", \"nov\"], index=[\"alice\",\"bob\",\"charles\",\"darwin\"])\n",
        "grades"
      ]
    },
    {
      "cell_type": "markdown",
      "metadata": {
        "id": "FK-v2OvbS7QV"
      },
      "source": [
        "`DataFrame`에 넘파이 수학 함수를 적용하면 모든 값에 이 함수가 적용됩니다:"
      ]
    },
    {
      "cell_type": "code",
      "execution_count": null,
      "metadata": {
        "colab": {
          "base_uri": "https://localhost:8080/",
          "height": 175
        },
        "execution": {
          "iopub.execute_input": "2020-10-16T07:31:27.780212Z",
          "iopub.status.busy": "2020-10-16T07:31:27.778767Z",
          "iopub.status.idle": "2020-10-16T07:31:27.783503Z",
          "shell.execute_reply": "2020-10-16T07:31:27.784467Z"
        },
        "id": "kQbqpj03S7QV",
        "outputId": "c349c5b8-5b87-4a16-e082-982d58cfc5b2"
      },
      "outputs": [],
      "source": [
        "np.sqrt(grades)"
      ]
    },
    {
      "cell_type": "markdown",
      "metadata": {
        "id": "Tzv5rzmCS7QV"
      },
      "source": [
        "비슷하게 `DataFrame`에 하나의 값을 더하면 `DataFrame`의 모든 원소에 이 값이 더해집니다. 이를 *브로드캐스팅*이라고 합니다:"
      ]
    },
    {
      "cell_type": "code",
      "execution_count": null,
      "metadata": {
        "colab": {
          "base_uri": "https://localhost:8080/",
          "height": 175
        },
        "execution": {
          "iopub.execute_input": "2020-10-16T07:31:27.798080Z",
          "iopub.status.busy": "2020-10-16T07:31:27.796749Z",
          "iopub.status.idle": "2020-10-16T07:31:27.801579Z",
          "shell.execute_reply": "2020-10-16T07:31:27.802616Z"
        },
        "id": "RMf3cWAKS7QV",
        "outputId": "58300bf0-349c-443f-ab1c-cb54e0ca5619"
      },
      "outputs": [],
      "source": [
        "grades + 1"
      ]
    },
    {
      "cell_type": "markdown",
      "metadata": {
        "id": "m1pq0ngAS7QV"
      },
      "source": [
        "물론 산술 연산(`*`,`/`,`**`...)과 조건 연산(`>`, `==`...)을 포함해 모든 이항 연산에도 마찬가지 입니다:"
      ]
    },
    {
      "cell_type": "code",
      "execution_count": null,
      "metadata": {
        "colab": {
          "base_uri": "https://localhost:8080/",
          "height": 175
        },
        "execution": {
          "iopub.execute_input": "2020-10-16T07:31:27.817148Z",
          "iopub.status.busy": "2020-10-16T07:31:27.815851Z",
          "iopub.status.idle": "2020-10-16T07:31:27.820194Z",
          "shell.execute_reply": "2020-10-16T07:31:27.821180Z"
        },
        "id": "vs-mZDrsS7QV",
        "outputId": "e7ed2273-5676-4a89-ba6d-67456886cc24",
        "scrolled": false
      },
      "outputs": [],
      "source": [
        "grades >= 5"
      ]
    },
    {
      "cell_type": "markdown",
      "metadata": {
        "id": "agpMLlDfS7QW"
      },
      "source": [
        "`DataFrame`의 `max`, `sum`, `mean` 같은 집계 연산은 각 열에 적용되어 `Series` 객체가 반환됩니다:"
      ]
    },
    {
      "cell_type": "code",
      "execution_count": null,
      "metadata": {
        "colab": {
          "base_uri": "https://localhost:8080/"
        },
        "execution": {
          "iopub.execute_input": "2020-10-16T07:31:27.831044Z",
          "iopub.status.busy": "2020-10-16T07:31:27.829879Z",
          "iopub.status.idle": "2020-10-16T07:31:27.835347Z",
          "shell.execute_reply": "2020-10-16T07:31:27.834398Z"
        },
        "id": "yNCdzeNnS7QW",
        "outputId": "6ee1bdbc-e0eb-4973-bc20-102e550e90a3"
      },
      "outputs": [],
      "source": [
        "grades.mean()"
      ]
    },
    {
      "cell_type": "markdown",
      "metadata": {
        "id": "pH_K8LeFS7QW"
      },
      "source": [
        "`all` 메서드도 집계 연산입니다: 모든 값이 `True`인지 아닌지 확인합니다. 모든 학생의 점수가 `5` 이상인 월을 찾아 보죠:"
      ]
    },
    {
      "cell_type": "code",
      "execution_count": null,
      "metadata": {
        "colab": {
          "base_uri": "https://localhost:8080/"
        },
        "execution": {
          "iopub.execute_input": "2020-10-16T07:31:27.845808Z",
          "iopub.status.busy": "2020-10-16T07:31:27.844575Z",
          "iopub.status.idle": "2020-10-16T07:31:27.849198Z",
          "shell.execute_reply": "2020-10-16T07:31:27.850237Z"
        },
        "id": "F9x1ILeBS7QW",
        "outputId": "b029a763-4ae0-4f83-db20-df10f63708d0"
      },
      "outputs": [],
      "source": [
        "(grades > 5).all()"
      ]
    },
    {
      "cell_type": "markdown",
      "metadata": {
        "id": "54TuDLjhS7QX"
      },
      "source": [
        "이러한 함수는 대부분 선택 매개변수인 `axis`를 사용하여 `DataFrame`의 어느 축을 따라 연산을 실행할지 지정할 수 있습니다. 기본값은 `axis=0`이며, 이는 연산을 세로로(각 열에서) 실행한다는 의미입니다. `axis=1`을 설정하면 연산을 가로로(각 행에서) 실행할 수 있습니다. 예를 들어 모든 성적이 `5`보다 큰 학생을 찾아보겠습니다:"
      ]
    },
    {
      "cell_type": "code",
      "execution_count": null,
      "metadata": {
        "colab": {
          "base_uri": "https://localhost:8080/"
        },
        "execution": {
          "iopub.execute_input": "2020-10-16T07:31:27.860089Z",
          "iopub.status.busy": "2020-10-16T07:31:27.858925Z",
          "iopub.status.idle": "2020-10-16T07:31:27.863574Z",
          "shell.execute_reply": "2020-10-16T07:31:27.864558Z"
        },
        "id": "3ft56q9gS7QX",
        "outputId": "646f125b-ea7d-4933-ab9f-5ec53d38e239"
      },
      "outputs": [],
      "source": [
        "(grades > 5).all(axis = 1)"
      ]
    },
    {
      "cell_type": "markdown",
      "metadata": {
        "id": "wKv1xEH-S7QX"
      },
      "source": [
        "`any` 메서드는 하나라도 참이면 `True`를 반환합니다. 한 번이라도 10점을 받은 사람을 찾아 보죠:"
      ]
    },
    {
      "cell_type": "code",
      "execution_count": null,
      "metadata": {
        "colab": {
          "base_uri": "https://localhost:8080/"
        },
        "execution": {
          "iopub.execute_input": "2020-10-16T07:31:27.875152Z",
          "iopub.status.busy": "2020-10-16T07:31:27.873989Z",
          "iopub.status.idle": "2020-10-16T07:31:27.878564Z",
          "shell.execute_reply": "2020-10-16T07:31:27.879476Z"
        },
        "id": "IjFjlRe2S7QX",
        "outputId": "3ed6822e-ba58-43a0-f942-8bff9449be0e"
      },
      "outputs": [],
      "source": [
        "(grades == 10).any(axis = 1)"
      ]
    },
    {
      "cell_type": "markdown",
      "metadata": {
        "id": "wjd9Q1S9S7QX"
      },
      "source": [
        "`DataFrame`에 `Series` 객체를 더하면 (또는 다른 이항 연산을 수행하면) 판다스는 `DataFrame`에 있는 모든 *행*에 이 연산을 브로드캐스팅합니다. 이는 `Series` 객체가 `DataFrame`의 행의 개수와 크기가 같을 때만 동작합니다. 예를 들어 `DataFrame`의 `mean`(`Series` 객체)을 빼보죠:"
      ]
    },
    {
      "cell_type": "code",
      "execution_count": null,
      "metadata": {
        "colab": {
          "base_uri": "https://localhost:8080/",
          "height": 175
        },
        "execution": {
          "iopub.execute_input": "2020-10-16T07:31:27.896652Z",
          "iopub.status.busy": "2020-10-16T07:31:27.895549Z",
          "iopub.status.idle": "2020-10-16T07:31:27.900125Z",
          "shell.execute_reply": "2020-10-16T07:31:27.901252Z"
        },
        "id": "Qnw5OvdnS7QX",
        "outputId": "b6e9cc33-3eb1-4f57-d020-9da1314d2648"
      },
      "outputs": [],
      "source": [
        "grades - grades.mean()  # grades - [7.75, 8.75, 7.50] 와 동일"
      ]
    },
    {
      "cell_type": "markdown",
      "metadata": {
        "id": "Jy7JxrNMS7QY"
      },
      "source": [
        "모든 9월 성적에서 `7.75`를 빼고, 10월 성적에서 `8.75`를 빼고, 11월 성적에서 `7.50`을 뺍니다. 이는 다음 `DataFrame`을 빼는 것과 같습니다:"
      ]
    },
    {
      "cell_type": "code",
      "execution_count": null,
      "metadata": {
        "colab": {
          "base_uri": "https://localhost:8080/",
          "height": 175
        },
        "execution": {
          "iopub.execute_input": "2020-10-16T07:31:27.919376Z",
          "iopub.status.busy": "2020-10-16T07:31:27.918032Z",
          "iopub.status.idle": "2020-10-16T07:31:27.922814Z",
          "shell.execute_reply": "2020-10-16T07:31:27.923850Z"
        },
        "id": "LQYdUcROS7QY",
        "outputId": "907b0db8-ceda-4d80-99ab-1656dec45408"
      },
      "outputs": [],
      "source": [
        "pd.DataFrame([[7.75, 8.75, 7.50]]*4, index=grades.index, columns=grades.columns)"
      ]
    },
    {
      "cell_type": "markdown",
      "metadata": {
        "id": "ts9pia7yS7QY"
      },
      "source": [
        "모든 성적의 전체 평균을 빼고 싶다면 다음과 같은 방법을 사용합니다:"
      ]
    },
    {
      "cell_type": "code",
      "execution_count": null,
      "metadata": {
        "colab": {
          "base_uri": "https://localhost:8080/",
          "height": 175
        },
        "execution": {
          "iopub.execute_input": "2020-10-16T07:31:27.943417Z",
          "iopub.status.busy": "2020-10-16T07:31:27.942164Z",
          "iopub.status.idle": "2020-10-16T07:31:27.946771Z",
          "shell.execute_reply": "2020-10-16T07:31:27.947804Z"
        },
        "id": "DIvTT9V5S7QY",
        "outputId": "6466508e-833d-4606-87d9-6816ef558cdf",
        "scrolled": true
      },
      "outputs": [],
      "source": [
        "grades - grades.values.mean() # 모든 점수에서 전체 평균(8.00)을 뺍니다"
      ]
    },
    {
      "cell_type": "markdown",
      "metadata": {
        "id": "-nXUv2npS7QY"
      },
      "source": [
        "## 자동 정렬\n",
        "\n",
        "`Series`와 비슷하게 여러 개의 `DataFrame`에 대한 연산을 수행하면 판다스는 자동으로 행 인덱스 레이블로 정렬하지만 열 이름으로도 정렬할 수 있습니다. 10월부터 12월까지 보너스 포인트를 담은 `DataFrame`을 만들어 보겠습니다:"
      ]
    },
    {
      "cell_type": "code",
      "execution_count": null,
      "metadata": {
        "colab": {
          "base_uri": "https://localhost:8080/",
          "height": 175
        },
        "execution": {
          "iopub.execute_input": "2020-10-16T07:31:27.967853Z",
          "iopub.status.busy": "2020-10-16T07:31:27.966587Z",
          "iopub.status.idle": "2020-10-16T07:31:27.971328Z",
          "shell.execute_reply": "2020-10-16T07:31:27.972440Z"
        },
        "id": "Bi--aVAzS7QY",
        "outputId": "9d599075-9ad8-458b-def8-f9547a66ef15"
      },
      "outputs": [],
      "source": [
        "bonus_array = np.array([[0,np.nan,2],[np.nan,1,0],[0, 1, 0], [3, 3, 0]])\n",
        "bonus_points = pd.DataFrame(bonus_array, columns=[\"oct\", \"nov\", \"dec\"], index=[\"bob\",\"colin\", \"darwin\", \"charles\"])\n",
        "bonus_points"
      ]
    },
    {
      "cell_type": "code",
      "execution_count": null,
      "metadata": {
        "colab": {
          "base_uri": "https://localhost:8080/",
          "height": 206
        },
        "execution": {
          "iopub.execute_input": "2020-10-16T07:31:27.995052Z",
          "iopub.status.busy": "2020-10-16T07:31:27.993703Z",
          "iopub.status.idle": "2020-10-16T07:31:28.000013Z",
          "shell.execute_reply": "2020-10-16T07:31:28.001109Z"
        },
        "id": "TEwFZzHSS7QY",
        "outputId": "7f5f5867-2858-4a10-8ffc-13d27ffd3938",
        "scrolled": true
      },
      "outputs": [],
      "source": [
        "grades + bonus_points"
      ]
    },
    {
      "cell_type": "markdown",
      "metadata": {
        "id": "tVIraQAVS7QZ"
      },
      "source": [
        "덧셈 연산이 수행되었지만 너무 많은 원소가 `NaN`이 되었습니다. `DataFrame`을 정렬할 때 일부 열과 행이 한 쪽에만 있기 때문입니다. 다른 쪽에는 누란되었다고 간주합니다(`NaN`). `NaN`에 어떤 수를 더하면 `NaN`이 됩니다.\n",
        "\n",
        "## 누락된 데이터 다루기\n",
        "\n",
        "실제 데이터에서 누락된 데이터를 다루는 경우는 자주 발생합니다. 판다스는 누락된 데이터를 다룰 수 있는 몇 가지 방법을 제공합니다.\n",
        "\n",
        "위 데이터에 있는 문제를 해결해 보죠. 예를 들어, 누락된 데이터는 `NaN`이 아니라 0이 되어야 한다고 결정할 수 있습니다. `fillna()` 메서드를 사용해 모든 `NaN` 값을 어떤 값으로 바꿀 수 있습니다:"
      ]
    },
    {
      "cell_type": "code",
      "execution_count": null,
      "metadata": {
        "colab": {
          "base_uri": "https://localhost:8080/",
          "height": 206
        },
        "execution": {
          "iopub.execute_input": "2020-10-16T07:31:28.031419Z",
          "iopub.status.busy": "2020-10-16T07:31:28.030067Z",
          "iopub.status.idle": "2020-10-16T07:31:28.036381Z",
          "shell.execute_reply": "2020-10-16T07:31:28.035045Z"
        },
        "id": "C7ZpoICFS7QZ",
        "outputId": "bc7533e3-a508-4e45-f3bf-7a25ccb30f23",
        "scrolled": true
      },
      "outputs": [],
      "source": [
        "(grades + bonus_points).fillna(0)"
      ]
    },
    {
      "cell_type": "markdown",
      "metadata": {
        "id": "yRV3-HHsS7QZ"
      },
      "source": [
        "9월의 점수를 0으로 만드는 것은 공정하지 않습니다. 누락된 점수는 그대로 두고, 누락된 보너스 포인트는 0으로 바꿀 수 있습니다:"
      ]
    },
    {
      "cell_type": "code",
      "execution_count": null,
      "metadata": {
        "colab": {
          "base_uri": "https://localhost:8080/",
          "height": 206
        },
        "execution": {
          "iopub.execute_input": "2020-10-16T07:31:28.066978Z",
          "iopub.status.busy": "2020-10-16T07:31:28.065621Z",
          "iopub.status.idle": "2020-10-16T07:31:28.072091Z",
          "shell.execute_reply": "2020-10-16T07:31:28.070746Z"
        },
        "id": "qPJP6om5S7QZ",
        "outputId": "983ad549-d43c-4496-8ce1-2233bfba71ea"
      },
      "outputs": [],
      "source": [
        "fixed_bonus_points = bonus_points.fillna(0)\n",
        "fixed_bonus_points.insert(0, \"sep\", 0)\n",
        "fixed_bonus_points.loc[\"alice\"] = 0\n",
        "grades + fixed_bonus_points"
      ]
    },
    {
      "cell_type": "markdown",
      "metadata": {
        "id": "UF9Cs7nQS7QZ"
      },
      "source": [
        "훨씬 낫네요: 일부 데이터를 꾸며냈지만 덜 불공정합니다.\n",
        "\n",
        "누락된 값을 다루는 또 다른 방법은 보간입니다. `bonus_points` `DataFrame`을 다시 보죠:"
      ]
    },
    {
      "cell_type": "code",
      "execution_count": null,
      "metadata": {
        "colab": {
          "base_uri": "https://localhost:8080/",
          "height": 175
        },
        "execution": {
          "iopub.execute_input": "2020-10-16T07:31:28.088876Z",
          "iopub.status.busy": "2020-10-16T07:31:28.087481Z",
          "iopub.status.idle": "2020-10-16T07:31:28.093651Z",
          "shell.execute_reply": "2020-10-16T07:31:28.092464Z"
        },
        "id": "o4QdBM_qS7QZ",
        "outputId": "7182c50a-b60e-4c86-90bd-1013a78e7961"
      },
      "outputs": [],
      "source": [
        "bonus_points"
      ]
    },
    {
      "cell_type": "markdown",
      "metadata": {
        "id": "E3OVClcTS7QZ"
      },
      "source": [
        "`interpolate` 메서드를 사용해 보죠. 기본적으로 수직 방향(`axis=0`)으로 보간합니다. 따라서 수평으로(`axis=1`)으로 보간하도록 지정합니다."
      ]
    },
    {
      "cell_type": "code",
      "execution_count": null,
      "metadata": {
        "colab": {
          "base_uri": "https://localhost:8080/",
          "height": 175
        },
        "execution": {
          "iopub.execute_input": "2020-10-16T07:31:28.114424Z",
          "iopub.status.busy": "2020-10-16T07:31:28.113078Z",
          "iopub.status.idle": "2020-10-16T07:31:28.119895Z",
          "shell.execute_reply": "2020-10-16T07:31:28.118779Z"
        },
        "id": "7rojlT01S7Qa",
        "outputId": "f8255325-8017-487d-a16d-533446d88665",
        "scrolled": false
      },
      "outputs": [],
      "source": [
        "bonus_points.interpolate(axis=1)"
      ]
    },
    {
      "cell_type": "markdown",
      "metadata": {
        "id": "7hufM7qmS7Qa"
      },
      "source": [
        "bob의 보너스 포인트는 10월에 0이고 12월에 2입니다. 11월을 보간하면 평균 보너스 포인트 1을 얻습니다. colin의 보너스 포인트는 11월에 1이지만 9월에 포인트는 얼마인지 모릅니다. 따라서 보간할 수 없고 10월의 포인트는 그대로 누락된 값으로 남아 있습니다. 이를 해결하려면 보간하기 전에 9월의 보너스 포인트를 0으로 설정해야 합니다."
      ]
    },
    {
      "cell_type": "code",
      "execution_count": null,
      "metadata": {
        "colab": {
          "base_uri": "https://localhost:8080/",
          "height": 206
        },
        "execution": {
          "iopub.execute_input": "2020-10-16T07:31:28.147938Z",
          "iopub.status.busy": "2020-10-16T07:31:28.146576Z",
          "iopub.status.idle": "2020-10-16T07:31:28.152995Z",
          "shell.execute_reply": "2020-10-16T07:31:28.151814Z"
        },
        "id": "XlcmFy3pS7Qa",
        "outputId": "1872a5fd-ba69-4b41-d341-c3e3c3aef086"
      },
      "outputs": [],
      "source": [
        "better_bonus_points = bonus_points.copy()\n",
        "better_bonus_points.insert(0, \"sep\", 0)\n",
        "better_bonus_points.loc[\"alice\"] = 0\n",
        "better_bonus_points = better_bonus_points.interpolate(axis=1)\n",
        "better_bonus_points"
      ]
    },
    {
      "cell_type": "markdown",
      "metadata": {
        "id": "oVTpC_OAS7Qa"
      },
      "source": [
        "좋습니다. 이제 모든 보너스 포인트가 합리적으로 보간되었습니다. 최종 점수를 확인해 보죠:"
      ]
    },
    {
      "cell_type": "code",
      "execution_count": null,
      "metadata": {
        "colab": {
          "base_uri": "https://localhost:8080/",
          "height": 206
        },
        "execution": {
          "iopub.execute_input": "2020-10-16T07:31:28.175899Z",
          "iopub.status.busy": "2020-10-16T07:31:28.174553Z",
          "iopub.status.idle": "2020-10-16T07:31:28.181130Z",
          "shell.execute_reply": "2020-10-16T07:31:28.179772Z"
        },
        "id": "FmAvvWhHS7Qa",
        "outputId": "c827458f-2286-4af0-a8ee-46d20adc9ca2"
      },
      "outputs": [],
      "source": [
        "grades + better_bonus_points"
      ]
    },
    {
      "cell_type": "markdown",
      "metadata": {
        "id": "R_Q7FiJbS7Qa"
      },
      "source": [
        "9월 열이 오른쪽에 추가되었는데 좀 이상합니다. 이는 더하려는 `DataFrame`이 정확히 같은 열을 가지고 있지 않기 때문입니다(`grade` `DataFrame`에는 `\"dec\"` 열이 없습니다). 따라서 판다스는 알파벳 순서로 최종 열을 정렬합니다. 이를 해결하려면 덧셈을 하기 전에 누락된 열을 추가하면 됩니다:"
      ]
    },
    {
      "cell_type": "code",
      "execution_count": null,
      "metadata": {
        "colab": {
          "base_uri": "https://localhost:8080/",
          "height": 206
        },
        "execution": {
          "iopub.execute_input": "2020-10-16T07:31:28.202239Z",
          "iopub.status.busy": "2020-10-16T07:31:28.200876Z",
          "iopub.status.idle": "2020-10-16T07:31:28.207279Z",
          "shell.execute_reply": "2020-10-16T07:31:28.206121Z"
        },
        "id": "pssb55EuS7Qa",
        "outputId": "f7752a92-b518-48ac-ae9a-a926e4a9c8e3",
        "scrolled": true
      },
      "outputs": [],
      "source": [
        "grades[\"dec\"] = np.nan\n",
        "final_grades = grades + better_bonus_points\n",
        "final_grades"
      ]
    },
    {
      "cell_type": "markdown",
      "metadata": {
        "id": "McFHcccXS7Qb"
      },
      "source": [
        "12월과 colin에 대해 할 수 있는 것이 많지 않습니다. 보너스 포인트를 만드는 것이 나쁘지만 점수를 합리적으로 올릴 수는 없습니다(어떤 선생님들은 그럴 수 있지만). `dropna()` 메서드를 사용해 모두 `NaN`인 행을 삭제합니다:"
      ]
    },
    {
      "cell_type": "code",
      "execution_count": null,
      "metadata": {
        "colab": {
          "base_uri": "https://localhost:8080/",
          "height": 175
        },
        "execution": {
          "iopub.execute_input": "2020-10-16T07:31:28.226459Z",
          "iopub.status.busy": "2020-10-16T07:31:28.225200Z",
          "iopub.status.idle": "2020-10-16T07:31:28.231887Z",
          "shell.execute_reply": "2020-10-16T07:31:28.230844Z"
        },
        "id": "JqkGCoMnS7Qb",
        "outputId": "4892ca59-042d-4c8f-ae64-2bc5e14a4d75"
      },
      "outputs": [],
      "source": [
        "final_grades_clean = final_grades.dropna(how=\"all\")\n",
        "final_grades_clean"
      ]
    },
    {
      "cell_type": "markdown",
      "metadata": {
        "id": "e88OMSLFS7Qb"
      },
      "source": [
        "그다음 `axis` 매개변수를 `1`로 지정하여 모두 `NaN`인 열을 삭제합니다:"
      ]
    },
    {
      "cell_type": "code",
      "execution_count": null,
      "metadata": {
        "colab": {
          "base_uri": "https://localhost:8080/",
          "height": 175
        },
        "execution": {
          "iopub.execute_input": "2020-10-16T07:31:28.249932Z",
          "iopub.status.busy": "2020-10-16T07:31:28.248633Z",
          "iopub.status.idle": "2020-10-16T07:31:28.255413Z",
          "shell.execute_reply": "2020-10-16T07:31:28.254162Z"
        },
        "id": "DAbmOhrVS7Qb",
        "outputId": "f68aefc2-810f-46a7-fcfb-14cda9640a80"
      },
      "outputs": [],
      "source": [
        "final_grades_clean = final_grades_clean.dropna(axis=1, how=\"all\")\n",
        "final_grades_clean"
      ]
    },
    {
      "cell_type": "markdown",
      "metadata": {
        "id": "hKlmh9TJS7Qb"
      },
      "source": [
        "## `groupby`로 집계하기\n",
        "\n",
        "SQL과 비슷하게 판다스는 데이터를 그룹핑하고 각 그룹에 대해 연산을 수행할 수 있습니다.\n",
        "\n",
        "먼저 그루핑을 위해 각 사람의 데이터를 추가로 만들겠습니다. `NaN` 값을 어떻게 다루는지 보기 위해 `final_grades` `DataFrame`을 다시 사용하겠습니다:"
      ]
    },
    {
      "cell_type": "code",
      "execution_count": null,
      "metadata": {
        "colab": {
          "base_uri": "https://localhost:8080/",
          "height": 206
        },
        "execution": {
          "iopub.execute_input": "2020-10-16T07:31:28.275015Z",
          "iopub.status.busy": "2020-10-16T07:31:28.273759Z",
          "iopub.status.idle": "2020-10-16T07:31:28.280854Z",
          "shell.execute_reply": "2020-10-16T07:31:28.279781Z"
        },
        "id": "rQ9pzrfmS7Qb",
        "outputId": "40b12af1-d56f-4db6-bfe8-3fc24f0093c0",
        "scrolled": true
      },
      "outputs": [],
      "source": [
        "final_grades[\"hobby\"] = [\"Biking\", \"Dancing\", np.nan, \"Dancing\", \"Biking\"]\n",
        "final_grades"
      ]
    },
    {
      "cell_type": "markdown",
      "metadata": {
        "id": "JGGTbk4zS7Qb"
      },
      "source": [
        "hobby로 이 `DataFrame`을 그룹핑해 보죠:"
      ]
    },
    {
      "cell_type": "code",
      "execution_count": null,
      "metadata": {
        "colab": {
          "base_uri": "https://localhost:8080/"
        },
        "execution": {
          "iopub.execute_input": "2020-10-16T07:31:28.289508Z",
          "iopub.status.busy": "2020-10-16T07:31:28.288213Z",
          "iopub.status.idle": "2020-10-16T07:31:28.293911Z",
          "shell.execute_reply": "2020-10-16T07:31:28.294840Z"
        },
        "id": "tYwEx_RTS7Qc",
        "outputId": "50dd2289-4a2f-403c-87aa-4140db01ac0d"
      },
      "outputs": [],
      "source": [
        "grouped_grades = final_grades.groupby(\"hobby\")\n",
        "grouped_grades"
      ]
    },
    {
      "cell_type": "markdown",
      "metadata": {
        "id": "DuZBEcU8S7Qc"
      },
      "source": [
        "이제 hobby마다 평균 점수를 계산할 수 있습니다:"
      ]
    },
    {
      "cell_type": "code",
      "execution_count": null,
      "metadata": {
        "colab": {
          "base_uri": "https://localhost:8080/",
          "height": 143
        },
        "execution": {
          "iopub.execute_input": "2020-10-16T07:31:28.315872Z",
          "iopub.status.busy": "2020-10-16T07:31:28.314695Z",
          "iopub.status.idle": "2020-10-16T07:31:28.320059Z",
          "shell.execute_reply": "2020-10-16T07:31:28.321150Z"
        },
        "id": "urbsSrhkS7Qc",
        "outputId": "72d217ad-b6aa-4e77-d3c4-4c33255bfe94"
      },
      "outputs": [],
      "source": [
        "grouped_grades.mean()"
      ]
    },
    {
      "cell_type": "markdown",
      "metadata": {
        "id": "t_AB6CP5S7Qc"
      },
      "source": [
        "아주 쉽네요! 평균을 계산할 때 `NaN` 값은 그냥 무시됩니다."
      ]
    },
    {
      "cell_type": "markdown",
      "metadata": {
        "id": "0AC0wKFFS7Qc"
      },
      "source": [
        "## 피봇 테이블\n",
        "\n",
        "판다스는 스프레드시트와 비슷하 [피봇 테이블](https://en.wikipedia.org/wiki/Pivot_table)을 지원하여 데이터를 빠르게 요약할 수 있습니다. 어떻게 동작하는 알아 보기 위해 간단한 `DataFrame`을 만들어 보죠:"
      ]
    },
    {
      "cell_type": "code",
      "execution_count": null,
      "metadata": {
        "colab": {
          "base_uri": "https://localhost:8080/",
          "height": 175
        },
        "execution": {
          "iopub.execute_input": "2020-10-16T07:31:28.337894Z",
          "iopub.status.busy": "2020-10-16T07:31:28.336559Z",
          "iopub.status.idle": "2020-10-16T07:31:28.342840Z",
          "shell.execute_reply": "2020-10-16T07:31:28.341758Z"
        },
        "id": "cyt4AtWWS7Qc",
        "outputId": "d1b747d0-d824-4ef5-8686-8c43a509f609"
      },
      "outputs": [],
      "source": [
        "bonus_points"
      ]
    },
    {
      "cell_type": "code",
      "execution_count": null,
      "metadata": {
        "colab": {
          "base_uri": "https://localhost:8080/",
          "height": 425
        },
        "execution": {
          "iopub.execute_input": "2020-10-16T07:31:28.368578Z",
          "iopub.status.busy": "2020-10-16T07:31:28.367317Z",
          "iopub.status.idle": "2020-10-16T07:31:28.374218Z",
          "shell.execute_reply": "2020-10-16T07:31:28.373063Z"
        },
        "id": "NbYeM8wwS7Qd",
        "outputId": "2826e013-4407-4ab0-a784-98ccb2721142"
      },
      "outputs": [],
      "source": [
        "more_grades = final_grades_clean.stack().reset_index()\n",
        "more_grades.columns = [\"name\", \"month\", \"grade\"]\n",
        "more_grades[\"bonus\"] = [np.nan, np.nan, np.nan, 0, np.nan, 2, 3, 3, 0, 0, 1, 0]\n",
        "more_grades"
      ]
    },
    {
      "cell_type": "code",
      "execution_count": null,
      "metadata": {},
      "outputs": [],
      "source": [
        "more_grades.info()"
      ]
    },
    {
      "cell_type": "markdown",
      "metadata": {
        "id": "uiyuwrRsS7Qd"
      },
      "source": [
        "이제 이 `DataFrame`에 대해 `pd.pivot_table()` 함수를 호출하고 `name` 열로 그룹핑합니다. 기본적으로 `pivot_table()`은 수치 열의 평균을 계산합니다:"
      ]
    },
    {
      "cell_type": "code",
      "execution_count": null,
      "metadata": {
        "colab": {
          "base_uri": "https://localhost:8080/",
          "height": 262
        },
        "execution": {
          "iopub.execute_input": "2020-10-16T07:31:28.396388Z",
          "iopub.status.busy": "2020-10-16T07:31:28.384014Z",
          "iopub.status.idle": "2020-10-16T07:31:28.402172Z",
          "shell.execute_reply": "2020-10-16T07:31:28.403481Z"
        },
        "id": "IZbD_ncvS7Qd",
        "outputId": "4470c989-6ab3-48b5-c833-bc0ac17894ee"
      },
      "outputs": [],
      "source": [
        "pd.pivot_table(more_grades[[\"name\", \"grade\", \"bonus\"]], index=\"name\", aggfunc=\"mean\")"
      ]
    },
    {
      "cell_type": "markdown",
      "metadata": {
        "id": "nMf4DW4pS7Qd"
      },
      "source": [
        "집계 함수를 `aggfunc` 매개변수로 바꿀 수 있습니다. 또한 집계 대상의 열을 리스트로 지정할 수 있습니다:"
      ]
    },
    {
      "cell_type": "code",
      "execution_count": null,
      "metadata": {
        "colab": {
          "base_uri": "https://localhost:8080/",
          "height": 206
        },
        "execution": {
          "iopub.execute_input": "2020-10-16T07:31:28.429813Z",
          "iopub.status.busy": "2020-10-16T07:31:28.428152Z",
          "iopub.status.idle": "2020-10-16T07:31:28.433948Z",
          "shell.execute_reply": "2020-10-16T07:31:28.435250Z"
        },
        "id": "DfcEltr2S7Qd",
        "outputId": "4e087d6a-9b1f-44c9-bc93-772c98698ed0"
      },
      "outputs": [],
      "source": [
        "pd.pivot_table(more_grades, index=\"name\", values=[\"grade\",\"bonus\"], aggfunc=\"max\")"
      ]
    },
    {
      "cell_type": "markdown",
      "metadata": {
        "id": "B3HLiw-LS7Qd"
      },
      "source": [
        "`columns` 매개변수를 지정하여 수평으로 집계할 수 있고 `margins=True`로 설정해 각 행과 열에 대해 전체 합을 계산할 수 있습니다:"
      ]
    },
    {
      "cell_type": "code",
      "execution_count": null,
      "metadata": {
        "colab": {
          "base_uri": "https://localhost:8080/",
          "height": 237
        },
        "execution": {
          "iopub.execute_input": "2020-10-16T07:31:28.447027Z",
          "iopub.status.busy": "2020-10-16T07:31:28.445382Z",
          "iopub.status.idle": "2020-10-16T07:31:28.501446Z",
          "shell.execute_reply": "2020-10-16T07:31:28.500477Z"
        },
        "id": "v17X6U9FS7Qe",
        "outputId": "379ec094-836d-402f-80d8-e8b2ff657a7e"
      },
      "outputs": [],
      "source": [
        "pd.pivot_table(more_grades, index=\"name\", values=\"grade\", columns=\"month\", margins=True)"
      ]
    },
    {
      "cell_type": "markdown",
      "metadata": {
        "id": "-JuXsNcnS7Qe"
      },
      "source": [
        "마지막으로 여러 개의 인덱스나 열 이름을 지정하면 판다스가 다중 레벨 인덱스를 만듭니다:"
      ]
    },
    {
      "cell_type": "code",
      "execution_count": null,
      "metadata": {
        "colab": {
          "base_uri": "https://localhost:8080/",
          "height": 488
        },
        "execution": {
          "iopub.execute_input": "2020-10-16T07:31:28.538598Z",
          "iopub.status.busy": "2020-10-16T07:31:28.516477Z",
          "iopub.status.idle": "2020-10-16T07:31:28.544991Z",
          "shell.execute_reply": "2020-10-16T07:31:28.543793Z"
        },
        "id": "LD6TkY19S7Qe",
        "outputId": "20a9770e-4128-4dff-c38e-92710e39951a"
      },
      "outputs": [],
      "source": [
        "pd.pivot_table(more_grades, index=(\"name\", \"month\"), margins=True)"
      ]
    },
    {
      "cell_type": "markdown",
      "metadata": {
        "id": "8hGPD1iTS7Qe"
      },
      "source": [
        "## 함수\n",
        "\n",
        "큰 `DataFrame`을 다룰 때 내용을 간단히 요약하는 것이 도움이 됩니다. 판다스는 이를 위한 몇 가지 함수를 제공합니다. 먼저 수치 값, 누락된 값, 텍스트 값이 섞인 큰 `DataFrame`을 만들어 보죠. 주피터 노트북은 이 `DataFrame`의 일부만 보여줍니다:"
      ]
    },
    {
      "cell_type": "code",
      "execution_count": null,
      "metadata": {
        "colab": {
          "base_uri": "https://localhost:8080/",
          "height": 467
        },
        "execution": {
          "iopub.execute_input": "2020-10-16T07:31:28.555609Z",
          "iopub.status.busy": "2020-10-16T07:31:28.554261Z",
          "iopub.status.idle": "2020-10-16T07:31:28.679610Z",
          "shell.execute_reply": "2020-10-16T07:31:28.678101Z"
        },
        "id": "Q32uVITFS7Qe",
        "outputId": "179147e3-d995-4dd9-b2cb-7957e8f613d5",
        "scrolled": false
      },
      "outputs": [],
      "source": [
        "much_data = np.fromfunction(lambda x,y: (x+y*y)%17*11, (10000, 26))\n",
        "large_df = pd.DataFrame(much_data, columns=list(\"ABCDEFGHIJKLMNOPQRSTUVWXYZ\"))\n",
        "large_df[large_df % 16 == 0] = np.nan\n",
        "large_df.insert(3,\"some_text\", \"Blabla\")\n",
        "large_df"
      ]
    },
    {
      "cell_type": "markdown",
      "metadata": {
        "id": "xyn43vhLS7Qe"
      },
      "source": [
        "`head()` 메서드는 처음 5개 행을 반환합니다:"
      ]
    },
    {
      "cell_type": "code",
      "execution_count": null,
      "metadata": {
        "colab": {
          "base_uri": "https://localhost:8080/",
          "height": 235
        },
        "execution": {
          "iopub.execute_input": "2020-10-16T07:31:28.722714Z",
          "iopub.status.busy": "2020-10-16T07:31:28.715602Z",
          "iopub.status.idle": "2020-10-16T07:31:28.729780Z",
          "shell.execute_reply": "2020-10-16T07:31:28.728244Z"
        },
        "id": "ES8QMqQ6S7Qe",
        "outputId": "6c8e7bdc-bced-4fe6-d701-837f60c0d9be",
        "scrolled": false
      },
      "outputs": [],
      "source": [
        "large_df.head()"
      ]
    },
    {
      "cell_type": "markdown",
      "metadata": {
        "id": "e24qwkG-S7Qf"
      },
      "source": [
        "마지막 5개 행을 반환하는 `tail()` 함수도 있습니다. 원하는 행 개수를 전달할 수도 있습니다:"
      ]
    },
    {
      "cell_type": "code",
      "execution_count": null,
      "metadata": {
        "colab": {
          "base_uri": "https://localhost:8080/",
          "height": 141
        },
        "execution": {
          "iopub.execute_input": "2020-10-16T07:31:28.770715Z",
          "iopub.status.busy": "2020-10-16T07:31:28.768959Z",
          "iopub.status.idle": "2020-10-16T07:31:28.775307Z",
          "shell.execute_reply": "2020-10-16T07:31:28.776741Z"
        },
        "id": "NMYPLJSKS7Qf",
        "outputId": "a42c3395-6238-47a1-8b6a-acd7dd81fdf5"
      },
      "outputs": [],
      "source": [
        "large_df.tail(n=2)"
      ]
    },
    {
      "cell_type": "markdown",
      "metadata": {
        "id": "uE7_Q_cgS7Qf"
      },
      "source": [
        "`info()` 메서드는 각 열의 내용을 요약하여 출력합니다:"
      ]
    },
    {
      "cell_type": "code",
      "execution_count": null,
      "metadata": {
        "colab": {
          "base_uri": "https://localhost:8080/"
        },
        "execution": {
          "iopub.execute_input": "2020-10-16T07:31:28.790461Z",
          "iopub.status.busy": "2020-10-16T07:31:28.789327Z",
          "iopub.status.idle": "2020-10-16T07:31:28.806423Z",
          "shell.execute_reply": "2020-10-16T07:31:28.805155Z"
        },
        "id": "5oKj0KK3S7Qf",
        "outputId": "3b0fc781-a87a-4362-a0fe-c85a872169c5",
        "scrolled": false
      },
      "outputs": [],
      "source": [
        "large_df.info()"
      ]
    },
    {
      "cell_type": "markdown",
      "metadata": {
        "id": "VTA6QwFlS7Qf"
      },
      "source": [
        "마지막으로 `describe()` 메서드는 각 열에 대한 주요 집계 연산을 수행한 결과를 보여줍니다:\n",
        "\n",
        "Finally, the `describe()` method gives a nice overview of the main aggregated values over each column:\n",
        "- `count`: null(NaN)이 아닌 값의 개수\n",
        "- `mean`: null이 아닌 값의 평균\n",
        "- `std`: null이 아닌 값의 [표준 편차](https://ko.wikipedia.org/wiki/%ED%91%9C%EC%A4%80_%ED%8E%B8%EC%B0%A8)\n",
        "- `min`: null이 아닌 값의 최솟값\n",
        "- `25%`, `50%`, `75%`: null이 아닌 값의 25번째, 50번째, 75번째 [백분위수](https://ko.wikipedia.org/wiki/%EB%B0%B1%EB%B6%84%EC%9C%84%EC%88%98)\n",
        "- `max`: null이 아닌 값의 최댓값"
      ]
    },
    {
      "cell_type": "code",
      "execution_count": null,
      "metadata": {
        "colab": {
          "base_uri": "https://localhost:8080/",
          "height": 393
        },
        "execution": {
          "iopub.execute_input": "2020-10-16T07:31:28.816862Z",
          "iopub.status.busy": "2020-10-16T07:31:28.815373Z",
          "iopub.status.idle": "2020-10-16T07:31:28.980652Z",
          "shell.execute_reply": "2020-10-16T07:31:28.979733Z"
        },
        "id": "jQkSKzwgS7Qf",
        "outputId": "844b997e-488e-4048-993b-cf75dccec21b",
        "scrolled": false
      },
      "outputs": [],
      "source": [
        "large_df.describe()"
      ]
    },
    {
      "cell_type": "markdown",
      "metadata": {
        "id": "-kDDPjR0S7Qf"
      },
      "source": [
        "## 저장 & 로딩\n",
        "\n",
        "판다스는 `DataFrame`를 여러 가지 포맷으로 저장할 수 있습니다. CSV, Excel, JSON, HTML, HDF5, SQL 데이터베이스 같은 포맷이 가능합니다. 예제를 위해 `DataFrame`을 하나 만들어 보겠습니다:"
      ]
    },
    {
      "cell_type": "code",
      "execution_count": null,
      "metadata": {
        "colab": {
          "base_uri": "https://localhost:8080/",
          "height": 112
        },
        "execution": {
          "iopub.execute_input": "2020-10-16T07:31:29.000434Z",
          "iopub.status.busy": "2020-10-16T07:31:28.999329Z",
          "iopub.status.idle": "2020-10-16T07:31:29.004808Z",
          "shell.execute_reply": "2020-10-16T07:31:29.005902Z"
        },
        "id": "icVe8S8sS7Qg",
        "outputId": "64ed1ae6-31b5-4d02-9b92-e457ee1941e5"
      },
      "outputs": [],
      "source": [
        "my_df = pd.DataFrame(\n",
        "    [[\"Biking\", 68.5, 1985, np.nan], [\"Dancing\", 83.1, 1984, 3]], \n",
        "    columns=[\"hobby\",\"weight\",\"birthyear\",\"children\"],\n",
        "    index=[\"alice\", \"bob\"]\n",
        ")\n",
        "my_df"
      ]
    },
    {
      "cell_type": "markdown",
      "metadata": {
        "id": "oKOZwbESS7Qg"
      },
      "source": [
        "### 저장\n",
        "\n",
        "CSV, HTML, JSON로 저장해 보죠:"
      ]
    },
    {
      "cell_type": "code",
      "execution_count": null,
      "metadata": {
        "execution": {
          "iopub.execute_input": "2020-10-16T07:31:29.014207Z",
          "iopub.status.busy": "2020-10-16T07:31:29.013037Z",
          "iopub.status.idle": "2020-10-16T07:31:29.057312Z",
          "shell.execute_reply": "2020-10-16T07:31:29.056173Z"
        },
        "id": "YQbgHbpOS7Qg"
      },
      "outputs": [],
      "source": [
        "my_df.to_csv(\"my_df.csv\")\n",
        "my_df.to_html(\"my_df.html\")\n",
        "my_df.to_json(\"my_df.json\")"
      ]
    },
    {
      "cell_type": "markdown",
      "metadata": {
        "id": "A4SbgeNaS7Qg"
      },
      "source": [
        "저장된 내용을 확인해 보죠:"
      ]
    },
    {
      "cell_type": "code",
      "execution_count": null,
      "metadata": {
        "colab": {
          "base_uri": "https://localhost:8080/"
        },
        "execution": {
          "iopub.execute_input": "2020-10-16T07:31:29.067993Z",
          "iopub.status.busy": "2020-10-16T07:31:29.066881Z",
          "iopub.status.idle": "2020-10-16T07:31:29.081991Z",
          "shell.execute_reply": "2020-10-16T07:31:29.080808Z"
        },
        "id": "lISrX_9VS7Qg",
        "outputId": "cc014128-3d0b-4914-afe0-93190eb3dcc2"
      },
      "outputs": [],
      "source": [
        "for filename in (\"my_df.csv\", \"my_df.html\", \"my_df.json\"):\n",
        "    print(\"#\", filename)\n",
        "    with open(filename, \"rt\") as f:\n",
        "        print(f.read())\n",
        "        print()\n"
      ]
    },
    {
      "cell_type": "markdown",
      "metadata": {
        "id": "eqPNruS8S7Qg"
      },
      "source": [
        "인덱스는 (이름 없이) CSV 파일의 첫 번째 열에 저장되었습니다. HTML에서는 `<th>` 태그와 JSON에서는 키로 저장되었습니다.\n",
        "\n",
        "다른 포맷으로 저장하는 것도 비슷합니다. 하지만 일부 포맷은 추가적인 라이브러리 설치가 필요합니다. 예를 들어, 엑셀로 저장하려면 openpyxl 라이브러리가 필요합니다:"
      ]
    },
    {
      "cell_type": "code",
      "execution_count": null,
      "metadata": {
        "execution": {
          "iopub.execute_input": "2020-10-16T07:31:29.092332Z",
          "iopub.status.busy": "2020-10-16T07:31:29.090986Z",
          "iopub.status.idle": "2020-10-16T07:31:29.098706Z",
          "shell.execute_reply": "2020-10-16T07:31:29.097724Z"
        },
        "id": "GdXyDmAXS7Qg"
      },
      "outputs": [],
      "source": [
        "try:\n",
        "    my_df.to_excel(\"my_df.xlsx\", sheet_name='People')\n",
        "except ImportError as e:\n",
        "    print(e)"
      ]
    },
    {
      "cell_type": "markdown",
      "metadata": {
        "id": "LbxqpaASS7Qh"
      },
      "source": [
        "### 로딩\n",
        "\n",
        "CSV 파일을 `DataFrame`으로 로드해 보죠:"
      ]
    },
    {
      "cell_type": "code",
      "execution_count": null,
      "metadata": {
        "colab": {
          "base_uri": "https://localhost:8080/",
          "height": 112
        },
        "execution": {
          "iopub.execute_input": "2020-10-16T07:31:29.107752Z",
          "iopub.status.busy": "2020-10-16T07:31:29.106586Z",
          "iopub.status.idle": "2020-10-16T07:31:29.126178Z",
          "shell.execute_reply": "2020-10-16T07:31:29.124769Z"
        },
        "id": "ovWvyXZAS7Qh",
        "outputId": "47ee9dda-f696-44eb-dd1d-5dc9081e0436"
      },
      "outputs": [],
      "source": [
        "my_df_loaded = pd.read_csv(\"my_df.csv\", index_col=0)\n",
        "my_df_loaded"
      ]
    },
    {
      "cell_type": "markdown",
      "metadata": {
        "id": "-0Y1DLj_S7Qh"
      },
      "source": [
        "예상할 수 있듯이 `read_json`, `read_html`, `read_excel` 함수도 있습니다. 인터넷에서 데이터를 바로 읽을 수도 있습니다. 예를 들어 깃허브에서 1,000개의 U.S. 도시를 로드해 보죠:"
      ]
    },
    {
      "cell_type": "code",
      "execution_count": null,
      "metadata": {
        "colab": {
          "base_uri": "https://localhost:8080/",
          "height": 237
        },
        "execution": {
          "iopub.execute_input": "2020-10-16T07:31:29.140192Z",
          "iopub.status.busy": "2020-10-16T07:31:29.138604Z",
          "iopub.status.idle": "2020-10-16T07:31:29.323556Z",
          "shell.execute_reply": "2020-10-16T07:31:29.322579Z"
        },
        "id": "e4JeDSyiS7Qh",
        "outputId": "1f7c9bef-433e-4076-9ca1-52c6101d095b"
      },
      "outputs": [],
      "source": [
        "us_cities = None\n",
        "try:\n",
        "    csv_url = \"https://raw.githubusercontent.com/plotly/datasets/master/us-cities-top-1k.csv\"\n",
        "    us_cities = pd.read_csv(csv_url, index_col=0)\n",
        "    us_cities = us_cities.head()\n",
        "except IOError as e:\n",
        "    print(e)\n",
        "us_cities"
      ]
    },
    {
      "cell_type": "markdown",
      "metadata": {
        "id": "SPCwy7z8S7Qh"
      },
      "source": [
        "이외에도 많은 옵션이 있습니다. 특히 datetime 포맷에 관련된 옵션이 많습니다. 더 자세한 내용은 온라인 [문서](http://pandas.pydata.org/pandas-docs/stable/io.html)를 참고하세요."
      ]
    },
    {
      "cell_type": "markdown",
      "metadata": {
        "id": "-i-jmzmtS7Qh"
      },
      "source": [
        "## `DataFrame` 합치기\n",
        "\n",
        "### SQL 조인\n",
        "\n",
        "판다스의 강력한 기능 중 하나는 `DataFrame`에 대해 SQL 같은 조인(join)을 수행할 수 있는 것입니다. 여러 종류의 조인이 지원됩니다. 이너 조인(inner join), 레프트/라이트 아우터 조인(left/right outer join), 풀 조인(full join)입니다. 이에 대해 알아 보기 위해 간단한 `DataFrame`을 만들어 보죠:"
      ]
    },
    {
      "cell_type": "code",
      "execution_count": null,
      "metadata": {
        "colab": {
          "base_uri": "https://localhost:8080/",
          "height": 206
        },
        "execution": {
          "iopub.execute_input": "2020-10-16T07:31:29.346066Z",
          "iopub.status.busy": "2020-10-16T07:31:29.344663Z",
          "iopub.status.idle": "2020-10-16T07:31:29.351634Z",
          "shell.execute_reply": "2020-10-16T07:31:29.350373Z"
        },
        "id": "7lNvn8rYS7Qh",
        "outputId": "7de6c2d3-1b14-4b2f-9019-a911029db2b9"
      },
      "outputs": [],
      "source": [
        "city_loc = pd.DataFrame(\n",
        "    [\n",
        "        [\"CA\", \"San Francisco\", 37.781334, -122.416728],\n",
        "        [\"NY\", \"New York\", 40.705649, -74.008344],\n",
        "        [\"FL\", \"Miami\", 25.791100, -80.320733],\n",
        "        [\"OH\", \"Cleveland\", 41.473508, -81.739791],\n",
        "        [\"UT\", \"Salt Lake City\", 40.755851, -111.896657]\n",
        "    ], columns=[\"state\", \"city\", \"lat\", \"lng\"])\n",
        "city_loc"
      ]
    },
    {
      "cell_type": "code",
      "execution_count": null,
      "metadata": {
        "colab": {
          "base_uri": "https://localhost:8080/",
          "height": 175
        },
        "execution": {
          "iopub.execute_input": "2020-10-16T07:31:29.372130Z",
          "iopub.status.busy": "2020-10-16T07:31:29.370659Z",
          "iopub.status.idle": "2020-10-16T07:31:29.376662Z",
          "shell.execute_reply": "2020-10-16T07:31:29.375633Z"
        },
        "id": "DKP_V1brS7Qi",
        "outputId": "1b8d6aea-be28-4845-8cbb-97f82b31c42c"
      },
      "outputs": [],
      "source": [
        "city_pop = pd.DataFrame(\n",
        "    [\n",
        "        [808976, \"San Francisco\", \"California\"],\n",
        "        [8363710, \"New York\", \"New-York\"],\n",
        "        [413201, \"Miami\", \"Florida\"],\n",
        "        [2242193, \"Houston\", \"Texas\"]\n",
        "    ], index=[3,4,5,6], columns=[\"population\", \"city\", \"state\"])\n",
        "city_pop"
      ]
    },
    {
      "cell_type": "markdown",
      "metadata": {
        "id": "8EeIDxzYS7Qi"
      },
      "source": [
        "이제 `merge()` 함수를 사용해 이 `DataFrame`을 조인해 보죠:"
      ]
    },
    {
      "cell_type": "code",
      "execution_count": null,
      "metadata": {
        "colab": {
          "base_uri": "https://localhost:8080/",
          "height": 143
        },
        "execution": {
          "iopub.execute_input": "2020-10-16T07:31:29.401493Z",
          "iopub.status.busy": "2020-10-16T07:31:29.400088Z",
          "iopub.status.idle": "2020-10-16T07:31:29.407147Z",
          "shell.execute_reply": "2020-10-16T07:31:29.405772Z"
        },
        "id": "95P4bnEXS7Qi",
        "outputId": "b7a8d553-d4a2-4707-adee-3e5652246190"
      },
      "outputs": [],
      "source": [
        "pd.merge(left=city_loc, right=city_pop, on=\"city\")"
      ]
    },
    {
      "cell_type": "markdown",
      "metadata": {
        "id": "zyKgwKNUS7Qi"
      },
      "source": [
        "두 `DataFrame`은 `state`란 이름의 열을 가지고 있으므로 `state_x`와 `state_y`로 이름이 바뀌었습니다.\n",
        "\n",
        "또한 Cleveland, Salt Lake City, Houston은 두 `DataFrame`에 모두 존재하지 않기 때문에 삭제되었습니다. SQL의 `INNER JOIN`과 동일합니다. 도시를 삭제하지 않고 `NaN`으로 채우는 `FULL OUTER JOIN`을 원하면 `how=\"outer\"`로 지정합니다:"
      ]
    },
    {
      "cell_type": "code",
      "execution_count": null,
      "metadata": {
        "colab": {
          "base_uri": "https://localhost:8080/",
          "height": 237
        },
        "execution": {
          "iopub.execute_input": "2020-10-16T07:31:29.435099Z",
          "iopub.status.busy": "2020-10-16T07:31:29.433483Z",
          "iopub.status.idle": "2020-10-16T07:31:29.439267Z",
          "shell.execute_reply": "2020-10-16T07:31:29.440577Z"
        },
        "id": "tEjCDglrS7Qi",
        "outputId": "a1726615-1933-4b9f-f8bf-1976a4012125"
      },
      "outputs": [],
      "source": [
        "all_cities = pd.merge(left=city_loc, right=city_pop, on=\"city\", how=\"outer\")\n",
        "all_cities"
      ]
    },
    {
      "cell_type": "markdown",
      "metadata": {
        "id": "cKwUPPoYS7Qi"
      },
      "source": [
        "물론 `LEFT OUTER JOIN`은 `how=\"left\"`로 지정할 수 있습니다. 왼쪽의 `DataFrame`에 있는 도시만 남습니다. 비슷하게 `how=\"right\"`는 오른쪽 `DataFrame`에 있는 도시만 결과에 남습니다. 예를 들면:"
      ]
    },
    {
      "cell_type": "code",
      "execution_count": null,
      "metadata": {
        "colab": {
          "base_uri": "https://localhost:8080/",
          "height": 175
        },
        "execution": {
          "iopub.execute_input": "2020-10-16T07:31:29.465273Z",
          "iopub.status.busy": "2020-10-16T07:31:29.454940Z",
          "iopub.status.idle": "2020-10-16T07:31:29.472015Z",
          "shell.execute_reply": "2020-10-16T07:31:29.470685Z"
        },
        "id": "3m44sLhQS7Qi",
        "outputId": "16029079-7cdb-40f5-e659-5d8718c507df"
      },
      "outputs": [],
      "source": [
        "pd.merge(left=city_loc, right=city_pop, on=\"city\", how=\"right\")"
      ]
    },
    {
      "cell_type": "markdown",
      "metadata": {
        "id": "jREUQENXS7Ql"
      },
      "source": [
        "조인할 키가 `DataFrame` 인덱스라면 `left_index=True`나 `right_index=True`로 지정해야 합니다. 키 열의 이름이 다르면 `left_on`과 `right_on`을 사용합니다. 예를 들어:"
      ]
    },
    {
      "cell_type": "code",
      "execution_count": null,
      "metadata": {
        "colab": {
          "base_uri": "https://localhost:8080/",
          "height": 143
        },
        "execution": {
          "iopub.execute_input": "2020-10-16T07:31:29.498246Z",
          "iopub.status.busy": "2020-10-16T07:31:29.496603Z",
          "iopub.status.idle": "2020-10-16T07:31:29.503085Z",
          "shell.execute_reply": "2020-10-16T07:31:29.504399Z"
        },
        "id": "uDdhliK2S7Ql",
        "outputId": "16a54962-b0cc-4e33-f814-083992e1de55"
      },
      "outputs": [],
      "source": [
        "city_pop2 = city_pop.copy()\n",
        "city_pop2.columns = [\"population\", \"name\", \"state\"]\n",
        "pd.merge(left=city_loc, right=city_pop2, left_on=\"city\", right_on=\"name\")"
      ]
    },
    {
      "cell_type": "markdown",
      "metadata": {
        "id": "TsZwvY7pS7Ql"
      },
      "source": [
        "## 연결\n",
        "\n",
        "`DataFrame`을 조인하는 대신 그냥 연결할 수도 있습니다. `concat()` 함수가 하는 일입니다:"
      ]
    },
    {
      "cell_type": "code",
      "execution_count": null,
      "metadata": {
        "colab": {
          "base_uri": "https://localhost:8080/",
          "height": 331
        },
        "execution": {
          "iopub.execute_input": "2020-10-16T07:31:29.528602Z",
          "iopub.status.busy": "2020-10-16T07:31:29.527026Z",
          "iopub.status.idle": "2020-10-16T07:31:29.533411Z",
          "shell.execute_reply": "2020-10-16T07:31:29.532303Z"
        },
        "id": "V4UGCl4JS7Ql",
        "outputId": "9e351f67-9b29-4283-d85c-270e47818335"
      },
      "outputs": [],
      "source": [
        "result_concat = pd.concat([city_loc, city_pop])\n",
        "result_concat"
      ]
    },
    {
      "cell_type": "markdown",
      "metadata": {
        "id": "Lb3QQMaOS7Ql"
      },
      "source": [
        "이 연산은 (행을 따라) 수직적으로 데이터를 연결하고 (열을 따라) 수평으로 연결하지 않습니다. 이 예에서 동일한 인덱스를 가진 행이 있습니다(예를 들면 3). 판다스는 이를 우아하게 처리합니다:"
      ]
    },
    {
      "cell_type": "code",
      "execution_count": null,
      "metadata": {
        "colab": {
          "base_uri": "https://localhost:8080/",
          "height": 112
        },
        "execution": {
          "iopub.execute_input": "2020-10-16T07:31:29.552161Z",
          "iopub.status.busy": "2020-10-16T07:31:29.550911Z",
          "iopub.status.idle": "2020-10-16T07:31:29.557417Z",
          "shell.execute_reply": "2020-10-16T07:31:29.556343Z"
        },
        "id": "l6IkCp9YS7Ql",
        "outputId": "ec3a0e22-2ba4-4fae-deef-b93043534891"
      },
      "outputs": [],
      "source": [
        "result_concat.loc[3]"
      ]
    },
    {
      "cell_type": "markdown",
      "metadata": {
        "id": "oGbydFw_S7Ql"
      },
      "source": [
        "또는 인덱스를 무시하도록 설정할 수 있습니다:"
      ]
    },
    {
      "cell_type": "code",
      "execution_count": null,
      "metadata": {
        "colab": {
          "base_uri": "https://localhost:8080/",
          "height": 331
        },
        "execution": {
          "iopub.execute_input": "2020-10-16T07:31:29.579980Z",
          "iopub.status.busy": "2020-10-16T07:31:29.578727Z",
          "iopub.status.idle": "2020-10-16T07:31:29.585613Z",
          "shell.execute_reply": "2020-10-16T07:31:29.584416Z"
        },
        "id": "OX5p1K-US7Qm",
        "outputId": "3b1f852b-69bd-40e9-8e6c-6a92845464f4"
      },
      "outputs": [],
      "source": [
        "pd.concat([city_loc, city_pop], ignore_index=True)"
      ]
    },
    {
      "cell_type": "markdown",
      "metadata": {
        "id": "FVh1aUPYS7Qm"
      },
      "source": [
        "한 `DataFrame`에 열이 없을 때 `NaN`이 채워져 있는 것처럼 동작합니다. `join=\"inner\"`로 설정하면 *양쪽*의 `DataFrame`에 존재하는 열만 반환됩니다:"
      ]
    },
    {
      "cell_type": "code",
      "execution_count": null,
      "metadata": {
        "colab": {
          "base_uri": "https://localhost:8080/",
          "height": 331
        },
        "execution": {
          "iopub.execute_input": "2020-10-16T07:31:29.604735Z",
          "iopub.status.busy": "2020-10-16T07:31:29.603386Z",
          "iopub.status.idle": "2020-10-16T07:31:29.609400Z",
          "shell.execute_reply": "2020-10-16T07:31:29.608131Z"
        },
        "id": "RUbP2qpwS7Qm",
        "outputId": "753bfe80-b1c9-4cd9-dfb3-df6ec862be59"
      },
      "outputs": [],
      "source": [
        "pd.concat([city_loc, city_pop], join=\"inner\")"
      ]
    },
    {
      "cell_type": "markdown",
      "metadata": {
        "id": "vS8yMZbsS7Qm"
      },
      "source": [
        "`axis=1`로 설정하면 `DataFrame`을 수직이 아니라 수평으로 연결할 수 있습니다:"
      ]
    },
    {
      "cell_type": "code",
      "execution_count": null,
      "metadata": {
        "colab": {
          "base_uri": "https://localhost:8080/",
          "height": 269
        },
        "execution": {
          "iopub.execute_input": "2020-10-16T07:31:29.634308Z",
          "iopub.status.busy": "2020-10-16T07:31:29.633045Z",
          "iopub.status.idle": "2020-10-16T07:31:29.639806Z",
          "shell.execute_reply": "2020-10-16T07:31:29.638758Z"
        },
        "id": "Ibf1C6vgS7Qm",
        "outputId": "06ca1fdd-1558-4272-cbd7-0fac73967769",
        "scrolled": true
      },
      "outputs": [],
      "source": [
        "pd.concat([city_loc, city_pop], axis=1)"
      ]
    },
    {
      "cell_type": "markdown",
      "metadata": {
        "id": "2zW99Hj8S7Qm"
      },
      "source": [
        "이 경우 인덱스가 잘 정렬되지 않기 때문에 의미가 없습니다(예를 들어 Cleveland와 San Francisco의 인덱스 레이블이 `3`이기 때문에 동일한 행에 놓여 있습니다). 이 `DataFrame`을 연결하기 전에 도시로 인덱스를 재설정해 보죠:"
      ]
    },
    {
      "cell_type": "code",
      "execution_count": null,
      "metadata": {
        "colab": {
          "base_uri": "https://localhost:8080/",
          "height": 269
        },
        "execution": {
          "iopub.execute_input": "2020-10-16T07:31:29.667789Z",
          "iopub.status.busy": "2020-10-16T07:31:29.648474Z",
          "iopub.status.idle": "2020-10-16T07:31:29.674949Z",
          "shell.execute_reply": "2020-10-16T07:31:29.673620Z"
        },
        "id": "25A3-dvES7Qm",
        "outputId": "b619fdd2-da06-4deb-eeec-d870447fe3a3",
        "scrolled": true
      },
      "outputs": [],
      "source": [
        "pd.concat([city_loc.set_index(\"city\"), city_pop.set_index(\"city\")], axis=1)"
      ]
    },
    {
      "cell_type": "markdown",
      "metadata": {
        "id": "_HMdcr0SS7Qn"
      },
      "source": [
        "`FULL OUTER JOIN`을 수행한 것과 비슷합니다. 하지만 `state` 열이 `state_x`와 `state_y`로 바뀌지 않았고 `city` 열이 인덱스가 되었습니다."
      ]
    },
    {
      "cell_type": "code",
      "execution_count": null,
      "metadata": {},
      "outputs": [],
      "source": [
        "pd.concat([city_loc, city_pop])"
      ]
    },
    {
      "cell_type": "markdown",
      "metadata": {
        "id": "U0HyuY9wS7Qn"
      },
      "source": [
        "## 범주\n",
        "\n",
        "범주로 표현된 값을 가진 경우가 흔합니다. 예를 들어 `1`은 여성, `2`는 남성이거나 `\"A\"`는 좋은 것, `\"B\"`는 평균, `\"C\"`는 나쁜 것 등입니다. 범주형 값을 읽기 힘들고 다루기 번거롭습니다. 하지만 판다스에서는 간단합니다. 예를 들기 위해 앞서 만든 `city_pop` `DataFrame`에 범주를 표현하는 열을 추가해 보겠습니다:"
      ]
    },
    {
      "cell_type": "code",
      "execution_count": null,
      "metadata": {
        "colab": {
          "base_uri": "https://localhost:8080/",
          "height": 175
        },
        "execution": {
          "iopub.execute_input": "2020-10-16T07:31:29.721192Z",
          "iopub.status.busy": "2020-10-16T07:31:29.719801Z",
          "iopub.status.idle": "2020-10-16T07:31:29.725933Z",
          "shell.execute_reply": "2020-10-16T07:31:29.724844Z"
        },
        "id": "V5hgZrMrS7Qn",
        "outputId": "93573af2-e328-4553-ff98-a9a3b29c2a28"
      },
      "outputs": [],
      "source": [
        "city_eco = city_pop.copy()\n",
        "city_eco[\"eco_code\"] = [17, 17, 34, 20]\n",
        "city_eco"
      ]
    },
    {
      "cell_type": "markdown",
      "metadata": {
        "id": "NZK_LiQHS7Qn"
      },
      "source": [
        "이제 `eco_code`열은 의미없는 코드입니다. 이를 바꿔 보죠. 먼저 `eco_code`를 기반으로 새로운 범주형 열을 만듭니다:"
      ]
    },
    {
      "cell_type": "code",
      "execution_count": null,
      "metadata": {
        "colab": {
          "base_uri": "https://localhost:8080/"
        },
        "execution": {
          "iopub.execute_input": "2020-10-16T07:31:29.736341Z",
          "iopub.status.busy": "2020-10-16T07:31:29.735087Z",
          "iopub.status.idle": "2020-10-16T07:31:29.740551Z",
          "shell.execute_reply": "2020-10-16T07:31:29.739607Z"
        },
        "id": "QnNo88EDS7Qn",
        "outputId": "bea4e7cf-5a2d-4a76-d75f-1a438996623e"
      },
      "outputs": [],
      "source": [
        "city_eco[\"economy\"] = city_eco[\"eco_code\"].astype('category')\n",
        "city_eco[\"economy\"].cat.categories"
      ]
    },
    {
      "cell_type": "markdown",
      "metadata": {
        "id": "84mQsfZAS7Qo"
      },
      "source": [
        "의미있는 이름을 가진 범주를 지정할 수 있습니다:"
      ]
    },
    {
      "cell_type": "code",
      "execution_count": null,
      "metadata": {
        "colab": {
          "base_uri": "https://localhost:8080/",
          "height": 230
        },
        "execution": {
          "iopub.execute_input": "2020-10-16T07:31:29.762234Z",
          "iopub.status.busy": "2020-10-16T07:31:29.760867Z",
          "iopub.status.idle": "2020-10-16T07:31:29.767647Z",
          "shell.execute_reply": "2020-10-16T07:31:29.766196Z"
        },
        "id": "68D7w-ZoS7Qo",
        "outputId": "adde749f-01b6-493c-8303-8bc4d0b3e2cc"
      },
      "outputs": [],
      "source": [
        "city_eco[\"economy\"].cat.rename_categories([\"Finance\", \"Energy\", \"Tourism\"])\n",
        "city_eco"
      ]
    },
    {
      "cell_type": "markdown",
      "metadata": {
        "id": "K9zggd9US7Qo"
      },
      "source": [
        "범주형 값은 알파벳 순서가 아니라 범주형 순서로 정렬합니다:"
      ]
    },
    {
      "cell_type": "code",
      "execution_count": null,
      "metadata": {
        "colab": {
          "base_uri": "https://localhost:8080/",
          "height": 175
        },
        "execution": {
          "iopub.execute_input": "2020-10-16T07:31:29.788100Z",
          "iopub.status.busy": "2020-10-16T07:31:29.786648Z",
          "iopub.status.idle": "2020-10-16T07:31:29.792669Z",
          "shell.execute_reply": "2020-10-16T07:31:29.791639Z"
        },
        "id": "gGWXn3V8S7Qo",
        "outputId": "1e390cdb-57c1-41ba-ce23-5dc4af3ea353"
      },
      "outputs": [],
      "source": [
        "city_eco.sort_values(by=\"economy\", ascending=False)"
      ]
    },
    {
      "cell_type": "markdown",
      "metadata": {
        "collapsed": true,
        "id": "7FzBl-8fS7Qo"
      },
      "source": [
        "## 그 다음엔?\n",
        "\n",
        "이제 알았겠지만 판다스는 매우 커다란 라이브러리이고 기능이 많습니다. 가장 중요한 기능들을 둘러 보았지만 빙산의 일각일 뿐입니다. 더 많은 것을 익히려면 실전 데이터로 직접 실습해 보는 것이 제일 좋습니다. 판다스의 훌륭한 [문서](http://pandas.pydata.org/pandas-docs/stable/index.html)와 [쿡북](http://pandas.pydata.org/pandas-docs/stable/cookbook.html)을 보는 것도 좋습니다."
      ]
    }
  ],
  "metadata": {
    "colab": {
      "provenance": []
    },
    "kernelspec": {
      "display_name": "Python 3 (ipykernel)",
      "language": "python",
      "name": "python3"
    },
    "language_info": {
      "codemirror_mode": {
        "name": "ipython",
        "version": 3
      },
      "file_extension": ".py",
      "mimetype": "text/x-python",
      "name": "python",
      "nbconvert_exporter": "python",
      "pygments_lexer": "ipython3",
      "version": "3.11.8"
    },
    "toc": {
      "toc_cell": false,
      "toc_number_sections": true,
      "toc_section_display": "none",
      "toc_threshold": 6,
      "toc_window_display": true
    }
  },
  "nbformat": 4,
  "nbformat_minor": 0
}
