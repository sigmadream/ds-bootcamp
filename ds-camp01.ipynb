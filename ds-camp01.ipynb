{
 "cells": [
  {
   "cell_type": "markdown",
   "metadata": {},
   "source": [
    "---\n",
    "title: 개발 환경 구성 및 실습\n",
    "---"
   ]
  },
  {
   "cell_type": "markdown",
   "metadata": {},
   "source": [
    "## {Ana, Mini}Conda 설치"
   ]
  },
  {
   "cell_type": "markdown",
   "metadata": {},
   "source": [
    "### Conda?!"
   ]
  },
  {
   "cell_type": "markdown",
   "metadata": {},
   "source": [
    "- 왜 Conda를 사용하는가?\n",
    "    - `conda`는 과학 컴퓨팅, 데이터 과학 및 기계 학습을 위한 `Python(파이썬)` 및 `R` 프로그래밍 언어의 오픈 소스 배포판입니다. conda에는 `NumPy`, `Pandas`, `Matplotlib`, `SciPy`, `scikit-learn`, `TensorFlow` 및 `PyTorch`와 같은 라이브러리를 포함하여 1,500개 이상의 인기 있는 파이썬 및 `R` 패키지 모음이 포함되어 있습니다. 이러한 패키지는 일반적으로 데이터 분석, 기계 학습, 통계 모델링 및 기타 과학 컴퓨팅 작업에 사용됩니다.\n",
    "\n",
    "    - conda는 패키지 관리 시스템을 지칭합니다. 해당 관리 시스템을 사용해서 패키지 설치, 버전 제어 및 종속성 관리를 처리하는 교차 플랫폼 패키지 관리자입니다. 이를 통해 사용자는 서로 다른 버전의 패키지 및 종속성을 충돌 없이 설치할 수 있는 \"conda 환경\"이라는 격리된 소프트웨어 환경을 만들 수 있습니다.\n",
    "\n",
    "    - Anaconda는 `Windows`, `macOS` 및 `Linux`를 포함한 다양한 운영 체제를 지원합니다. 서로 다른 플랫폼에서 일관된 개발 환경을 제공하여 다른 사람들과 더 쉽게 공동 작업하고 코드를 공유할 수 있습니다. 이외에도 Anaconda Navigator라는 통합 개발 환경(IDE)도 제공합니다. Navigator는 패키지 관리, conda 환경 생성 및 관리, `Jupyter Notebook` 및 `JupyterLab`과 같은 애플리케이션 실행을 위한 그래픽 사용자 인터페이스를 제공합니다.\n",
    "\n",
    "    - Anaconda는 사용 편의성, 광범위한 패키지 라이브러리 및 강력한 패키지 관리 시스템으로 인해 데이터 과학, 기계 학습 및 과학 컴퓨팅 분야에서 널리 사용됩니다. 이러한 도메인에 대한 개발 환경을 설정하고 유지 관리하는 프로세스를 단순화하여 데이터 과학자, 연구원 및 개발자 사이에서 널리 선택됩니다."
   ]
  },
  {
   "cell_type": "markdown",
   "metadata": {},
   "source": [
    "- Conda 설치 방법"
   ]
  },
  {
   "cell_type": "markdown",
   "metadata": {},
   "source": [
    "- Anaconda를 다운로드 하세요.\n",
    "![\"아나콘다 다운로드\"](./images/001.png)\n",
    "\n",
    "- 다운로드 받은 파일을 실행 후 설치를 진행하세요,.\n",
    "\n",
    "- 모든 사용자(`All Users`)를 선택하세요.\n",
    "\n",
    "    ![\"아나콘다 설치시 모든 사용자를 선택하세요\"](./images/002.png)   \n",
    "\n",
    "- 설치 옵션을 모두 선택하세요.\n",
    "\n",
    "    ![\"아나콘다 설치시 모든 옵션을 선택하세요\"](./images/003.png)\n",
    "\n",
    "- 설치 후 확인\n",
    "\n",
    "    ![\"설치 후 터미널에서 확인\"](./images/004.png)    "
   ]
  },
  {
   "cell_type": "markdown",
   "metadata": {},
   "source": [
    "### VSCode\n",
    "- VSCode 다운로드 후 설치하세요.\n",
    "\n",
    "- VSCode 설치시 관련 옵션은 모두 선택하세요.\n",
    "\n",
    "    ![\"VSCode 설치 옵션\"](./images/005.png)   \n",
    "\n",
    "- VSCode 설치 후 `Python` 확장 프로그램 설치하세요.\n",
    "\n",
    "    ![\"확장 프로그램 설치\"](./images/006.png)   \n",
    "\n",
    "- `Python` 확장 프로그램 설치 후 아나콘다의 파이썬과 연결 후 파일 실행\n",
    "\n",
    "    ![\"파이썬과 VSCode 연결\"](./images/007.png)"
   ]
  }
 ],
 "metadata": {
  "kernelspec": {
   "display_name": ".venv",
   "language": "python",
   "name": "python3"
  },
  "language_info": {
   "name": "python",
   "version": "3.11.8"
  }
 },
 "nbformat": 4,
 "nbformat_minor": 2
}
