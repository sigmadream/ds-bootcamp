{
 "cells": [
  {
   "cell_type": "markdown",
   "metadata": {},
   "source": [
    "---\n",
    "title: Python 문법 연습 심화(함수 기반)\n",
    "---\n",
    "\n",
    "> `worksbook_ds-bootcamp-v1.3.pdf`를 참고하여 Python 문법을 연습합니다."
   ]
  },
  {
   "cell_type": "code",
   "execution_count": 1,
   "metadata": {},
   "outputs": [
    {
     "name": "stdout",
     "output_type": "stream",
     "text": [
      "홍길동님 안녕하세요\n"
     ]
    }
   ],
   "source": [
    "# 문제1\n",
    "def greeting(name):\n",
    "    print(name + \"님 안녕하세요\")\n",
    "greeting(\"홍길동\")"
   ]
  },
  {
   "cell_type": "code",
   "execution_count": 2,
   "metadata": {},
   "outputs": [
    {
     "data": {
      "text/plain": [
       "14.82"
      ]
     },
     "execution_count": 2,
     "metadata": {},
     "output_type": "execute_result"
    }
   ],
   "source": [
    "# 문제2\n",
    "import math\n",
    "def area_square(width, height):\n",
    "    if type(width) != float or type(height) != float:\n",
    "        print(\"실수를 입력하세요\")\n",
    "        return None\n",
    "    return math.floor(width * height * 100) / 100\n",
    "area_square(3.51, 4.223)\n",
    "# area_square(3, 4)"
   ]
  },
  {
   "cell_type": "code",
   "execution_count": 3,
   "metadata": {},
   "outputs": [
    {
     "data": {
      "text/plain": [
       "(10.0, 18.0, 128.0)"
      ]
     },
     "execution_count": 3,
     "metadata": {},
     "output_type": "execute_result"
    }
   ],
   "source": [
    "# 문제3 \n",
    "def restaurant_invoice(bill):\n",
    "    tax = 0.10\n",
    "    tip = 0.18\n",
    "    return bill*tax, bill*tip, bill*(1+tax+tip)\n",
    "restaurant_invoice(100)"
   ]
  },
  {
   "cell_type": "code",
   "execution_count": 4,
   "metadata": {},
   "outputs": [
    {
     "data": {
      "text/plain": [
       "55"
      ]
     },
     "execution_count": 4,
     "metadata": {},
     "output_type": "execute_result"
    }
   ],
   "source": [
    "# 문제4\n",
    "def sum_of_natural_number(n):\n",
    "    return n*(n+1)//2\n",
    "sum_of_natural_number(10)"
   ]
  },
  {
   "cell_type": "code",
   "execution_count": 5,
   "metadata": {},
   "outputs": [
    {
     "data": {
      "text/plain": [
       "(6.98, 2.09)"
      ]
     },
     "execution_count": 5,
     "metadata": {},
     "output_type": "execute_result"
    }
   ],
   "source": [
    "# 문제5\n",
    "def old_bread_price(n, price=3.49):\n",
    "    return n*price, math.floor(price*0.6*100)/100\n",
    "old_bread_price(2)"
   ]
  },
  {
   "cell_type": "code",
   "execution_count": 6,
   "metadata": {},
   "outputs": [
    {
     "data": {
      "text/plain": [
       "'홀수'"
      ]
     },
     "execution_count": 6,
     "metadata": {},
     "output_type": "execute_result"
    }
   ],
   "source": [
    "# 문제6\n",
    "def even_or_odd(n):\n",
    "    if n%2 == 0:\n",
    "        return \"짝수\"\n",
    "    else:\n",
    "        return \"홀수\"\n",
    "even_or_odd(3)"
   ]
  },
  {
   "cell_type": "code",
   "execution_count": 7,
   "metadata": {},
   "outputs": [
    {
     "name": "stdout",
     "output_type": "stream",
     "text": [
      "(2, 3.5, 2.5)\n",
      "(0, None)\n",
      "(1, -2.0)\n"
     ]
    }
   ],
   "source": [
    "\n",
    "# 문제7\n",
    "def quadratic_equations(a, b, c):\n",
    "    D = b**2-4*a*c\n",
    "    if D >= 0:\n",
    "        S = -b+math.sqrt(D)/2*a\n",
    "        T = -b-math.sqrt(D)/2*a\n",
    "        if D > 0:\n",
    "            return 2, S, T\n",
    "        else:\n",
    "            return 1, S\n",
    "    else:\n",
    "        return 0, None\n",
    "print(quadratic_equations(1, -3, 2))\n",
    "print(quadratic_equations(1, 2, 3))\n",
    "print(quadratic_equations(1, 2, 1))"
   ]
  },
  {
   "cell_type": "code",
   "execution_count": 8,
   "metadata": {},
   "outputs": [
    {
     "name": "stdout",
     "output_type": "stream",
     "text": [
      "검은색\n",
      "흰색\n"
     ]
    }
   ],
   "source": [
    "# 문제8\n",
    "def chess_color(p):\n",
    "    if (ord(p[0])-ord('a')+int(p[1]))%2 == 0:\n",
    "        return \"흰색\"\n",
    "    else:\n",
    "        return \"검은색\"\n",
    "print(chess_color(\"a1\"))\n",
    "print(chess_color(\"a2\"))"
   ]
  },
  {
   "cell_type": "code",
   "execution_count": 9,
   "metadata": {},
   "outputs": [
    {
     "data": {
      "text/plain": [
       "(0, '일')"
      ]
     },
     "execution_count": 9,
     "metadata": {},
     "output_type": "execute_result"
    }
   ],
   "source": [
    "# 문제9(Tomohiko Sakamoto’s Algorithm)\n",
    "def get_weekday_and_weekname(year):\n",
    "    weekname = [\"일\", \"월\", \"화\", \"수\", \"목\", \"금\", \"토\"]\n",
    "    w = (year+(year-1)//4-(year-1)//100+(year-1)//400)%7\n",
    "    return w, weekname[w]\n",
    "get_weekday_and_weekname(2023)"
   ]
  },
  {
   "cell_type": "code",
   "execution_count": 10,
   "metadata": {},
   "outputs": [
    {
     "name": "stdout",
     "output_type": "stream",
     "text": [
      "Pay 25\n",
      "Pay Red\n",
      "Pay Odd\n",
      "Pay 19 to 36\n"
     ]
    }
   ],
   "source": [
    "# 문제10\n",
    "from random import randrange\n",
    "def roulette_payouts():\n",
    "    v = randrange(0, 38)\n",
    "    if v == 0 or v == 37:\n",
    "        print(\"Pay 0 / 00\")\n",
    "    else:\n",
    "        print(\"Pay\", v)\n",
    "        print(\"Pay Red\" if v%2 == 1 else \"Pay Black\")\n",
    "        print(\"Pay Odd\" if v%2 == 1 else \"Pay Even\")\n",
    "        print(\"Pay 1 to 18\" if v <= 18 else \"Pay 19 to 36\")\n",
    "roulette_payouts()"
   ]
  },
  {
   "cell_type": "code",
   "execution_count": 11,
   "metadata": {},
   "outputs": [
    {
     "data": {
      "text/plain": [
       "(98, 3)"
      ]
     },
     "execution_count": 11,
     "metadata": {},
     "output_type": "execute_result"
    }
   ],
   "source": [
    "# 문제11\n",
    "def maximum_random_int(NUM_ITEM = 100):    \n",
    "    max_value = randrange(1, NUM_ITEM + 1)\n",
    "    num_updated = 0\n",
    "    for i in range(1, NUM_ITEM):\n",
    "        current = randrange(1, NUM_ITEM + 1)\n",
    "        if current > max_value:\n",
    "            max_value = current\n",
    "            num_updated += 1\n",
    "            # print(current, \"<== Update\")\n",
    "        else:\n",
    "            # print(current)\n",
    "            pass\n",
    "    return max_value, num_updated\n",
    "\n",
    "maximum_random_int()"
   ]
  },
  {
   "cell_type": "code",
   "execution_count": 12,
   "metadata": {},
   "outputs": [
    {
     "name": "stdout",
     "output_type": "stream",
     "text": [
      "+--------------------------------------------+\n",
      "|   |  1|  2|  3|  4|  5|  6|  7|  8|  9|  10|\n",
      "+----+----+----+----+----+----+----+----+----+\n",
      "|  1|  1|  2|  3|  4|  5|  6|  7|  8|  9| 10|\n",
      "+----+----+----+----+----+----+----+----+----+\n",
      "|  2|  2|  4|  6|  8| 10| 12| 14| 16| 18| 20|\n",
      "+----+----+----+----+----+----+----+----+----+\n",
      "|  3|  3|  6|  9| 12| 15| 18| 21| 24| 27| 30|\n",
      "+----+----+----+----+----+----+----+----+----+\n",
      "|  4|  4|  8| 12| 16| 20| 24| 28| 32| 36| 40|\n",
      "+----+----+----+----+----+----+----+----+----+\n",
      "|  5|  5| 10| 15| 20| 25| 30| 35| 40| 45| 50|\n",
      "+----+----+----+----+----+----+----+----+----+\n",
      "|  6|  6| 12| 18| 24| 30| 36| 42| 48| 54| 60|\n",
      "+----+----+----+----+----+----+----+----+----+\n",
      "|  7|  7| 14| 21| 28| 35| 42| 49| 56| 63| 70|\n",
      "+----+----+----+----+----+----+----+----+----+\n",
      "|  8|  8| 16| 24| 32| 40| 48| 56| 64| 72| 80|\n",
      "+----+----+----+----+----+----+----+----+----+\n",
      "|  9|  9| 18| 27| 36| 45| 54| 63| 72| 81| 90|\n",
      "+----+----+----+----+----+----+----+----+----+\n",
      "| 10| 10| 20| 30| 40| 50| 60| 70| 80| 90|100|\n",
      "+---------------------------------------------+\n"
     ]
    }
   ],
   "source": [
    "# 문제12\n",
    "def draw_multiplication_table_with_labels():\n",
    "    # Adjusting the table size for 1 to 10\n",
    "    top_border = \"+\" + \"-\"*44 + \"+\"\n",
    "    print(top_border)\n",
    "    \n",
    "    # Print labels for multiplication table\n",
    "    label_row = \"|   |\"\n",
    "    for i in range(1, 11):\n",
    "        label_row += f\"  {i}|\"\n",
    "    print(label_row)\n",
    "    \n",
    "    header_separator = \"+\" + (\"-\"*4 + \"+\")*9\n",
    "    print(header_separator)\n",
    "    \n",
    "    # Body with multiplication results for 1 to 10\n",
    "    for row in range(1, 11):\n",
    "        row_data = f\"|{row:3d}|\"\n",
    "        for col in range(1, 11):\n",
    "            row_data += f\"{col*row:3d}|\"\n",
    "        print(row_data)\n",
    "        \n",
    "        # Separator line between rows, except after the last row\n",
    "        if row < 10:\n",
    "            separator = \"+\" + (\"-\"*4 + \"+\")*9\n",
    "            print(separator)\n",
    "    \n",
    "    # Bottom border\n",
    "    bottom_border = \"+\" + \"-\"*45 + \"+\"\n",
    "    print(bottom_border)\n",
    "\n",
    "draw_multiplication_table_with_labels()\n"
   ]
  },
  {
   "cell_type": "code",
   "execution_count": 13,
   "metadata": {},
   "outputs": [
    {
     "name": "stdout",
     "output_type": "stream",
     "text": [
      "3.1415826535897934884626433520295028937284193939649495759\n"
     ]
    }
   ],
   "source": [
    "# 문제13\n",
    "from decimal import Decimal, getcontext\n",
    "getcontext().prec = 100\n",
    "\n",
    "def calculate_pi_to_55th_decimal():\n",
    "    pi_approx = Decimal(0)\n",
    "    for n in range(100000):\n",
    "        pi_approx += Decimal((-1)**n) / Decimal(2*n + 1)\n",
    "    pi_approx *= Decimal(4)\n",
    "    return pi_approx\n",
    "pi_to_55th_decimal = calculate_pi_to_55th_decimal()\n",
    "print(str(pi_to_55th_decimal)[:57])"
   ]
  },
  {
   "cell_type": "code",
   "execution_count": 14,
   "metadata": {},
   "outputs": [
    {
     "name": "stdout",
     "output_type": "stream",
     "text": [
      "The even parity bit should be: 1\n"
     ]
    }
   ],
   "source": [
    "# 문제14\n",
    "def calculate_even_parity(bit_string):\n",
    "    if len(bit_string) != 8 or not all(bit in \"01\" for bit in bit_string):\n",
    "        return None, \"Error: Input must be an 8-bit binary string.\"\n",
    "    num_ones = bit_string.count('1')\n",
    "    parity_bit = 0 if num_ones % 2 == 0 else 1    \n",
    "    return parity_bit, None\n",
    "   \n",
    "parity_bit, error = calculate_even_parity(\"01010100\")\n",
    "if error:\n",
    "    print(error)\n",
    "else:\n",
    "    print(f\"The even parity bit should be: {parity_bit}\")\n"
   ]
  },
  {
   "cell_type": "code",
   "execution_count": 15,
   "metadata": {},
   "outputs": [
    {
     "name": "stdout",
     "output_type": "stream",
     "text": [
      "Simulation 1: HHTTHHH, Flips: 7\n",
      "Simulation 2: HHH, Flips: 3\n",
      "Simulation 3: HHTHTHTTT, Flips: 9\n",
      "Simulation 4: TTHHTHTTHTHTHHTTT, Flips: 17\n",
      "Simulation 5: HHTTT, Flips: 5\n",
      "Simulation 6: THTHHTHHTTHTTT, Flips: 14\n",
      "Simulation 7: HTHTHTHTHTHTTT, Flips: 14\n",
      "Simulation 8: THHH, Flips: 4\n",
      "Simulation 9: HTHTHTTHTHTTT, Flips: 13\n",
      "Simulation 10: TTHTHHTHTHHTHHTHTTHTTHTTT, Flips: 25\n"
     ]
    },
    {
     "data": {
      "text/plain": [
       "11.1"
      ]
     },
     "execution_count": 15,
     "metadata": {},
     "output_type": "execute_result"
    }
   ],
   "source": [
    "# 문제15\n",
    "import random\n",
    "\n",
    "def simulate_coin_flips():\n",
    "    results = \"\"\n",
    "    flips_count = 0\n",
    "    while not (\"HHH\" in results or \"TTT\" in results):\n",
    "        flip = \"H\" if random.randint(0, 1) == 0 else \"T\"\n",
    "        results += flip\n",
    "        flips_count += 1        \n",
    "    return results, flips_count\n",
    "\n",
    "simulation_results = [simulate_coin_flips() for _ in range(10)]\n",
    "average_flips = sum(result[1] for result in simulation_results) / 10\n",
    "\n",
    "for i, result in enumerate(simulation_results, 1):\n",
    "    print(f\"Simulation {i}: {result[0]}, Flips: {result[1]}\")\n",
    "\n",
    "average_flips\n",
    "\n"
   ]
  },
  {
   "cell_type": "code",
   "execution_count": 16,
   "metadata": {},
   "outputs": [
    {
     "name": "stdout",
     "output_type": "stream",
     "text": [
      "True\n",
      "False\n"
     ]
    }
   ],
   "source": [
    "# 문제 16\n",
    "def is_sublist(larger, smaller):\n",
    "    if not smaller:\n",
    "        return True\n",
    "    \n",
    "    if len(smaller) > len(larger):\n",
    "        return False\n",
    "    \n",
    "    for i in range(len(larger) - len(smaller) + 1):\n",
    "        if larger[i:i+len(smaller)] == smaller:\n",
    "            return True\n",
    "    return False\n",
    "\n",
    "larger_list = [1, 2, 3, 4, 5]\n",
    "smaller_list = [2, 3, 4]\n",
    "print(is_sublist(larger_list, smaller_list))  # Expected: True\n",
    "\n",
    "non_sublist = [2, 4, 3]\n",
    "print(is_sublist(larger_list, non_sublist))  # Expected: False\n"
   ]
  },
  {
   "cell_type": "code",
   "execution_count": 17,
   "metadata": {},
   "outputs": [
    {
     "name": "stdout",
     "output_type": "stream",
     "text": [
      "Modified list: [3, 4, 5, 6, 7, 8]\n",
      "Original list: [10, 1, 5, 6, 2, 8, 3, 7, 9, 4]\n"
     ]
    }
   ],
   "source": [
    "# 문제 17\n",
    "def remove_extremes(values, n):\n",
    "    if len(values) < 2 * n:\n",
    "        raise ValueError(\"Error: The list does not have enough elements to remove the specified number of extremes.\")\n",
    "    sorted_values = sorted(values)\n",
    "    modified_list = sorted_values[n:-n]\n",
    "    return modified_list\n",
    "\n",
    "values = [10, 1, 5, 6, 2, 8, 3, 7, 9, 4]\n",
    "n = 2 \n",
    "\n",
    "try:\n",
    "    modified_list = remove_extremes(values, n)\n",
    "    print(f\"Modified list: {modified_list}\")\n",
    "    print(f\"Original list: {values}\")\n",
    "except ValueError as e:\n",
    "    print(e)\n"
   ]
  },
  {
   "cell_type": "code",
   "execution_count": 18,
   "metadata": {},
   "outputs": [
    {
     "name": "stdout",
     "output_type": "stream",
     "text": [
      "Slope (m): 0.9499999999999993, Intercept (b): 0.10000000000000142\n"
     ]
    }
   ],
   "source": [
    "# 문제 18\n",
    "def best_fit_line(data_points):\n",
    "    n = len(data_points)\n",
    "    sum_x = sum(point[0] for point in data_points)\n",
    "    sum_y = sum(point[1] for point in data_points)\n",
    "    sum_xy = sum(point[0] * point[1] for point in data_points)\n",
    "    sum_x_squared = sum(point[0]**2 for point in data_points)\n",
    "    \n",
    "    m = (n * sum_xy - sum_x * sum_y) / (n * sum_x_squared - sum_x**2)\n",
    "    \n",
    "    b = (sum_y - m * sum_x) / n\n",
    "    \n",
    "    return m, b\n",
    "\n",
    "# Example usage\n",
    "data_points = [(1, 1), (2, 2.1), (3, 2.9)]\n",
    "slope, intercept = best_fit_line(data_points)\n",
    "print(f\"Slope (m): {slope}, Intercept (b): {intercept}\")\n"
   ]
  },
  {
   "cell_type": "code",
   "execution_count": 19,
   "metadata": {},
   "outputs": [
    {
     "name": "stdout",
     "output_type": "stream",
     "text": [
      "Expression: 3 + (4 - 1) * 5\n",
      "Tokens: ['3', '+', '(', '4', '-', '1', ')', '*', '5']\n"
     ]
    }
   ],
   "source": [
    "# 문제19\n",
    "import re\n",
    "\n",
    "def tokenize_math_expression(expression):\n",
    "    token_pattern = r'\\(|\\)|\\+|-|\\*|/|\\d+'\n",
    "    tokens = re.findall(token_pattern, expression)\n",
    "    return tokens\n",
    "\n",
    "expression = \"3 + (4 - 1) * 5\"\n",
    "tokens = tokenize_math_expression(expression)\n",
    "print(f\"Expression: {expression}\")\n",
    "print(f\"Tokens: {tokens}\")\n"
   ]
  },
  {
   "cell_type": "code",
   "execution_count": 20,
   "metadata": {},
   "outputs": [
    {
     "name": "stdout",
     "output_type": "stream",
     "text": [
      " B   I   N   G   O\n",
      " 8  30  31  48  74  \n",
      " 1  18  34  60  62  \n",
      "11  16  37  59  72  \n",
      "14  17  33  56  73  \n",
      "10  28  35  51  70  \n"
     ]
    }
   ],
   "source": [
    "# 문제20\n",
    "import random\n",
    "\n",
    "def generate_bingo_card():\n",
    "    card = {}\n",
    "    ranges = {'B': (1, 15), 'I': (16, 30), 'N': (31, 45), 'G': (46, 60), 'O': (61, 75)}\n",
    "    for letter, (start, end) in ranges.items():\n",
    "        card[letter] = random.sample(range(start, end+1), 5)\n",
    "    return card\n",
    "\n",
    "def display_bingo_card(card):\n",
    "    print(' B   I   N   G   O')\n",
    "    for i in range(5):\n",
    "        for letter in 'BINGO':\n",
    "            print(f'{card[letter][i]:>2}', end='  ')\n",
    "        print()\n",
    "\n",
    "# 빙고 카드 생성 및 표시\n",
    "bingo_card = generate_bingo_card()\n",
    "display_bingo_card(bingo_card)\n"
   ]
  },
  {
   "cell_type": "code",
   "execution_count": 21,
   "metadata": {},
   "outputs": [
    {
     "name": "stdout",
     "output_type": "stream",
     "text": [
      "True\n",
      "False\n",
      "True\n",
      "False\n"
     ]
    }
   ],
   "source": [
    "# 문제21\n",
    "def check_bingo(card):\n",
    "    # 가로줄 확인\n",
    "    for i in range(5):\n",
    "        if all(card[letter][i] == 0 for letter in 'BINGO'):\n",
    "            return True\n",
    "\n",
    "    # 세로줄 확인\n",
    "    for letter in 'BINGO':\n",
    "        if all(card[letter][i] == 0 for i in range(5)):\n",
    "            return True\n",
    "\n",
    "    # 대각선 확인 (왼쪽 상단에서 오른쪽 하단으로)\n",
    "    if all(card[letter][i] == 0 for i, letter in enumerate('BINGO')):\n",
    "        return True\n",
    "\n",
    "    # 대각선 확인 (오른쪽 상단에서 왼쪽 하단으로)\n",
    "    if all(card[letter][4-i] == 0 for i, letter in enumerate('BINGO')):\n",
    "        return True\n",
    "\n",
    "    return False\n",
    "\n",
    "# 테스트를 위한 빙고 카드 예시\n",
    "# 가로줄 당첨 예시\n",
    "bingo_card_horizontal = {\n",
    "    'B': [0, 1, 2, 3, 4],\n",
    "    'I': [0, 6, 7, 8, 9],\n",
    "    'N': [0, 3, 11, 12, 13],\n",
    "    'G': [0, 16, 17, 18, 19],\n",
    "    'O': [0, 21, 22, 23, 24]\n",
    "}\n",
    "\n",
    "# 세로줄 당첨 예시\n",
    "bingo_card_vertical = {\n",
    "    'B': [0, 1, 2, 3, 4],\n",
    "    'I': [5, 6, 7, 8, 9],\n",
    "    'N': [0, 5, 11, 12, 13],\n",
    "    'G': [0, 16, 17, 18, 19],\n",
    "    'O': [0, 21, 22, 23, 24]\n",
    "}\n",
    "\n",
    "# 대각선 당첨 예시\n",
    "bingo_card_diagonal = {\n",
    "    'B': [0, 1, 2, 3, 4],\n",
    "    'I': [5, 0, 7, 8, 9],\n",
    "    'N': [10, 11, 0, 12, 13],\n",
    "    'G': [14, 15, 16, 0, 18],\n",
    "    'O': [19, 20, 21, 22, 0]\n",
    "}\n",
    "\n",
    "# 당첨되지 않은 카드 예시\n",
    "bingo_card_not_winning = {\n",
    "    'B': [0, 1, 2, 3, 4],\n",
    "    'I': [5, 6, 7, 8, 9],\n",
    "    'N': [10, 11, 1, 12, 13],\n",
    "    'G': [14, 15, 16, 17, 18],\n",
    "    'O': [19, 20, 21, 22, 23]\n",
    "}\n",
    "\n",
    "# 함수 테스트\n",
    "print(check_bingo(bingo_card_horizontal))  # True가 예상됨\n",
    "print(check_bingo(bingo_card_vertical))    # False가 예상됨, 세로줄 완성이 아니기 때문\n",
    "print(check_bingo(bingo_card_diagonal))    # True가 예상됨\n",
    "print(check_bingo(bingo_card_not_winning)) # False가 예상됨\n"
   ]
  },
  {
   "cell_type": "code",
   "execution_count": 22,
   "metadata": {},
   "outputs": [
    {
     "name": "stdout",
     "output_type": "stream",
     "text": [
      "최소 호출 수: 14, 최대 호출 수: 65, 평균 호출 수: 43.14\n"
     ]
    }
   ],
   "source": [
    "# 문제22\n",
    "import random\n",
    "\n",
    "def generate_bingo_calls():\n",
    "    calls = []\n",
    "    for i in range(1, 76):\n",
    "        if i <= 15:\n",
    "            calls.append(f'B{i}')\n",
    "        elif i <= 30:\n",
    "            calls.append(f'I{i}')\n",
    "        elif i <= 45:\n",
    "            calls.append(f'N{i}')\n",
    "        elif i <= 60:\n",
    "            calls.append(f'G{i}')\n",
    "        else:\n",
    "            calls.append(f'O{i}')\n",
    "    random.shuffle(calls)\n",
    "    return calls\n",
    "\n",
    "def update_bingo_card(card, call):\n",
    "    letter, number = call[0], int(call[1:])\n",
    "    if letter in card and number in card[letter]:\n",
    "        index = card[letter].index(number)\n",
    "        card[letter][index] = 0\n",
    "\n",
    "def simulate_bingo_game():\n",
    "    card = generate_bingo_card()\n",
    "    calls = generate_bingo_calls()\n",
    "    for i, call in enumerate(calls, 1):\n",
    "        update_bingo_card(card, call)\n",
    "        if check_bingo(card):\n",
    "            return i\n",
    "    return None \n",
    "\n",
    "def simulate_n_games(n):\n",
    "    results = [simulate_bingo_game() for _ in range(n)]\n",
    "    return min(results), max(results), sum(results) / len(results)\n",
    "\n",
    "min_calls, max_calls, avg_calls = simulate_n_games(1000)\n",
    "print(f'최소 호출 수: {min_calls}, 최대 호출 수: {max_calls}, 평균 호출 수: {avg_calls:.2f}')"
   ]
  }
 ],
 "metadata": {
  "kernelspec": {
   "display_name": ".venv",
   "language": "python",
   "name": "python3"
  },
  "language_info": {
   "codemirror_mode": {
    "name": "ipython",
    "version": 3
   },
   "file_extension": ".py",
   "mimetype": "text/x-python",
   "name": "python",
   "nbconvert_exporter": "python",
   "pygments_lexer": "ipython3",
   "version": "3.11.8"
  }
 },
 "nbformat": 4,
 "nbformat_minor": 2
}
